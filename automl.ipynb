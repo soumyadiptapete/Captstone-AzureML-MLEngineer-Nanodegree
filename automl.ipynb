{
 "cells": [
  {
   "cell_type": "markdown",
   "metadata": {},
   "source": [
    "# Automated ML\n",
    "\n",
    "TODO: Import Dependencies. In the cell below, import all the dependencies that you will need to complete the project."
   ]
  },
  {
   "cell_type": "code",
   "execution_count": 1,
   "metadata": {
    "gather": {
     "logged": 1684479835108
    },
    "jupyter": {
     "outputs_hidden": false,
     "source_hidden": false
    },
    "nteract": {
     "transient": {
      "deleting": false
     }
    }
   },
   "outputs": [],
   "source": [
    "from azureml.core import Workspace, Experiment, Dataset\n",
    "from azureml.train.automl import AutoMLConfig"
   ]
  },
  {
   "cell_type": "markdown",
   "metadata": {},
   "source": [
    "## Dataset\n",
    "\n",
    "### Overview\n",
    "TODO: In this markdown cell, give an overview of the dataset you are using. Also mention the task you will be performing.\n",
    "\n",
    "\n",
    "TODO: Get data. In the cell below, write code to access the data you will be using in this project. Remember that the dataset needs to be external."
   ]
  },
  {
   "cell_type": "code",
   "execution_count": 2,
   "metadata": {
    "gather": {
     "logged": 1684479883354
    },
    "jupyter": {
     "outputs_hidden": false,
     "source_hidden": false
    },
    "nteract": {
     "transient": {
      "deleting": false
     }
    }
   },
   "outputs": [],
   "source": [
    "ws = Workspace.from_config()\n",
    "\n",
    "# choose a name for experiment\n",
    "experiment_name = 'Capstone-AutoML'\n",
    "\n",
    "exp=Experiment(ws, experiment_name)\n",
    "run=exp.start_logging()"
   ]
  },
  {
   "cell_type": "code",
   "execution_count": 3,
   "metadata": {
    "gather": {
     "logged": 1684480006812
    }
   },
   "outputs": [
    {
     "name": "stdout",
     "output_type": "stream",
     "text": [
      "InProgress..\n",
      "SucceededProvisioning operation finished, operation \"Succeeded\"\n",
      "Succeeded\n",
      "AmlCompute wait for completion finished\n",
      "\n",
      "Minimum number of nodes requested have been provisioned\n"
     ]
    }
   ],
   "source": [
    "#create compute cluster\n",
    "from azureml.core.compute import ComputeTarget, AmlCompute\n",
    "from azureml.core.compute_target import ComputeTargetException\n",
    "\n",
    "cluster_name = \"proj3cluster\"\n",
    "\n",
    "try:\n",
    "    cpu_cluster = ComputeTarget(workspace=ws, name=cluster_name)\n",
    "    print('Found existing cluster, use it.')\n",
    "except ComputeTargetException:\n",
    "    compute_config = AmlCompute.provisioning_configuration(vm_size='STANDARD_D2_V2',max_nodes=4)\n",
    "    cpu_cluster = ComputeTarget.create(ws, cluster_name, compute_config)\n",
    "\n",
    "cpu_cluster.wait_for_completion(show_output=True)"
   ]
  },
  {
   "cell_type": "code",
   "execution_count": 4,
   "metadata": {
    "gather": {
     "logged": 1684480018718
    },
    "jupyter": {
     "outputs_hidden": false,
     "source_hidden": false
    },
    "nteract": {
     "transient": {
      "deleting": false
     }
    }
   },
   "outputs": [],
   "source": [
    "# pima diabetes dataset\n",
    "train_ds = Dataset.get_by_name(ws, name='pima-diabetes')\n"
   ]
  },
  {
   "cell_type": "markdown",
   "metadata": {},
   "source": [
    "## AutoML Configuration\n",
    "\n",
    "TODO: Explain why you chose the automl settings and cofiguration you used below."
   ]
  },
  {
   "cell_type": "code",
   "execution_count": 6,
   "metadata": {
    "gather": {
     "logged": 1684480252923
    },
    "jupyter": {
     "outputs_hidden": false,
     "source_hidden": false
    },
    "nteract": {
     "transient": {
      "deleting": false
     }
    }
   },
   "outputs": [],
   "source": [
    "# TODO: Put your automl settings here\n",
    "automl_settings = {}\n",
    "\n",
    "# TODO: Put your automl config here\n",
    "automl_config = AutoMLConfig(\n",
    "    experiment_timeout_minutes=30,\n",
    "    task='classification',\n",
    "    primary_metric='accuracy',\n",
    "    training_data=train_ds,\n",
    "    label_column_name='Outcome',\n",
    "    n_cross_validations=5,\n",
    "    compute_target = cpu_cluster)"
   ]
  },
  {
   "cell_type": "code",
   "execution_count": 7,
   "metadata": {
    "gather": {
     "logged": 1684480262932
    },
    "jupyter": {
     "outputs_hidden": false,
     "source_hidden": false
    },
    "nteract": {
     "transient": {
      "deleting": false
     }
    }
   },
   "outputs": [
    {
     "name": "stdout",
     "output_type": "stream",
     "text": [
      "Submitting remote run.\n"
     ]
    },
    {
     "data": {
      "text/html": [
       "<table style=\"width:100%\"><tr><th>Experiment</th><th>Id</th><th>Type</th><th>Status</th><th>Details Page</th><th>Docs Page</th></tr><tr><td>Capstone-AutoML</td><td>AutoML_6fbd8108-694c-4c0f-b574-162150ee33a4</td><td>automl</td><td>NotStarted</td><td><a href=\"https://ml.azure.com/runs/AutoML_6fbd8108-694c-4c0f-b574-162150ee33a4?wsid=/subscriptions/9e65f93e-bdd8-437b-b1e8-0647cd6098f7/resourcegroups/aml-quickstarts-233997/workspaces/quick-starts-ws-233997&amp;tid=660b3398-b80e-49d2-bc5b-ac1dc93b5254\" target=\"_blank\" rel=\"noopener\">Link to Azure Machine Learning studio</a></td><td><a href=\"https://docs.microsoft.com/en-us/python/api/overview/azure/ml/intro?view=azure-ml-py\" target=\"_blank\" rel=\"noopener\">Link to Documentation</a></td></tr></table>"
      ],
      "text/plain": [
       "<IPython.core.display.HTML object>"
      ]
     },
     "metadata": {},
     "output_type": "display_data"
    }
   ],
   "source": [
    "# TODO: Submit your experiment\n",
    "remote_run = exp.submit(automl_config)"
   ]
  },
  {
   "cell_type": "markdown",
   "metadata": {},
   "source": [
    "## Run Details\n",
    "\n",
    "OPTIONAL: Write about the different models trained and their performance. Why do you think some models did better than others?\n",
    "\n",
    "TODO: In the cell below, use the `RunDetails` widget to show the different experiments."
   ]
  },
  {
   "cell_type": "code",
   "execution_count": 8,
   "metadata": {
    "gather": {
     "logged": 1684480324065
    },
    "jupyter": {
     "outputs_hidden": false,
     "source_hidden": false
    },
    "nteract": {
     "transient": {
      "deleting": false
     }
    }
   },
   "outputs": [
    {
     "data": {
      "application/vnd.jupyter.widget-view+json": {
       "model_id": "7495af3a4cee4eb1b77c21ab107b5417",
       "version_major": 2,
       "version_minor": 0
      },
      "text/plain": [
       "_AutoMLWidget(widget_settings={'childWidgetDisplay': 'popup', 'send_telemetry': False, 'log_level': 'INFO', 's…"
      ]
     },
     "metadata": {},
     "output_type": "display_data"
    },
    {
     "data": {
      "application/aml.mini.widget.v1": "{\"status\": \"Completed\", \"workbench_run_details_uri\": \"https://ml.azure.com/runs/AutoML_6fbd8108-694c-4c0f-b574-162150ee33a4?wsid=/subscriptions/9e65f93e-bdd8-437b-b1e8-0647cd6098f7/resourcegroups/aml-quickstarts-233997/workspaces/quick-starts-ws-233997&tid=660b3398-b80e-49d2-bc5b-ac1dc93b5254\", \"run_id\": \"AutoML_6fbd8108-694c-4c0f-b574-162150ee33a4\", \"run_properties\": {\"run_id\": \"AutoML_6fbd8108-694c-4c0f-b574-162150ee33a4\", \"created_utc\": \"2023-05-19T07:11:01.192447Z\", \"properties\": {\"num_iterations\": \"1000\", \"training_type\": \"TrainFull\", \"acquisition_function\": \"EI\", \"primary_metric\": \"accuracy\", \"train_split\": \"0\", \"acquisition_parameter\": \"0\", \"num_cross_validation\": \"5\", \"target\": \"proj3cluster\", \"AMLSettingsJsonString\": \"{\\\"path\\\":null,\\\"name\\\":\\\"Capstone-AutoML\\\",\\\"subscription_id\\\":\\\"9e65f93e-bdd8-437b-b1e8-0647cd6098f7\\\",\\\"resource_group\\\":\\\"aml-quickstarts-233997\\\",\\\"workspace_name\\\":\\\"quick-starts-ws-233997\\\",\\\"region\\\":\\\"westus2\\\",\\\"compute_target\\\":\\\"proj3cluster\\\",\\\"spark_service\\\":null,\\\"azure_service\\\":\\\"remote\\\",\\\"many_models\\\":false,\\\"pipeline_fetch_max_batch_size\\\":1,\\\"enable_batch_run\\\":true,\\\"enable_parallel_run\\\":false,\\\"num_procs\\\":null,\\\"enable_run_restructure\\\":false,\\\"start_auxiliary_runs_before_parent_complete\\\":false,\\\"enable_code_generation\\\":true,\\\"iterations\\\":1000,\\\"primary_metric\\\":\\\"accuracy\\\",\\\"task_type\\\":\\\"classification\\\",\\\"positive_label\\\":null,\\\"data_script\\\":null,\\\"test_size\\\":0.0,\\\"test_include_predictions_only\\\":false,\\\"validation_size\\\":0.0,\\\"n_cross_validations\\\":5,\\\"y_min\\\":null,\\\"y_max\\\":null,\\\"num_classes\\\":null,\\\"featurization\\\":\\\"auto\\\",\\\"_ignore_package_version_incompatibilities\\\":false,\\\"is_timeseries\\\":false,\\\"max_cores_per_iteration\\\":1,\\\"max_concurrent_iterations\\\":1,\\\"iteration_timeout_minutes\\\":null,\\\"mem_in_mb\\\":null,\\\"enforce_time_on_windows\\\":false,\\\"experiment_timeout_minutes\\\":30,\\\"experiment_exit_score\\\":null,\\\"partition_column_names\\\":null,\\\"whitelist_models\\\":null,\\\"blacklist_algos\\\":[\\\"TensorFlowLinearClassifier\\\",\\\"TensorFlowDNN\\\"],\\\"supported_models\\\":[\\\"SGD\\\",\\\"KNN\\\",\\\"XGBoostClassifier\\\",\\\"GradientBoosting\\\",\\\"TabnetClassifier\\\",\\\"LogisticRegression\\\",\\\"TensorFlowLinearClassifier\\\",\\\"LightGBM\\\",\\\"MultinomialNaiveBayes\\\",\\\"BernoulliNaiveBayes\\\",\\\"ExtremeRandomTrees\\\",\\\"TensorFlowDNN\\\",\\\"AveragedPerceptronClassifier\\\",\\\"LinearSVM\\\",\\\"SVM\\\",\\\"RandomForest\\\",\\\"DecisionTree\\\"],\\\"private_models\\\":[],\\\"auto_blacklist\\\":true,\\\"blacklist_samples_reached\\\":false,\\\"exclude_nan_labels\\\":true,\\\"verbosity\\\":20,\\\"_debug_log\\\":\\\"azureml_automl.log\\\",\\\"show_warnings\\\":false,\\\"model_explainability\\\":true,\\\"service_url\\\":null,\\\"sdk_url\\\":null,\\\"sdk_packages\\\":null,\\\"enable_onnx_compatible_models\\\":false,\\\"enable_split_onnx_featurizer_estimator_models\\\":false,\\\"vm_type\\\":\\\"STANDARD_D2_V2\\\",\\\"telemetry_verbosity\\\":20,\\\"send_telemetry\\\":true,\\\"enable_dnn\\\":false,\\\"scenario\\\":\\\"AutoML\\\",\\\"environment_label\\\":null,\\\"save_mlflow\\\":false,\\\"enable_categorical_indicators\\\":false,\\\"force_text_dnn\\\":false,\\\"enable_feature_sweeping\\\":true,\\\"enable_early_stopping\\\":true,\\\"early_stopping_n_iters\\\":10,\\\"arguments\\\":null,\\\"dataset_id\\\":\\\"c2ee2287-40c4-411e-b0e0-1def027834bf\\\",\\\"hyperdrive_config\\\":null,\\\"validation_dataset_id\\\":null,\\\"run_source\\\":null,\\\"metrics\\\":null,\\\"enable_metric_confidence\\\":false,\\\"enable_ensembling\\\":true,\\\"enable_stack_ensembling\\\":true,\\\"ensemble_iterations\\\":15,\\\"enable_tf\\\":false,\\\"enable_subsampling\\\":null,\\\"subsample_seed\\\":null,\\\"enable_nimbusml\\\":false,\\\"enable_streaming\\\":false,\\\"force_streaming\\\":false,\\\"track_child_runs\\\":true,\\\"n_best_runs\\\":1,\\\"allowed_private_models\\\":[],\\\"label_column_name\\\":\\\"Outcome\\\",\\\"weight_column_name\\\":null,\\\"cv_split_column_names\\\":null,\\\"enable_local_managed\\\":false,\\\"_local_managed_run_id\\\":null,\\\"cost_mode\\\":1,\\\"lag_length\\\":0,\\\"metric_operation\\\":\\\"maximize\\\",\\\"preprocess\\\":true}\", \"DataPrepJsonString\": \"{\\\\\\\"training_data\\\\\\\": {\\\\\\\"datasetId\\\\\\\": \\\\\\\"c2ee2287-40c4-411e-b0e0-1def027834bf\\\\\\\"}, \\\\\\\"datasets\\\\\\\": 0}\", \"EnableSubsampling\": null, \"runTemplate\": \"AutoML\", \"azureml.runsource\": \"automl\", \"display_task_type\": \"classification\", \"dependencies_versions\": \"{\\\"azureml-widgets\\\": \\\"1.49.0\\\", \\\"azureml-training-tabular\\\": \\\"1.49.0\\\", \\\"azureml-train\\\": \\\"1.49.0\\\", \\\"azureml-train-restclients-hyperdrive\\\": \\\"1.49.0\\\", \\\"azureml-train-core\\\": \\\"1.49.0\\\", \\\"azureml-train-automl\\\": \\\"1.49.0\\\", \\\"azureml-train-automl-runtime\\\": \\\"1.49.0\\\", \\\"azureml-train-automl-client\\\": \\\"1.49.0\\\", \\\"azureml-tensorboard\\\": \\\"1.49.0\\\", \\\"azureml-telemetry\\\": \\\"1.49.0\\\", \\\"azureml-sdk\\\": \\\"1.49.0\\\", \\\"azureml-responsibleai\\\": \\\"1.49.0\\\", \\\"azureml-pipeline\\\": \\\"1.49.0\\\", \\\"azureml-pipeline-steps\\\": \\\"1.49.0\\\", \\\"azureml-pipeline-core\\\": \\\"1.49.0\\\", \\\"azureml-opendatasets\\\": \\\"1.49.0\\\", \\\"azureml-mlflow\\\": \\\"1.49.0\\\", \\\"azureml-interpret\\\": \\\"1.49.0\\\", \\\"azureml-inference-server-http\\\": \\\"0.8.0\\\", \\\"azureml-explain-model\\\": \\\"1.49.0\\\", \\\"azureml-defaults\\\": \\\"1.49.0\\\", \\\"azureml-dataset-runtime\\\": \\\"1.49.0\\\", \\\"azureml-dataprep\\\": \\\"4.9.1\\\", \\\"azureml-dataprep-rslex\\\": \\\"2.16.1\\\", \\\"azureml-dataprep-native\\\": \\\"38.0.0\\\", \\\"azureml-datadrift\\\": \\\"1.49.0\\\", \\\"azureml-core\\\": \\\"1.49.0\\\", \\\"azureml-contrib-services\\\": \\\"1.49.0\\\", \\\"azureml-contrib-server\\\": \\\"1.49.0\\\", \\\"azureml-contrib-reinforcementlearning\\\": \\\"1.49.0\\\", \\\"azureml-contrib-pipeline-steps\\\": \\\"1.49.0\\\", \\\"azureml-contrib-notebook\\\": \\\"1.49.0\\\", \\\"azureml-contrib-fairness\\\": \\\"1.49.0\\\", \\\"azureml-contrib-dataset\\\": \\\"1.49.0\\\", \\\"azureml-contrib-automl-pipeline-steps\\\": \\\"1.49.0\\\", \\\"azureml-cli-common\\\": \\\"1.49.0\\\", \\\"azureml-automl-runtime\\\": \\\"1.49.0\\\", \\\"azureml-automl-dnn-nlp\\\": \\\"1.49.0\\\", \\\"azureml-automl-core\\\": \\\"1.49.0\\\", \\\"azureml-accel-models\\\": \\\"1.49.0\\\"}\", \"_aml_system_scenario_identification\": \"Remote.Parent\", \"ClientType\": \"SDK\", \"PlatformVersion\": \"DPV1\", \"environment_cpu_name\": \"AzureML-AutoML\", \"environment_cpu_label\": \"prod\", \"environment_gpu_name\": \"AzureML-AutoML-GPU\", \"environment_gpu_label\": \"prod\", \"root_attribution\": \"automl\", \"attribution\": \"AutoML\", \"Orchestrator\": \"AutoML\", \"CancelUri\": \"https://westus2.api.azureml.ms/jasmine/v1.0/subscriptions/9e65f93e-bdd8-437b-b1e8-0647cd6098f7/resourceGroups/aml-quickstarts-233997/providers/Microsoft.MachineLearningServices/workspaces/quick-starts-ws-233997/experimentids/3f9ebf87-3592-4edb-a1bd-fbe949292e5f/cancel/AutoML_6fbd8108-694c-4c0f-b574-162150ee33a4\", \"ClientSdkVersion\": null, \"snapshotId\": \"00000000-0000-0000-0000-000000000000\", \"SetupRunId\": \"AutoML_6fbd8108-694c-4c0f-b574-162150ee33a4_setup\", \"SetupRunContainerId\": \"dcid.AutoML_6fbd8108-694c-4c0f-b574-162150ee33a4_setup\", \"FeaturizationRunJsonPath\": \"featurizer_container.json\", \"FeaturizationRunId\": \"AutoML_6fbd8108-694c-4c0f-b574-162150ee33a4_featurize\", \"ProblemInfoJsonString\": \"{\\\"dataset_num_categorical\\\": 0, \\\"is_sparse\\\": true, \\\"subsampling\\\": false, \\\"has_extra_col\\\": true, \\\"dataset_classes\\\": 2, \\\"dataset_features\\\": 24, \\\"dataset_samples\\\": 768, \\\"single_frequency_class_detected\\\": false}\", \"ModelExplainRunId\": \"AutoML_6fbd8108-694c-4c0f-b574-162150ee33a4_ModelExplain\"}, \"tags\": {\"model_explain_run\": \"best_run\", \"_aml_system_automl_run_workspace_id\": \"37d55cc2-1b50-4d6f-9925-345bc5f64b12\", \"_aml_system_azureml.automlComponent\": \"AutoML\", \"pipeline_id_000\": \"5dfac790c5c209f98a1da2dc1c7fb76f0397324f;c7af0367625be6ac5c2fecbfc72ed444cb7a2111;799d2168db11fc19b9e1c6c1df62f8981ad39fe9;44b5d2d23120dfcf96a7dc6389a293d17a966b1b;3735210984ea10097d5c91905cf6300ac278cd89;5304e705d6f401cb07f85bcf0ca59ac1f84dfcf5;294650ec23bc3d067a4972de7ceb12f6e97260fa;3caa818370e5e0c328d6266c359019bd31681270;79ebb3b8c385e3190e3dd4c1fa28b74730528045;589334a57221e0720a95cf217c065115a7b841d1;5a8eb9d9f67b1dd7e9e4062585daa2417ea78989;35b8e2db3c5f6e714072e1be9f0210fe48426975;da45f657e4591caadf1589a85a1f7b8932585595;797e3e972ad02d947be4c64d2b06b775b6df7a49;3fd2e115482e0c7b92aa3297688aefb6c3aa6fb8;1dfdf370ba770047b14bfa59c40920815defcdab;5235e3d56688f5f38ef82d73fba7c2e698fc1af2;17f87d449bb43aaf3cdae4b7eb6dd6e7fbdaf343;dc68fbd594530b5d52812dd9b3ffa3d6d8ba625e;2032292dd602836ed754a266c771ac100c4c80dc;fedbb4995d6de479c513576119965d71276f03d1;e478544eb8734c07a1943f5bdf4e6605be6943df;8d6cf3e6f4331d0d81d9c1db48ceda8fada5f519;a1a8a8d721a4a21920496cad156c2cb8a18be08a;3f87693e8822b5543aab10f52f57857916d67b87;b3bf60ed73789369ad38365560b6ad840d9179da;7c1fb2881971fcd87d0cb05473305054268e0bf2;a0e3f2b4433df916ffaef437d2dc8fc25e5f66df;f3d88422298caf291fbd5da59ee587358faff71f;a03f74ad3fa1045018b50dce74757b7ddc0f8966;288aa8f20e72482ec889bc5c8e4cd2b0b7a12f4b;0c6657d7064445aaa39ecde2145d478194503803;e1605b9a372105a03fb41da071a76ef249fc238d;ac634103bad735fb02bee108c1946b3d0607c503;2bd4e428ea9ad155a8de0658f64c9b108438770e;f11ca792f48c63b6790bca9013e7a4a84cf9d4a4;9be353580d1638df4fab128f418e354638df5a8a;__AutoML_Ensemble__;__AutoML_Stack_Ensemble__\", \"score_000\": \"0.7461420932009167;0.7500381970970207;0.7148034971564383;0.6784568372803668;0.7604787369493251;0.7227739580680757;0.7513708513708514;0.7708853238265002;0.6511416687887276;0.75007215007215;0.6784568372803667;0.7604532722179781;0.7695951107715814;0.6888040064510653;0.7682709447415329;0.7005941770647653;0.7656735421441303;0.7448688566335624;0.7656820303879128;0.7213564213564214;0.7435701553348611;0.7500127323656736;0.7031661149308208;0.712282488753077;0.7422799422799422;0.4491893727187845;0.7747644512350395;0.6563449622273152;0.7644087938205585;0.6511416687887276;0.6511416687887276;0.7539512774806891;0.7578898225957049;0.7656395891690009;0.752610134963076;0.6680502504031915;0.7149308208131737;0.7813003989474577;0.7747814277226042\", \"predicted_cost_000\": \"0;0;0.5;0.5;0.5;0.5;0.5;0.5;0.5;0.5;0.5;0.5;0.5;0.5;0.5;0.5;0.5;0.5;0.5;0.5;0.4591671898577833;0.06873326251837814;0.10143307042265916;0.0914094686849675;0.01880447287174892;0.029031247885922783;0.07863518514118259;0.5729455974819101;0.014764462830288748;0.1937033603146939;0.15627190677001745;0.02402024838270513;0.0707519876489285;0.01604194379176453;0.058437732932066694;0.2293282461517061;0.041694502132675185;0;0\", \"fit_time_000\": \"0.079813;0.18354160000000003;0.3099766;0.034046599999999996;0.0266668;0.033735799999999996;0.030243199999999998;0.038398800000000004;0.05984659999999999;0.0315184;0.018484800000000003;0.0318826;0.12431339999999999;0.006597400000000001;0.034963799999999996;0.3718134;0.0915888;0.10864120000000002;0.07449019999999999;0.4162808;0.7307634000000001;0.0383588;0.14135599999999998;0.0351284;0.013516400000000001;0.0050799999999999994;0.0407694;0.9462109999999999;0.0217908;0.25712080000000004;0.019147599999999997;0.031076799999999998;0.08304339999999999;0.018063199999999998;0.0329074;0.12306140000000002;0.012294;25;29\", \"training_percent_000\": \"100;100;100;100;100;100;100;100;100;100;100;100;100;100;100;100;100;100;100;100;100;100;100;100;100;100;100;100;100;100;100;100;100;100;100;100;100;100;100\", \"iteration_000\": \"0;1;2;3;4;5;6;7;8;9;10;11;12;13;14;15;16;17;18;19;20;21;22;23;24;25;26;27;28;29;30;31;32;33;34;35;36;37;38\", \"run_preprocessor_000\": \"MaxAbsScaler;MaxAbsScaler;MaxAbsScaler;SparseNormalizer;MaxAbsScaler;MaxAbsScaler;StandardScalerWrapper;MaxAbsScaler;StandardScalerWrapper;StandardScalerWrapper;SparseNormalizer;StandardScalerWrapper;MaxAbsScaler;MaxAbsScaler;StandardScalerWrapper;SparseNormalizer;StandardScalerWrapper;StandardScalerWrapper;StandardScalerWrapper;TruncatedSVDWrapper;TruncatedSVDWrapper;StandardScalerWrapper;SparseNormalizer;SparseNormalizer;StandardScalerWrapper;MaxAbsScaler;StandardScalerWrapper;SparseNormalizer;MaxAbsScaler;MaxAbsScaler;SparseNormalizer;StandardScalerWrapper;StandardScalerWrapper;MaxAbsScaler;StandardScalerWrapper;TruncatedSVDWrapper;MaxAbsScaler;;\", \"run_algorithm_000\": \"LightGBM;XGBoostClassifier;ExtremeRandomTrees;XGBoostClassifier;LightGBM;LightGBM;XGBoostClassifier;LogisticRegression;ExtremeRandomTrees;XGBoostClassifier;LightGBM;XGBoostClassifier;LogisticRegression;SGD;XGBoostClassifier;RandomForest;LogisticRegression;RandomForest;XGBoostClassifier;RandomForest;RandomForest;XGBoostClassifier;XGBoostClassifier;XGBoostClassifier;LightGBM;LogisticRegression;LogisticRegression;ExtremeRandomTrees;LightGBM;ExtremeRandomTrees;LogisticRegression;LightGBM;ExtremeRandomTrees;LinearSVM;LightGBM;LogisticRegression;LightGBM;VotingEnsemble;StackEnsemble\", \"dynamic_allowlisting_iterations\": \"<25>;<30>;<35>;\", \"_aml_system_azureml.automl_early_exit_message\": \"No scores improved over last 10 iterations, so experiment stopped early. This early stopping behavior can be disabled by setting enable_early_stopping = False in AutoMLConfig for notebook/python SDK runs.\", \"automl_best_child_run_id\": \"AutoML_6fbd8108-694c-4c0f-b574-162150ee33a4_37\", \"model_explain_best_run_child_id\": \"AutoML_6fbd8108-694c-4c0f-b574-162150ee33a4_37\"}, \"end_time_utc\": \"2023-05-19T07:41:24.344Z\", \"status\": \"Completed\", \"log_files\": {}, \"log_groups\": [], \"run_duration\": \"0:30:23\", \"run_number\": \"1684480261\", \"run_queued_details\": {\"status\": \"Completed\", \"details\": null}}, \"child_runs\": [{\"run_id\": \"AutoML_6fbd8108-694c-4c0f-b574-162150ee33a4_setup\", \"run_number\": 1684480274, \"metric\": null, \"status\": \"Completed\", \"run_type\": \"azureml.scriptrun\", \"training_percent\": null, \"start_time\": \"2023-05-19T07:14:21.515772Z\", \"end_time\": \"2023-05-19T07:16:33.636747Z\", \"created_time\": \"2023-05-19T07:11:14.807568Z\", \"created_time_dt\": \"2023-05-19T07:11:14.807568Z\", \"duration\": \"0:05:18\", \"iteration\": null, \"goal\": null, \"run_name\": \"Completed\", \"run_properties\": null}, {\"run_id\": \"AutoML_6fbd8108-694c-4c0f-b574-162150ee33a4_featurize\", \"run_number\": 1684480593, \"metric\": null, \"status\": \"Completed\", \"run_type\": \"automl.featurization\", \"training_percent\": null, \"start_time\": \"2023-05-19T07:16:34.253798Z\", \"end_time\": \"2023-05-19T07:18:06.413589Z\", \"created_time\": \"2023-05-19T07:16:33.931703Z\", \"created_time_dt\": \"2023-05-19T07:16:33.931703Z\", \"duration\": \"0:01:32\", \"iteration\": null, \"goal\": null, \"run_name\": \"Completed\", \"run_properties\": null}, {\"run_id\": \"AutoML_6fbd8108-694c-4c0f-b574-162150ee33a4_0\", \"run_number\": 1684480687, \"metric\": null, \"status\": \"Completed\", \"run_type\": null, \"training_percent\": \"100\", \"start_time\": \"2023-05-19T07:18:39.317238Z\", \"end_time\": \"2023-05-19T07:18:54.574132Z\", \"created_time\": \"2023-05-19T07:18:07.918755Z\", \"created_time_dt\": \"2023-05-19T07:18:07.918755Z\", \"duration\": \"0:00:46\", \"iteration\": \"0\", \"goal\": \"accuracy_max\", \"run_name\": \"MaxAbsScaler, LightGBM\", \"run_properties\": \"copy=True\", \"primary_metric\": 0.74614209, \"best_metric\": 0.74614209}, {\"run_id\": \"AutoML_6fbd8108-694c-4c0f-b574-162150ee33a4_1\", \"run_number\": 1684480688, \"metric\": null, \"status\": \"Completed\", \"run_type\": null, \"training_percent\": \"100\", \"start_time\": \"2023-05-19T07:18:54.975301Z\", \"end_time\": \"2023-05-19T07:19:07.981692Z\", \"created_time\": \"2023-05-19T07:18:08.450654Z\", \"created_time_dt\": \"2023-05-19T07:18:08.450654Z\", \"duration\": \"0:00:59\", \"iteration\": \"1\", \"goal\": \"accuracy_max\", \"run_name\": \"MaxAbsScaler, XGBoostClassifier\", \"run_properties\": \"copy=True\", \"primary_metric\": 0.7500382, \"best_metric\": 0.7500382}, {\"run_id\": \"AutoML_6fbd8108-694c-4c0f-b574-162150ee33a4_3\", \"run_number\": 1684480689, \"metric\": null, \"status\": \"Completed\", \"run_type\": null, \"training_percent\": \"100\", \"start_time\": \"2023-05-19T07:19:22.710638Z\", \"end_time\": \"2023-05-19T07:19:34.639364Z\", \"created_time\": \"2023-05-19T07:18:09.510476Z\", \"created_time_dt\": \"2023-05-19T07:18:09.510476Z\", \"duration\": \"0:01:25\", \"iteration\": \"3\", \"goal\": \"accuracy_max\", \"run_name\": \"SparseNormalizer, XGBoostClassifier\", \"run_properties\": \"copy=True, norm='l2'\", \"primary_metric\": 0.67845684, \"best_metric\": 0.7500382}, {\"run_id\": \"AutoML_6fbd8108-694c-4c0f-b574-162150ee33a4_5\", \"run_number\": 1684480690, \"metric\": null, \"status\": \"Completed\", \"run_type\": null, \"training_percent\": \"100\", \"start_time\": \"2023-05-19T07:19:47.546733Z\", \"end_time\": \"2023-05-19T07:19:59.32716Z\", \"created_time\": \"2023-05-19T07:18:10.512563Z\", \"created_time_dt\": \"2023-05-19T07:18:10.512563Z\", \"duration\": \"0:01:48\", \"iteration\": \"5\", \"goal\": \"accuracy_max\", \"run_name\": \"MaxAbsScaler, LightGBM\", \"run_properties\": \"copy=True\", \"primary_metric\": 0.72277396, \"best_metric\": 0.7500382}, {\"run_id\": \"AutoML_6fbd8108-694c-4c0f-b574-162150ee33a4_6\", \"run_number\": 1684480691, \"metric\": null, \"status\": \"Completed\", \"run_type\": null, \"training_percent\": \"100\", \"start_time\": \"2023-05-19T07:19:59.759678Z\", \"end_time\": \"2023-05-19T07:20:11.796341Z\", \"created_time\": \"2023-05-19T07:18:10.997067Z\", \"created_time_dt\": \"2023-05-19T07:18:10.997067Z\", \"duration\": \"0:02:00\", \"iteration\": \"6\", \"goal\": \"accuracy_max\", \"run_name\": \"StandardScalerWrapper, XGBoostClassifier\", \"run_properties\": \"copy=True, with_mean=False, with_std=False\", \"primary_metric\": 0.75137085, \"best_metric\": 0.75137085}, {\"run_id\": \"AutoML_6fbd8108-694c-4c0f-b574-162150ee33a4_8\", \"run_number\": 1684480692, \"metric\": null, \"status\": \"Completed\", \"run_type\": null, \"training_percent\": \"100\", \"start_time\": \"2023-05-19T07:20:25.01684Z\", \"end_time\": \"2023-05-19T07:20:37.528507Z\", \"created_time\": \"2023-05-19T07:18:12.052495Z\", \"created_time_dt\": \"2023-05-19T07:18:12.052495Z\", \"duration\": \"0:02:25\", \"iteration\": \"8\", \"goal\": \"accuracy_max\", \"run_name\": \"StandardScalerWrapper, ExtremeRandomTrees\", \"run_properties\": \"copy=True, with_mean=False, with_std=False\", \"primary_metric\": 0.65114167, \"best_metric\": 0.75137085}, {\"run_id\": \"AutoML_6fbd8108-694c-4c0f-b574-162150ee33a4_11\", \"run_number\": 1684480693, \"metric\": null, \"status\": \"Completed\", \"run_type\": null, \"training_percent\": \"100\", \"start_time\": \"2023-05-19T07:21:03.354367Z\", \"end_time\": \"2023-05-19T07:21:15.628069Z\", \"created_time\": \"2023-05-19T07:18:13.429603Z\", \"created_time_dt\": \"2023-05-19T07:18:13.429603Z\", \"duration\": \"0:03:02\", \"iteration\": \"11\", \"goal\": \"accuracy_max\", \"run_name\": \"StandardScalerWrapper, XGBoostClassifier\", \"run_properties\": \"copy=True, with_mean=False, with_std=False\", \"primary_metric\": 0.76045327, \"best_metric\": 0.76045327}, {\"run_id\": \"AutoML_6fbd8108-694c-4c0f-b574-162150ee33a4_13\", \"run_number\": 1684480694, \"metric\": null, \"status\": \"Completed\", \"run_type\": null, \"training_percent\": \"100\", \"start_time\": \"2023-05-19T07:21:29.407916Z\", \"end_time\": \"2023-05-19T07:21:41.398796Z\", \"created_time\": \"2023-05-19T07:18:14.459574Z\", \"created_time_dt\": \"2023-05-19T07:18:14.459574Z\", \"duration\": \"0:03:26\", \"iteration\": \"13\", \"goal\": \"accuracy_max\", \"run_name\": \"MaxAbsScaler, SGD\", \"run_properties\": \"copy=True\", \"primary_metric\": 0.68880401, \"best_metric\": 0.76045327}, {\"run_id\": \"AutoML_6fbd8108-694c-4c0f-b574-162150ee33a4_15\", \"run_number\": 1684480695, \"metric\": null, \"status\": \"Completed\", \"run_type\": null, \"training_percent\": \"100\", \"start_time\": \"2023-05-19T07:21:54.612947Z\", \"end_time\": \"2023-05-19T07:22:08.71368Z\", \"created_time\": \"2023-05-19T07:18:15.416887Z\", \"created_time_dt\": \"2023-05-19T07:18:15.416887Z\", \"duration\": \"0:03:53\", \"iteration\": \"15\", \"goal\": \"accuracy_max\", \"run_name\": \"SparseNormalizer, RandomForest\", \"run_properties\": \"copy=True, norm='l2'\", \"primary_metric\": 0.70059418, \"best_metric\": 0.76045327}, {\"run_id\": \"AutoML_6fbd8108-694c-4c0f-b574-162150ee33a4_17\", \"run_number\": 1684480696, \"metric\": null, \"status\": \"Completed\", \"run_type\": null, \"training_percent\": \"100\", \"start_time\": \"2023-05-19T07:22:21.707669Z\", \"end_time\": \"2023-05-19T07:22:35.435698Z\", \"created_time\": \"2023-05-19T07:18:16.397992Z\", \"created_time_dt\": \"2023-05-19T07:18:16.397992Z\", \"duration\": \"0:04:19\", \"iteration\": \"17\", \"goal\": \"accuracy_max\", \"run_name\": \"StandardScalerWrapper, RandomForest\", \"run_properties\": \"copy=True, with_mean=False, with_std=False\", \"primary_metric\": 0.74486886, \"best_metric\": 0.76045327}, {\"run_id\": \"AutoML_6fbd8108-694c-4c0f-b574-162150ee33a4_worker_0\", \"run_number\": 1684480697, \"metric\": null, \"status\": \"Completed\", \"run_type\": \"azureml.scriptrun\", \"training_percent\": null, \"start_time\": \"2023-05-19T07:18:27.831314Z\", \"end_time\": \"2023-05-19T07:23:15.084242Z\", \"created_time\": \"2023-05-19T07:18:17.630393Z\", \"created_time_dt\": \"2023-05-19T07:18:17.630393Z\", \"duration\": \"0:04:57\", \"iteration\": null, \"goal\": null, \"run_name\": \"Completed\", \"run_properties\": null}, {\"run_id\": \"AutoML_6fbd8108-694c-4c0f-b574-162150ee33a4_20\", \"run_number\": 1684481166, \"metric\": null, \"status\": \"Completed\", \"run_type\": \"azureml.scriptrun\", \"training_percent\": \"100\", \"start_time\": \"2023-05-19T07:26:21.36842Z\", \"end_time\": \"2023-05-19T07:26:59.564618Z\", \"created_time\": \"2023-05-19T07:26:06.552616Z\", \"created_time_dt\": \"2023-05-19T07:26:06.552616Z\", \"duration\": \"0:00:53\", \"iteration\": \"20\", \"goal\": \"accuracy_max\", \"run_name\": \"TruncatedSVDWrapper, RandomForest\", \"run_properties\": \"n_components=0.7026315789473684, random_state=None\", \"primary_metric\": 0.74357016, \"best_metric\": 0.76045327}, {\"run_id\": \"AutoML_6fbd8108-694c-4c0f-b574-162150ee33a4_21\", \"run_number\": 1684481221, \"metric\": null, \"status\": \"Completed\", \"run_type\": \"azureml.scriptrun\", \"training_percent\": \"100\", \"start_time\": \"2023-05-19T07:27:08.636752Z\", \"end_time\": \"2023-05-19T07:27:42.802602Z\", \"created_time\": \"2023-05-19T07:27:01.040101Z\", \"created_time_dt\": \"2023-05-19T07:27:01.040101Z\", \"duration\": \"0:00:41\", \"iteration\": \"21\", \"goal\": \"accuracy_max\", \"run_name\": \"StandardScalerWrapper, XGBoostClassifier\", \"run_properties\": \"copy=True, with_mean=False, with_std=False\", \"primary_metric\": 0.75001273, \"best_metric\": 0.76045327}, {\"run_id\": \"AutoML_6fbd8108-694c-4c0f-b574-162150ee33a4_22\", \"run_number\": 1684481264, \"metric\": null, \"status\": \"Completed\", \"run_type\": \"azureml.scriptrun\", \"training_percent\": \"100\", \"start_time\": \"2023-05-19T07:27:52.073497Z\", \"end_time\": \"2023-05-19T07:28:26.701695Z\", \"created_time\": \"2023-05-19T07:27:44.116095Z\", \"created_time_dt\": \"2023-05-19T07:27:44.116095Z\", \"duration\": \"0:00:42\", \"iteration\": \"22\", \"goal\": \"accuracy_max\", \"run_name\": \"SparseNormalizer, XGBoostClassifier\", \"run_properties\": \"copy=True, norm='l1'\", \"primary_metric\": 0.70316611, \"best_metric\": 0.76045327}, {\"run_id\": \"AutoML_6fbd8108-694c-4c0f-b574-162150ee33a4_23\", \"run_number\": 1684481307, \"metric\": null, \"status\": \"Completed\", \"run_type\": \"azureml.scriptrun\", \"training_percent\": \"100\", \"start_time\": \"2023-05-19T07:28:38.624027Z\", \"end_time\": \"2023-05-19T07:29:11.142294Z\", \"created_time\": \"2023-05-19T07:28:27.856249Z\", \"created_time_dt\": \"2023-05-19T07:28:27.856249Z\", \"duration\": \"0:00:43\", \"iteration\": \"23\", \"goal\": \"accuracy_max\", \"run_name\": \"SparseNormalizer, XGBoostClassifier\", \"run_properties\": \"copy=True, norm='l1'\", \"primary_metric\": 0.71228249, \"best_metric\": 0.76045327}, {\"run_id\": \"AutoML_6fbd8108-694c-4c0f-b574-162150ee33a4_24\", \"run_number\": 1684481352, \"metric\": null, \"status\": \"Completed\", \"run_type\": \"azureml.scriptrun\", \"training_percent\": \"100\", \"start_time\": \"2023-05-19T07:29:23.040876Z\", \"end_time\": \"2023-05-19T07:29:56.495323Z\", \"created_time\": \"2023-05-19T07:29:12.477123Z\", \"created_time_dt\": \"2023-05-19T07:29:12.477123Z\", \"duration\": \"0:00:44\", \"iteration\": \"24\", \"goal\": \"accuracy_max\", \"run_name\": \"StandardScalerWrapper, LightGBM\", \"run_properties\": \"copy=True, with_mean=False, with_std=True\", \"primary_metric\": 0.74227994, \"best_metric\": 0.76045327}, {\"run_id\": \"AutoML_6fbd8108-694c-4c0f-b574-162150ee33a4_25\", \"run_number\": 1684481398, \"metric\": null, \"status\": \"Completed\", \"run_type\": \"azureml.scriptrun\", \"training_percent\": \"100\", \"start_time\": \"2023-05-19T07:30:07.339558Z\", \"end_time\": \"2023-05-19T07:30:40.560652Z\", \"created_time\": \"2023-05-19T07:29:58.471327Z\", \"created_time_dt\": \"2023-05-19T07:29:58.471327Z\", \"duration\": \"0:00:42\", \"iteration\": \"25\", \"goal\": \"accuracy_max\", \"run_name\": \"MaxAbsScaler, LogisticRegression\", \"run_properties\": \"copy=True\", \"primary_metric\": 0.44918937, \"best_metric\": 0.76045327}, {\"run_id\": \"AutoML_6fbd8108-694c-4c0f-b574-162150ee33a4_26\", \"run_number\": 1684481442, \"metric\": null, \"status\": \"Completed\", \"run_type\": \"azureml.scriptrun\", \"training_percent\": \"100\", \"start_time\": \"2023-05-19T07:30:49.851086Z\", \"end_time\": \"2023-05-19T07:31:23.195642Z\", \"created_time\": \"2023-05-19T07:30:42.019969Z\", \"created_time_dt\": \"2023-05-19T07:30:42.019969Z\", \"duration\": \"0:00:41\", \"iteration\": \"26\", \"goal\": \"accuracy_max\", \"run_name\": \"StandardScalerWrapper, LogisticRegression\", \"run_properties\": \"copy=True, with_mean=False, with_std=True\", \"primary_metric\": 0.77476445, \"best_metric\": 0.77476445}, {\"run_id\": \"AutoML_6fbd8108-694c-4c0f-b574-162150ee33a4_27\", \"run_number\": 1684481484, \"metric\": null, \"status\": \"Completed\", \"run_type\": \"azureml.scriptrun\", \"training_percent\": \"100\", \"start_time\": \"2023-05-19T07:31:37.176294Z\", \"end_time\": \"2023-05-19T07:32:16.3266Z\", \"created_time\": \"2023-05-19T07:31:24.877737Z\", \"created_time_dt\": \"2023-05-19T07:31:24.877737Z\", \"duration\": \"0:00:51\", \"iteration\": \"27\", \"goal\": \"accuracy_max\", \"run_name\": \"SparseNormalizer, ExtremeRandomTrees\", \"run_properties\": \"copy=True, norm='l1'\", \"primary_metric\": 0.65634496, \"best_metric\": 0.77476445}, {\"run_id\": \"AutoML_6fbd8108-694c-4c0f-b574-162150ee33a4_28\", \"run_number\": 1684481537, \"metric\": null, \"status\": \"Completed\", \"run_type\": \"azureml.scriptrun\", \"training_percent\": \"100\", \"start_time\": \"2023-05-19T07:32:26.875111Z\", \"end_time\": \"2023-05-19T07:33:02.509167Z\", \"created_time\": \"2023-05-19T07:32:17.726617Z\", \"created_time_dt\": \"2023-05-19T07:32:17.726617Z\", \"duration\": \"0:00:44\", \"iteration\": \"28\", \"goal\": \"accuracy_max\", \"run_name\": \"MaxAbsScaler, LightGBM\", \"run_properties\": \"copy=True\", \"primary_metric\": 0.76440879, \"best_metric\": 0.77476445}, {\"run_id\": \"AutoML_6fbd8108-694c-4c0f-b574-162150ee33a4_29\", \"run_number\": 1684481583, \"metric\": null, \"status\": \"Completed\", \"run_type\": \"azureml.scriptrun\", \"training_percent\": \"100\", \"start_time\": \"2023-05-19T07:33:13.198745Z\", \"end_time\": \"2023-05-19T07:33:47.785125Z\", \"created_time\": \"2023-05-19T07:33:03.896095Z\", \"created_time_dt\": \"2023-05-19T07:33:03.896095Z\", \"duration\": \"0:00:43\", \"iteration\": \"29\", \"goal\": \"accuracy_max\", \"run_name\": \"MaxAbsScaler, ExtremeRandomTrees\", \"run_properties\": \"copy=True\", \"primary_metric\": 0.65114167, \"best_metric\": 0.77476445}, {\"run_id\": \"AutoML_6fbd8108-694c-4c0f-b574-162150ee33a4_30\", \"run_number\": 1684481630, \"metric\": null, \"status\": \"Completed\", \"run_type\": \"azureml.scriptrun\", \"training_percent\": \"100\", \"start_time\": \"2023-05-19T07:34:00.667892Z\", \"end_time\": \"2023-05-19T07:34:33.310927Z\", \"created_time\": \"2023-05-19T07:33:50.009763Z\", \"created_time_dt\": \"2023-05-19T07:33:50.009763Z\", \"duration\": \"0:00:43\", \"iteration\": \"30\", \"goal\": \"accuracy_max\", \"run_name\": \"SparseNormalizer, LogisticRegression\", \"run_properties\": \"copy=True, norm='max'\", \"primary_metric\": 0.65114167, \"best_metric\": 0.77476445}, {\"run_id\": \"AutoML_6fbd8108-694c-4c0f-b574-162150ee33a4_31\", \"run_number\": 1684481674, \"metric\": null, \"status\": \"Completed\", \"run_type\": \"azureml.scriptrun\", \"training_percent\": \"100\", \"start_time\": \"2023-05-19T07:34:42.140573Z\", \"end_time\": \"2023-05-19T07:35:15.21008Z\", \"created_time\": \"2023-05-19T07:34:34.747219Z\", \"created_time_dt\": \"2023-05-19T07:34:34.747219Z\", \"duration\": \"0:00:40\", \"iteration\": \"31\", \"goal\": \"accuracy_max\", \"run_name\": \"StandardScalerWrapper, LightGBM\", \"run_properties\": \"copy=True, with_mean=False, with_std=False\", \"primary_metric\": 0.75395128, \"best_metric\": 0.77476445}, {\"run_id\": \"AutoML_6fbd8108-694c-4c0f-b574-162150ee33a4_32\", \"run_number\": 1684481716, \"metric\": null, \"status\": \"Completed\", \"run_type\": \"azureml.scriptrun\", \"training_percent\": \"100\", \"start_time\": \"2023-05-19T07:35:25.435975Z\", \"end_time\": \"2023-05-19T07:35:58.849289Z\", \"created_time\": \"2023-05-19T07:35:16.690087Z\", \"created_time_dt\": \"2023-05-19T07:35:16.690087Z\", \"duration\": \"0:00:42\", \"iteration\": \"32\", \"goal\": \"accuracy_max\", \"run_name\": \"StandardScalerWrapper, ExtremeRandomTrees\", \"run_properties\": \"copy=True, with_mean=False, with_std=True\", \"primary_metric\": 0.75788982, \"best_metric\": 0.77476445}, {\"run_id\": \"AutoML_6fbd8108-694c-4c0f-b574-162150ee33a4_33\", \"run_number\": 1684481760, \"metric\": null, \"status\": \"Completed\", \"run_type\": \"azureml.scriptrun\", \"training_percent\": \"100\", \"start_time\": \"2023-05-19T07:36:10.73981Z\", \"end_time\": \"2023-05-19T07:36:43.693673Z\", \"created_time\": \"2023-05-19T07:36:00.181767Z\", \"created_time_dt\": \"2023-05-19T07:36:00.181767Z\", \"duration\": \"0:00:43\", \"iteration\": \"33\", \"goal\": \"accuracy_max\", \"run_name\": \"MaxAbsScaler, LinearSVM\", \"run_properties\": \"copy=True\", \"primary_metric\": 0.76563959, \"best_metric\": 0.77476445}, {\"run_id\": \"AutoML_6fbd8108-694c-4c0f-b574-162150ee33a4_34\", \"run_number\": 1684481805, \"metric\": null, \"status\": \"Completed\", \"run_type\": \"azureml.scriptrun\", \"training_percent\": \"100\", \"start_time\": \"2023-05-19T07:36:53.223605Z\", \"end_time\": \"2023-05-19T07:37:26.255513Z\", \"created_time\": \"2023-05-19T07:36:45.067412Z\", \"created_time_dt\": \"2023-05-19T07:36:45.067412Z\", \"duration\": \"0:00:41\", \"iteration\": \"34\", \"goal\": \"accuracy_max\", \"run_name\": \"StandardScalerWrapper, LightGBM\", \"run_properties\": \"copy=True, with_mean=False, with_std=False\", \"primary_metric\": 0.75261013, \"best_metric\": 0.77476445}, {\"run_id\": \"AutoML_6fbd8108-694c-4c0f-b574-162150ee33a4_35\", \"run_number\": 1684481848, \"metric\": null, \"status\": \"Completed\", \"run_type\": \"azureml.scriptrun\", \"training_percent\": \"100\", \"start_time\": \"2023-05-19T07:37:37.402723Z\", \"end_time\": \"2023-05-19T07:38:11.107275Z\", \"created_time\": \"2023-05-19T07:37:28.394074Z\", \"created_time_dt\": \"2023-05-19T07:37:28.394074Z\", \"duration\": \"0:00:42\", \"iteration\": \"35\", \"goal\": \"accuracy_max\", \"run_name\": \"TruncatedSVDWrapper, LogisticRegression\", \"run_properties\": \"n_components=0.7521052631578947, random_state=None\", \"primary_metric\": 0.66805025, \"best_metric\": 0.77476445}, {\"run_id\": \"AutoML_6fbd8108-694c-4c0f-b574-162150ee33a4_36\", \"run_number\": 1684481892, \"metric\": null, \"status\": \"Completed\", \"run_type\": \"azureml.scriptrun\", \"training_percent\": \"100\", \"start_time\": \"2023-05-19T07:38:19.816295Z\", \"end_time\": \"2023-05-19T07:38:52.76953Z\", \"created_time\": \"2023-05-19T07:38:12.507716Z\", \"created_time_dt\": \"2023-05-19T07:38:12.507716Z\", \"duration\": \"0:00:40\", \"iteration\": \"36\", \"goal\": \"accuracy_max\", \"run_name\": \"MaxAbsScaler, LightGBM\", \"run_properties\": \"copy=True\", \"primary_metric\": 0.71493082, \"best_metric\": 0.77476445}, {\"run_id\": \"AutoML_6fbd8108-694c-4c0f-b574-162150ee33a4_37\", \"run_number\": 1684481933, \"metric\": null, \"status\": \"Completed\", \"run_type\": \"azureml.scriptrun\", \"training_percent\": \"100\", \"start_time\": \"2023-05-19T07:39:00.078898Z\", \"end_time\": \"2023-05-19T07:40:04.91596Z\", \"created_time\": \"2023-05-19T07:38:53.367752Z\", \"created_time_dt\": \"2023-05-19T07:38:53.367752Z\", \"duration\": \"0:01:11\", \"iteration\": \"37\", \"goal\": \"accuracy_max\", \"run_name\": \"VotingEnsemble\", \"run_properties\": \"classification_labels=numpy.array([0, 1]\", \"primary_metric\": 0.7813004, \"best_metric\": 0.7813004}, {\"run_id\": \"AutoML_6fbd8108-694c-4c0f-b574-162150ee33a4_38\", \"run_number\": 1684482005, \"metric\": null, \"status\": \"Completed\", \"run_type\": \"azureml.scriptrun\", \"training_percent\": \"100\", \"start_time\": \"2023-05-19T07:40:12.818873Z\", \"end_time\": \"2023-05-19T07:41:23.117762Z\", \"created_time\": \"2023-05-19T07:40:05.527302Z\", \"created_time_dt\": \"2023-05-19T07:40:05.527302Z\", \"duration\": \"0:01:17\", \"iteration\": \"38\", \"goal\": \"accuracy_max\", \"run_name\": \"StackEnsemble\", \"run_properties\": \"base_learners=[('26', Pipeline(memory=None, steps=[('standardscalerwrapper', StandardScalerWrapper(copy=True, with_mean=False, with_std=True\", \"primary_metric\": 0.77478143, \"best_metric\": 0.7813004}], \"children_metrics\": {\"categories\": [0], \"series\": {\"average_precision_score_macro\": [{\"categories\": [\"0\", \"1\", \"3\", \"5\", \"6\", \"8\", \"11\", \"13\", \"15\", \"17\", \"20\", \"21\", \"22\", \"23\", \"24\", \"25\", \"26\", \"27\", \"28\", \"29\", \"30\", \"31\", \"32\", \"33\", \"34\", \"35\", \"36\", \"37\", \"38\"], \"mode\": \"markers\", \"name\": \"average_precision_score_macro\", \"stepped\": false, \"type\": \"scatter\", \"data\": [0.7826874243830495, 0.7808438402884323, 0.6680081219849362, 0.794862952110139, 0.7720263439709928, 0.7318201755970568, 0.7917527111967108, 0.7481536045309595, 0.7320522976641375, 0.801635249113896, 0.7748589110473205, 0.7889666076320931, 0.6823051161639182, 0.7057132047628366, 0.8095893374006703, 0.5, 0.7986852222345319, 0.7067685092678266, 0.7983768662330066, 0.7623784613843704, 0.6107574793746242, 0.8029786094849193, 0.8096130090514441, 0.8006285707542411, 0.8100899013814893, 0.6302175114706032, 0.8022231231966052, 0.819425856426021, 0.8180170189038506]}, {\"categories\": [\"0\", \"1\", \"3\", \"5\", \"6\", \"8\", \"11\", \"13\", \"15\", \"17\", \"20\", \"21\", \"22\", \"23\", \"24\", \"25\", \"26\", \"27\", \"28\", \"29\", \"30\", \"31\", \"32\", \"33\", \"34\", \"35\", \"36\", \"37\", \"38\"], \"mode\": \"lines\", \"name\": \"average_precision_score_macro_max\", \"stepped\": true, \"type\": \"scatter\", \"data\": [0.7826874243830495, 0.7826874243830495, 0.7826874243830495, 0.794862952110139, 0.794862952110139, 0.794862952110139, 0.794862952110139, 0.794862952110139, 0.794862952110139, 0.801635249113896, 0.801635249113896, 0.801635249113896, 0.801635249113896, 0.801635249113896, 0.8095893374006703, 0.8095893374006703, 0.8095893374006703, 0.8095893374006703, 0.8095893374006703, 0.8095893374006703, 0.8095893374006703, 0.8095893374006703, 0.8096130090514441, 0.8096130090514441, 0.8100899013814893, 0.8100899013814893, 0.8100899013814893, 0.819425856426021, 0.819425856426021]}], \"f1_score_micro\": [{\"categories\": [\"0\", \"1\", \"3\", \"5\", \"6\", \"8\", \"11\", \"13\", \"15\", \"17\", \"20\", \"21\", \"22\", \"23\", \"24\", \"25\", \"26\", \"27\", \"28\", \"29\", \"30\", \"31\", \"32\", \"33\", \"34\", \"35\", \"36\", \"37\", \"38\"], \"mode\": \"markers\", \"name\": \"f1_score_micro\", \"stepped\": false, \"type\": \"scatter\", \"data\": [0.7461420932009167, 0.7500381970970207, 0.6784568372803668, 0.7227739580680757, 0.7513708513708515, 0.6511416687887276, 0.760453272217978, 0.6888040064510653, 0.7005941770647653, 0.7448688566335625, 0.7435701553348611, 0.7500127323656736, 0.7031661149308208, 0.712282488753077, 0.7422799422799422, 0.4491893727187845, 0.7747644512350395, 0.6563449622273152, 0.7644087938205585, 0.6511416687887276, 0.6511416687887276, 0.7539512774806891, 0.7578898225957049, 0.7656395891690009, 0.752610134963076, 0.6680502504031915, 0.7149308208131737, 0.7813003989474577, 0.7747814277226042]}, {\"categories\": [\"0\", \"1\", \"3\", \"5\", \"6\", \"8\", \"11\", \"13\", \"15\", \"17\", \"20\", \"21\", \"22\", \"23\", \"24\", \"25\", \"26\", \"27\", \"28\", \"29\", \"30\", \"31\", \"32\", \"33\", \"34\", \"35\", \"36\", \"37\", \"38\"], \"mode\": \"lines\", \"name\": \"f1_score_micro_max\", \"stepped\": true, \"type\": \"scatter\", \"data\": [0.7461420932009167, 0.7500381970970207, 0.7500381970970207, 0.7500381970970207, 0.7513708513708515, 0.7513708513708515, 0.760453272217978, 0.760453272217978, 0.760453272217978, 0.760453272217978, 0.760453272217978, 0.760453272217978, 0.760453272217978, 0.760453272217978, 0.760453272217978, 0.760453272217978, 0.7747644512350395, 0.7747644512350395, 0.7747644512350395, 0.7747644512350395, 0.7747644512350395, 0.7747644512350395, 0.7747644512350395, 0.7747644512350395, 0.7747644512350395, 0.7747644512350395, 0.7747644512350395, 0.7813003989474577, 0.7813003989474577]}], \"weighted_accuracy\": [{\"categories\": [\"0\", \"1\", \"3\", \"5\", \"6\", \"8\", \"11\", \"13\", \"15\", \"17\", \"20\", \"21\", \"22\", \"23\", \"24\", \"25\", \"26\", \"27\", \"28\", \"29\", \"30\", \"31\", \"32\", \"33\", \"34\", \"35\", \"36\", \"37\", \"38\"], \"mode\": \"markers\", \"name\": \"weighted_accuracy\", \"stepped\": false, \"type\": \"scatter\", \"data\": [0.7727292546542748, 0.7770277653925426, 0.7364440052668275, 0.8022173871679599, 0.7910119545308276, 0.7698004941684061, 0.7914301998256321, 0.6909871104339248, 0.705343870848328, 0.807573489704996, 0.7576019915614464, 0.7781621512850622, 0.7442463776206696, 0.7617965582896427, 0.8177765026696303, 0.41897614401150224, 0.8163987192756773, 0.7686441265904634, 0.8109730702371876, 0.7698004941684061, 0.7698004941684061, 0.8021771396329992, 0.8112671209109703, 0.8139218681641516, 0.7875037526886599, 0.7433432635915254, 0.8019142144322412, 0.8158363846532005, 0.8116735465063083]}, {\"categories\": [\"0\", \"1\", \"3\", \"5\", \"6\", \"8\", \"11\", \"13\", \"15\", \"17\", \"20\", \"21\", \"22\", \"23\", \"24\", \"25\", \"26\", \"27\", \"28\", \"29\", \"30\", \"31\", \"32\", \"33\", \"34\", \"35\", \"36\", \"37\", \"38\"], \"mode\": \"lines\", \"name\": \"weighted_accuracy_max\", \"stepped\": true, \"type\": \"scatter\", \"data\": [0.7727292546542748, 0.7770277653925426, 0.7770277653925426, 0.8022173871679599, 0.8022173871679599, 0.8022173871679599, 0.8022173871679599, 0.8022173871679599, 0.8022173871679599, 0.807573489704996, 0.807573489704996, 0.807573489704996, 0.807573489704996, 0.807573489704996, 0.8177765026696303, 0.8177765026696303, 0.8177765026696303, 0.8177765026696303, 0.8177765026696303, 0.8177765026696303, 0.8177765026696303, 0.8177765026696303, 0.8177765026696303, 0.8177765026696303, 0.8177765026696303, 0.8177765026696303, 0.8177765026696303, 0.8177765026696303, 0.8177765026696303]}], \"log_loss\": [{\"categories\": [\"0\", \"1\", \"3\", \"5\", \"6\", \"8\", \"11\", \"13\", \"15\", \"17\", \"20\", \"21\", \"22\", \"23\", \"24\", \"25\", \"26\", \"27\", \"28\", \"29\", \"30\", \"31\", \"32\", \"33\", \"34\", \"35\", \"36\", \"37\", \"38\"], \"mode\": \"markers\", \"name\": \"log_loss\", \"stepped\": false, \"type\": \"scatter\", \"data\": [0.6332711438725427, 0.7164333403872011, 0.6763253194284898, 0.5479339530719323, 0.5211417651578135, 0.6243170645167783, 0.49217798310715344, 0.6356598373879594, 0.5739405365146276, 0.5149470004530052, 0.525416774626275, 0.5107551236734987, 0.6648030522992745, 0.5782705389405025, 0.5429655695048475, 0.7043655957436898, 0.49619214274814133, 0.6001286481315632, 0.5091334007966117, 0.625567664267342, 0.649620842621893, 0.49717968880969954, 0.49670312927306215, 0.4993295851489245, 0.4781447188893896, 0.6320192029932812, 0.5543603305865197, 0.47362820974418474, 0.47808393581082953]}, {\"categories\": [\"0\", \"1\", \"3\", \"5\", \"6\", \"8\", \"11\", \"13\", \"15\", \"17\", \"20\", \"21\", \"22\", \"23\", \"24\", \"25\", \"26\", \"27\", \"28\", \"29\", \"30\", \"31\", \"32\", \"33\", \"34\", \"35\", \"36\", \"37\", \"38\"], \"mode\": \"lines\", \"name\": \"log_loss_min\", \"stepped\": true, \"type\": \"scatter\", \"data\": [0.6332711438725427, 0.6332711438725427, 0.6332711438725427, 0.5479339530719323, 0.5211417651578135, 0.5211417651578135, 0.49217798310715344, 0.49217798310715344, 0.49217798310715344, 0.49217798310715344, 0.49217798310715344, 0.49217798310715344, 0.49217798310715344, 0.49217798310715344, 0.49217798310715344, 0.49217798310715344, 0.49217798310715344, 0.49217798310715344, 0.49217798310715344, 0.49217798310715344, 0.49217798310715344, 0.49217798310715344, 0.49217798310715344, 0.49217798310715344, 0.4781447188893896, 0.4781447188893896, 0.4781447188893896, 0.47362820974418474, 0.47362820974418474]}], \"matthews_correlation\": [{\"categories\": [\"0\", \"1\", \"3\", \"5\", \"6\", \"8\", \"11\", \"13\", \"15\", \"17\", \"20\", \"21\", \"22\", \"23\", \"24\", \"25\", \"26\", \"27\", \"28\", \"29\", \"30\", \"31\", \"32\", \"33\", \"34\", \"35\", \"36\", \"37\", \"38\"], \"mode\": \"markers\", \"name\": \"matthews_correlation\", \"stepped\": false, \"type\": \"scatter\", \"data\": [0.42897685019524284, 0.43686255501978516, 0.24250707781874986, 0.3511954278966355, 0.42838804387533347, 0.0, 0.4555913741443673, 0.3532615240433147, 0.376727047489014, 0.3980116886089443, 0.4436853966406735, 0.43562761538090333, 0.31560342474791203, 0.3326006526225263, 0.4111558638314209, 0.0, 0.4825977618076854, 0.10494806729773534, 0.45406566107624957, 0.0, 0.0, 0.4288970578090939, 0.4341103592185423, 0.45548354878623803, 0.43546227215729544, 0.1891285685510136, 0.33729017877327494, 0.4985301830720811, 0.4828036298060189]}, {\"categories\": [\"0\", \"1\", \"3\", \"5\", \"6\", \"8\", \"11\", \"13\", \"15\", \"17\", \"20\", \"21\", \"22\", \"23\", \"24\", \"25\", \"26\", \"27\", \"28\", \"29\", \"30\", \"31\", \"32\", \"33\", \"34\", \"35\", \"36\", \"37\", \"38\"], \"mode\": \"lines\", \"name\": \"matthews_correlation_max\", \"stepped\": true, \"type\": \"scatter\", \"data\": [0.42897685019524284, 0.43686255501978516, 0.43686255501978516, 0.43686255501978516, 0.43686255501978516, 0.43686255501978516, 0.4555913741443673, 0.4555913741443673, 0.4555913741443673, 0.4555913741443673, 0.4555913741443673, 0.4555913741443673, 0.4555913741443673, 0.4555913741443673, 0.4555913741443673, 0.4555913741443673, 0.4825977618076854, 0.4825977618076854, 0.4825977618076854, 0.4825977618076854, 0.4825977618076854, 0.4825977618076854, 0.4825977618076854, 0.4825977618076854, 0.4825977618076854, 0.4825977618076854, 0.4825977618076854, 0.4985301830720811, 0.4985301830720811]}], \"f1_score_weighted\": [{\"categories\": [\"0\", \"1\", \"3\", \"5\", \"6\", \"8\", \"11\", \"13\", \"15\", \"17\", \"20\", \"21\", \"22\", \"23\", \"24\", \"25\", \"26\", \"27\", \"28\", \"29\", \"30\", \"31\", \"32\", \"33\", \"34\", \"35\", \"36\", \"37\", \"38\"], \"mode\": \"markers\", \"name\": \"f1_score_weighted\", \"stepped\": false, \"type\": \"scatter\", \"data\": [0.7439880015804127, 0.7471432349619065, 0.65781244779733, 0.6775790814670898, 0.7429868727325698, 0.5146586817401758, 0.75586839317746, 0.6954425983655399, 0.7063494856057939, 0.7185062042954706, 0.7453629064803706, 0.7476041816694079, 0.6947182348438189, 0.6987928022188885, 0.7029825297813712, 0.2935159374028344, 0.7657612541500249, 0.5366102553944498, 0.752629263376162, 0.5146586817401758, 0.5146586817401758, 0.7409289541721685, 0.7420206925493129, 0.7528283829957473, 0.7471766109488703, 0.6292296873053894, 0.6580543778367488, 0.7755938672310476, 0.7679807842477825]}, {\"categories\": [\"0\", \"1\", \"3\", \"5\", \"6\", \"8\", \"11\", \"13\", \"15\", \"17\", \"20\", \"21\", \"22\", \"23\", \"24\", \"25\", \"26\", \"27\", \"28\", \"29\", \"30\", \"31\", \"32\", \"33\", \"34\", \"35\", \"36\", \"37\", \"38\"], \"mode\": \"lines\", \"name\": \"f1_score_weighted_max\", \"stepped\": true, \"type\": \"scatter\", \"data\": [0.7439880015804127, 0.7471432349619065, 0.7471432349619065, 0.7471432349619065, 0.7471432349619065, 0.7471432349619065, 0.75586839317746, 0.75586839317746, 0.75586839317746, 0.75586839317746, 0.75586839317746, 0.75586839317746, 0.75586839317746, 0.75586839317746, 0.75586839317746, 0.75586839317746, 0.7657612541500249, 0.7657612541500249, 0.7657612541500249, 0.7657612541500249, 0.7657612541500249, 0.7657612541500249, 0.7657612541500249, 0.7657612541500249, 0.7657612541500249, 0.7657612541500249, 0.7657612541500249, 0.7755938672310476, 0.7755938672310476]}], \"AUC_weighted\": [{\"categories\": [\"0\", \"1\", \"3\", \"5\", \"6\", \"8\", \"11\", \"13\", \"15\", \"17\", \"20\", \"21\", \"22\", \"23\", \"24\", \"25\", \"26\", \"27\", \"28\", \"29\", \"30\", \"31\", \"32\", \"33\", \"34\", \"35\", \"36\", \"37\", \"38\"], \"mode\": \"markers\", \"name\": \"AUC_weighted\", \"stepped\": false, \"type\": \"scatter\", \"data\": [0.8044555568955882, 0.8025650959417614, 0.6952153458301297, 0.8227792051351523, 0.7943780358516352, 0.7528322649128637, 0.821196709026568, 0.7583040235789514, 0.7570030990055752, 0.8250602227236833, 0.7954630403731733, 0.811227785966435, 0.7078528068389088, 0.720576993916692, 0.8264252795207634, 0.5, 0.8128990008279429, 0.7224681006151566, 0.8235311461168102, 0.7842029349919075, 0.6383589184852685, 0.8342461042988616, 0.8284086787016571, 0.817944704941118, 0.8336931279215005, 0.6461621373168829, 0.82706282892657, 0.8366161340434213, 0.8360314165566628]}, {\"categories\": [\"0\", \"1\", \"3\", \"5\", \"6\", \"8\", \"11\", \"13\", \"15\", \"17\", \"20\", \"21\", \"22\", \"23\", \"24\", \"25\", \"26\", \"27\", \"28\", \"29\", \"30\", \"31\", \"32\", \"33\", \"34\", \"35\", \"36\", \"37\", \"38\"], \"mode\": \"lines\", \"name\": \"AUC_weighted_max\", \"stepped\": true, \"type\": \"scatter\", \"data\": [0.8044555568955882, 0.8044555568955882, 0.8044555568955882, 0.8227792051351523, 0.8227792051351523, 0.8227792051351523, 0.8227792051351523, 0.8227792051351523, 0.8227792051351523, 0.8250602227236833, 0.8250602227236833, 0.8250602227236833, 0.8250602227236833, 0.8250602227236833, 0.8264252795207634, 0.8264252795207634, 0.8264252795207634, 0.8264252795207634, 0.8264252795207634, 0.8264252795207634, 0.8264252795207634, 0.8342461042988616, 0.8342461042988616, 0.8342461042988616, 0.8342461042988616, 0.8342461042988616, 0.8342461042988616, 0.8366161340434213, 0.8366161340434213]}], \"recall_score_macro\": [{\"categories\": [\"0\", \"1\", \"3\", \"5\", \"6\", \"8\", \"11\", \"13\", \"15\", \"17\", \"20\", \"21\", \"22\", \"23\", \"24\", \"25\", \"26\", \"27\", \"28\", \"29\", \"30\", \"31\", \"32\", \"33\", \"34\", \"35\", \"36\", \"37\", \"38\"], \"mode\": \"markers\", \"name\": \"recall_score_macro\", \"stepped\": false, \"type\": \"scatter\", \"data\": [0.7113838058691895, 0.7153566798884052, 0.6041380765360188, 0.6227359824179557, 0.6999328057382129, 0.5, 0.7205835734188286, 0.6839726658430693, 0.6952612691724374, 0.6648463944071129, 0.725586581413457, 0.7136135505325766, 0.6497383411043026, 0.649762093570448, 0.6474907798551615, 0.5, 0.721811879690241, 0.5147109381235759, 0.70445174186469, 0.5, 0.5, 0.6928059929942364, 0.6891691255391347, 0.7032153609233268, 0.7084014303380998, 0.5719690970397577, 0.6055259952971502, 0.7365287719870972, 0.7268989323016768]}, {\"categories\": [\"0\", \"1\", \"3\", \"5\", \"6\", \"8\", \"11\", \"13\", \"15\", \"17\", \"20\", \"21\", \"22\", \"23\", \"24\", \"25\", \"26\", \"27\", \"28\", \"29\", \"30\", \"31\", \"32\", \"33\", \"34\", \"35\", \"36\", \"37\", \"38\"], \"mode\": \"lines\", \"name\": \"recall_score_macro_max\", \"stepped\": true, \"type\": \"scatter\", \"data\": [0.7113838058691895, 0.7153566798884052, 0.7153566798884052, 0.7153566798884052, 0.7153566798884052, 0.7153566798884052, 0.7205835734188286, 0.7205835734188286, 0.7205835734188286, 0.7205835734188286, 0.725586581413457, 0.725586581413457, 0.725586581413457, 0.725586581413457, 0.725586581413457, 0.725586581413457, 0.725586581413457, 0.725586581413457, 0.725586581413457, 0.725586581413457, 0.725586581413457, 0.725586581413457, 0.725586581413457, 0.725586581413457, 0.725586581413457, 0.725586581413457, 0.725586581413457, 0.7365287719870972, 0.7365287719870972]}], \"recall_score_micro\": [{\"categories\": [\"0\", \"1\", \"3\", \"5\", \"6\", \"8\", \"11\", \"13\", \"15\", \"17\", \"20\", \"21\", \"22\", \"23\", \"24\", \"25\", \"26\", \"27\", \"28\", \"29\", \"30\", \"31\", \"32\", \"33\", \"34\", \"35\", \"36\", \"37\", \"38\"], \"mode\": \"markers\", \"name\": \"recall_score_micro\", \"stepped\": false, \"type\": \"scatter\", \"data\": [0.7461420932009167, 0.7500381970970207, 0.6784568372803668, 0.7227739580680757, 0.7513708513708514, 0.6511416687887276, 0.7604532722179781, 0.6888040064510653, 0.7005941770647653, 0.7448688566335624, 0.7435701553348611, 0.7500127323656736, 0.7031661149308208, 0.712282488753077, 0.7422799422799422, 0.4491893727187845, 0.7747644512350395, 0.6563449622273152, 0.7644087938205585, 0.6511416687887276, 0.6511416687887276, 0.7539512774806891, 0.7578898225957049, 0.7656395891690009, 0.752610134963076, 0.6680502504031915, 0.7149308208131737, 0.7813003989474577, 0.7747814277226042]}, {\"categories\": [\"0\", \"1\", \"3\", \"5\", \"6\", \"8\", \"11\", \"13\", \"15\", \"17\", \"20\", \"21\", \"22\", \"23\", \"24\", \"25\", \"26\", \"27\", \"28\", \"29\", \"30\", \"31\", \"32\", \"33\", \"34\", \"35\", \"36\", \"37\", \"38\"], \"mode\": \"lines\", \"name\": \"recall_score_micro_max\", \"stepped\": true, \"type\": \"scatter\", \"data\": [0.7461420932009167, 0.7500381970970207, 0.7500381970970207, 0.7500381970970207, 0.7513708513708514, 0.7513708513708514, 0.7604532722179781, 0.7604532722179781, 0.7604532722179781, 0.7604532722179781, 0.7604532722179781, 0.7604532722179781, 0.7604532722179781, 0.7604532722179781, 0.7604532722179781, 0.7604532722179781, 0.7747644512350395, 0.7747644512350395, 0.7747644512350395, 0.7747644512350395, 0.7747644512350395, 0.7747644512350395, 0.7747644512350395, 0.7747644512350395, 0.7747644512350395, 0.7747644512350395, 0.7747644512350395, 0.7813003989474577, 0.7813003989474577]}], \"precision_score_weighted\": [{\"categories\": [\"0\", \"1\", \"3\", \"5\", \"6\", \"8\", \"11\", \"13\", \"15\", \"17\", \"20\", \"21\", \"22\", \"23\", \"24\", \"25\", \"26\", \"27\", \"28\", \"29\", \"30\", \"31\", \"32\", \"33\", \"34\", \"35\", \"36\", \"37\", \"38\"], \"mode\": \"markers\", \"name\": \"precision_score_weighted\", \"stepped\": false, \"type\": \"scatter\", \"data\": [0.7443216189800509, 0.7483902396876573, 0.6684610740150287, 0.74319797879374, 0.7460012086537702, 0.4265500510508674, 0.7580310893966675, 0.7142252746304605, 0.723100636072879, 0.7451918803171224, 0.7512955466941812, 0.749254584605586, 0.6942931503555145, 0.7079755000502954, 0.775998261985222, 0.22459775498092432, 0.7760534915658323, 0.7185616208755954, 0.7612478473353603, 0.4265500510508674, 0.4265500510508674, 0.7516972430840395, 0.7577274596946528, 0.767666229254395, 0.7506841684071758, 0.6508485093496703, 0.7600939635355116, 0.7787345842549934, 0.7727857069903429]}, {\"categories\": [\"0\", \"1\", \"3\", \"5\", \"6\", \"8\", \"11\", \"13\", \"15\", \"17\", \"20\", \"21\", \"22\", \"23\", \"24\", \"25\", \"26\", \"27\", \"28\", \"29\", \"30\", \"31\", \"32\", \"33\", \"34\", \"35\", \"36\", \"37\", \"38\"], \"mode\": \"lines\", \"name\": \"precision_score_weighted_max\", \"stepped\": true, \"type\": \"scatter\", \"data\": [0.7443216189800509, 0.7483902396876573, 0.7483902396876573, 0.7483902396876573, 0.7483902396876573, 0.7483902396876573, 0.7580310893966675, 0.7580310893966675, 0.7580310893966675, 0.7580310893966675, 0.7580310893966675, 0.7580310893966675, 0.7580310893966675, 0.7580310893966675, 0.775998261985222, 0.775998261985222, 0.7760534915658323, 0.7760534915658323, 0.7760534915658323, 0.7760534915658323, 0.7760534915658323, 0.7760534915658323, 0.7760534915658323, 0.7760534915658323, 0.7760534915658323, 0.7760534915658323, 0.7760534915658323, 0.7787345842549934, 0.7787345842549934]}], \"recall_score_weighted\": [{\"categories\": [\"0\", \"1\", \"3\", \"5\", \"6\", \"8\", \"11\", \"13\", \"15\", \"17\", \"20\", \"21\", \"22\", \"23\", \"24\", \"25\", \"26\", \"27\", \"28\", \"29\", \"30\", \"31\", \"32\", \"33\", \"34\", \"35\", \"36\", \"37\", \"38\"], \"mode\": \"markers\", \"name\": \"recall_score_weighted\", \"stepped\": false, \"type\": \"scatter\", \"data\": [0.7461420932009167, 0.7500381970970207, 0.6784568372803668, 0.7227739580680757, 0.7513708513708514, 0.6511416687887276, 0.7604532722179781, 0.6888040064510653, 0.7005941770647653, 0.7448688566335624, 0.7435701553348611, 0.7500127323656736, 0.7031661149308208, 0.712282488753077, 0.7422799422799422, 0.4491893727187845, 0.7747644512350395, 0.6563449622273152, 0.7644087938205585, 0.6511416687887276, 0.6511416687887276, 0.7539512774806891, 0.7578898225957049, 0.7656395891690009, 0.752610134963076, 0.6680502504031915, 0.7149308208131737, 0.7813003989474577, 0.7747814277226042]}, {\"categories\": [\"0\", \"1\", \"3\", \"5\", \"6\", \"8\", \"11\", \"13\", \"15\", \"17\", \"20\", \"21\", \"22\", \"23\", \"24\", \"25\", \"26\", \"27\", \"28\", \"29\", \"30\", \"31\", \"32\", \"33\", \"34\", \"35\", \"36\", \"37\", \"38\"], \"mode\": \"lines\", \"name\": \"recall_score_weighted_max\", \"stepped\": true, \"type\": \"scatter\", \"data\": [0.7461420932009167, 0.7500381970970207, 0.7500381970970207, 0.7500381970970207, 0.7513708513708514, 0.7513708513708514, 0.7604532722179781, 0.7604532722179781, 0.7604532722179781, 0.7604532722179781, 0.7604532722179781, 0.7604532722179781, 0.7604532722179781, 0.7604532722179781, 0.7604532722179781, 0.7604532722179781, 0.7747644512350395, 0.7747644512350395, 0.7747644512350395, 0.7747644512350395, 0.7747644512350395, 0.7747644512350395, 0.7747644512350395, 0.7747644512350395, 0.7747644512350395, 0.7747644512350395, 0.7747644512350395, 0.7813003989474577, 0.7813003989474577]}], \"accuracy\": [{\"categories\": [\"0\", \"1\", \"3\", \"5\", \"6\", \"8\", \"11\", \"13\", \"15\", \"17\", \"20\", \"21\", \"22\", \"23\", \"24\", \"25\", \"26\", \"27\", \"28\", \"29\", \"30\", \"31\", \"32\", \"33\", \"34\", \"35\", \"36\", \"37\", \"38\"], \"mode\": \"markers\", \"name\": \"accuracy\", \"stepped\": false, \"type\": \"scatter\", \"data\": [0.7461420932009167, 0.7500381970970207, 0.6784568372803668, 0.7227739580680757, 0.7513708513708514, 0.6511416687887276, 0.7604532722179781, 0.6888040064510653, 0.7005941770647653, 0.7448688566335624, 0.7435701553348611, 0.7500127323656736, 0.7031661149308208, 0.712282488753077, 0.7422799422799422, 0.4491893727187845, 0.7747644512350395, 0.6563449622273152, 0.7644087938205585, 0.6511416687887276, 0.6511416687887276, 0.7539512774806891, 0.7578898225957049, 0.7656395891690009, 0.752610134963076, 0.6680502504031915, 0.7149308208131737, 0.7813003989474577, 0.7747814277226042]}, {\"categories\": [\"0\", \"1\", \"3\", \"5\", \"6\", \"8\", \"11\", \"13\", \"15\", \"17\", \"20\", \"21\", \"22\", \"23\", \"24\", \"25\", \"26\", \"27\", \"28\", \"29\", \"30\", \"31\", \"32\", \"33\", \"34\", \"35\", \"36\", \"37\", \"38\"], \"mode\": \"lines\", \"name\": \"accuracy_max\", \"stepped\": true, \"type\": \"scatter\", \"data\": [0.7461420932009167, 0.7500381970970207, 0.7500381970970207, 0.7500381970970207, 0.7513708513708514, 0.7513708513708514, 0.7604532722179781, 0.7604532722179781, 0.7604532722179781, 0.7604532722179781, 0.7604532722179781, 0.7604532722179781, 0.7604532722179781, 0.7604532722179781, 0.7604532722179781, 0.7604532722179781, 0.7747644512350395, 0.7747644512350395, 0.7747644512350395, 0.7747644512350395, 0.7747644512350395, 0.7747644512350395, 0.7747644512350395, 0.7747644512350395, 0.7747644512350395, 0.7747644512350395, 0.7747644512350395, 0.7813003989474577, 0.7813003989474577]}], \"f1_score_macro\": [{\"categories\": [\"0\", \"1\", \"3\", \"5\", \"6\", \"8\", \"11\", \"13\", \"15\", \"17\", \"20\", \"21\", \"22\", \"23\", \"24\", \"25\", \"26\", \"27\", \"28\", \"29\", \"30\", \"31\", \"32\", \"33\", \"34\", \"35\", \"36\", \"37\", \"38\"], \"mode\": \"markers\", \"name\": \"f1_score_macro\", \"stepped\": false, \"type\": \"scatter\", \"data\": [0.7131441235902838, 0.7161763078193065, 0.6044715949252317, 0.6173613576950249, 0.7079270487853011, 0.39381232791863974, 0.7241796680072852, 0.669941943372254, 0.6819508543950539, 0.6701845506764897, 0.7194573542177022, 0.715595685770897, 0.6534337053347867, 0.6541637850963256, 0.6478480559547392, 0.30243140401736734, 0.7310540883044452, 0.42872408435980514, 0.7158420002425191, 0.39381232791863974, 0.39381232791863974, 0.7016855560602524, 0.6999518864296232, 0.7130379758225334, 0.7129132092903768, 0.5618930852515067, 0.5891867907407831, 0.7444944415676371, 0.7351582563944664]}, {\"categories\": [\"0\", \"1\", \"3\", \"5\", \"6\", \"8\", \"11\", \"13\", \"15\", \"17\", \"20\", \"21\", \"22\", \"23\", \"24\", \"25\", \"26\", \"27\", \"28\", \"29\", \"30\", \"31\", \"32\", \"33\", \"34\", \"35\", \"36\", \"37\", \"38\"], \"mode\": \"lines\", \"name\": \"f1_score_macro_max\", \"stepped\": true, \"type\": \"scatter\", \"data\": [0.7131441235902838, 0.7161763078193065, 0.7161763078193065, 0.7161763078193065, 0.7161763078193065, 0.7161763078193065, 0.7241796680072852, 0.7241796680072852, 0.7241796680072852, 0.7241796680072852, 0.7241796680072852, 0.7241796680072852, 0.7241796680072852, 0.7241796680072852, 0.7241796680072852, 0.7241796680072852, 0.7310540883044452, 0.7310540883044452, 0.7310540883044452, 0.7310540883044452, 0.7310540883044452, 0.7310540883044452, 0.7310540883044452, 0.7310540883044452, 0.7310540883044452, 0.7310540883044452, 0.7310540883044452, 0.7444944415676371, 0.7444944415676371]}], \"average_precision_score_weighted\": [{\"categories\": [\"0\", \"1\", \"3\", \"5\", \"6\", \"8\", \"11\", \"13\", \"15\", \"17\", \"20\", \"21\", \"22\", \"23\", \"24\", \"25\", \"26\", \"27\", \"28\", \"29\", \"30\", \"31\", \"32\", \"33\", \"34\", \"35\", \"36\", \"37\", \"38\"], \"mode\": \"markers\", \"name\": \"average_precision_score_weighted\", \"stepped\": false, \"type\": \"scatter\", \"data\": [0.8159197901628463, 0.8123900444068173, 0.7134442176128466, 0.8290719889509781, 0.8072172232353187, 0.7744597264091515, 0.8237597456631619, 0.7798341260215963, 0.7715154209037107, 0.8349728263166571, 0.8070762993225824, 0.8207989352916092, 0.7252335649854237, 0.7402540672082663, 0.8390032973455911, 0.5508167645242796, 0.8262227932358857, 0.7495324664092855, 0.8296331017203306, 0.8013008938376291, 0.6622728430880487, 0.8356940964358535, 0.8393373245753463, 0.8294220076628495, 0.8415266254991005, 0.6713428528638709, 0.8377023387252512, 0.8480668946434713, 0.8465343141293683]}, {\"categories\": [\"0\", \"1\", \"3\", \"5\", \"6\", \"8\", \"11\", \"13\", \"15\", \"17\", \"20\", \"21\", \"22\", \"23\", \"24\", \"25\", \"26\", \"27\", \"28\", \"29\", \"30\", \"31\", \"32\", \"33\", \"34\", \"35\", \"36\", \"37\", \"38\"], \"mode\": \"lines\", \"name\": \"average_precision_score_weighted_max\", \"stepped\": true, \"type\": \"scatter\", \"data\": [0.8159197901628463, 0.8159197901628463, 0.8159197901628463, 0.8290719889509781, 0.8290719889509781, 0.8290719889509781, 0.8290719889509781, 0.8290719889509781, 0.8290719889509781, 0.8349728263166571, 0.8349728263166571, 0.8349728263166571, 0.8349728263166571, 0.8349728263166571, 0.8390032973455911, 0.8390032973455911, 0.8390032973455911, 0.8390032973455911, 0.8390032973455911, 0.8390032973455911, 0.8390032973455911, 0.8390032973455911, 0.8393373245753463, 0.8393373245753463, 0.8415266254991005, 0.8415266254991005, 0.8415266254991005, 0.8480668946434713, 0.8480668946434713]}], \"precision_score_macro\": [{\"categories\": [\"0\", \"1\", \"3\", \"5\", \"6\", \"8\", \"11\", \"13\", \"15\", \"17\", \"20\", \"21\", \"22\", \"23\", \"24\", \"25\", \"26\", \"27\", \"28\", \"29\", \"30\", \"31\", \"32\", \"33\", \"34\", \"35\", \"36\", \"37\", \"38\"], \"mode\": \"markers\", \"name\": \"precision_score_macro\", \"stepped\": false, \"type\": \"scatter\", \"data\": [0.7177702021983517, 0.7218176045287529, 0.6421200211769363, 0.7518757403775257, 0.7297711357332439, 0.3255708343943638, 0.7355962286152488, 0.6696949766215881, 0.6821230761192354, 0.7419887939783298, 0.7184205028745232, 0.72239482909525, 0.6664607185779965, 0.6853067484153158, 0.7884483587510619, 0.22459468635939225, 0.7631702157176571, 0.7287748063532733, 0.7521703293308051, 0.3255708343943638, 0.3255708343943638, 0.7387093066292398, 0.7492181772836155, 0.756201550578788, 0.727847986874969, 0.6247771243590157, 0.7725257376950371, 0.7629121069803007, 0.7572529939444672]}, {\"categories\": [\"0\", \"1\", \"3\", \"5\", \"6\", \"8\", \"11\", \"13\", \"15\", \"17\", \"20\", \"21\", \"22\", \"23\", \"24\", \"25\", \"26\", \"27\", \"28\", \"29\", \"30\", \"31\", \"32\", \"33\", \"34\", \"35\", \"36\", \"37\", \"38\"], \"mode\": \"lines\", \"name\": \"precision_score_macro_max\", \"stepped\": true, \"type\": \"scatter\", \"data\": [0.7177702021983517, 0.7218176045287529, 0.7218176045287529, 0.7518757403775257, 0.7518757403775257, 0.7518757403775257, 0.7518757403775257, 0.7518757403775257, 0.7518757403775257, 0.7518757403775257, 0.7518757403775257, 0.7518757403775257, 0.7518757403775257, 0.7518757403775257, 0.7884483587510619, 0.7884483587510619, 0.7884483587510619, 0.7884483587510619, 0.7884483587510619, 0.7884483587510619, 0.7884483587510619, 0.7884483587510619, 0.7884483587510619, 0.7884483587510619, 0.7884483587510619, 0.7884483587510619, 0.7884483587510619, 0.7884483587510619, 0.7884483587510619]}], \"precision_score_micro\": [{\"categories\": [\"0\", \"1\", \"3\", \"5\", \"6\", \"8\", \"11\", \"13\", \"15\", \"17\", \"20\", \"21\", \"22\", \"23\", \"24\", \"25\", \"26\", \"27\", \"28\", \"29\", \"30\", \"31\", \"32\", \"33\", \"34\", \"35\", \"36\", \"37\", \"38\"], \"mode\": \"markers\", \"name\": \"precision_score_micro\", \"stepped\": false, \"type\": \"scatter\", \"data\": [0.7461420932009167, 0.7500381970970207, 0.6784568372803668, 0.7227739580680757, 0.7513708513708514, 0.6511416687887276, 0.7604532722179781, 0.6888040064510653, 0.7005941770647653, 0.7448688566335624, 0.7435701553348611, 0.7500127323656736, 0.7031661149308208, 0.712282488753077, 0.7422799422799422, 0.4491893727187845, 0.7747644512350395, 0.6563449622273152, 0.7644087938205585, 0.6511416687887276, 0.6511416687887276, 0.7539512774806891, 0.7578898225957049, 0.7656395891690009, 0.752610134963076, 0.6680502504031915, 0.7149308208131737, 0.7813003989474577, 0.7747814277226042]}, {\"categories\": [\"0\", \"1\", \"3\", \"5\", \"6\", \"8\", \"11\", \"13\", \"15\", \"17\", \"20\", \"21\", \"22\", \"23\", \"24\", \"25\", \"26\", \"27\", \"28\", \"29\", \"30\", \"31\", \"32\", \"33\", \"34\", \"35\", \"36\", \"37\", \"38\"], \"mode\": \"lines\", \"name\": \"precision_score_micro_max\", \"stepped\": true, \"type\": \"scatter\", \"data\": [0.7461420932009167, 0.7500381970970207, 0.7500381970970207, 0.7500381970970207, 0.7513708513708514, 0.7513708513708514, 0.7604532722179781, 0.7604532722179781, 0.7604532722179781, 0.7604532722179781, 0.7604532722179781, 0.7604532722179781, 0.7604532722179781, 0.7604532722179781, 0.7604532722179781, 0.7604532722179781, 0.7747644512350395, 0.7747644512350395, 0.7747644512350395, 0.7747644512350395, 0.7747644512350395, 0.7747644512350395, 0.7747644512350395, 0.7747644512350395, 0.7747644512350395, 0.7747644512350395, 0.7747644512350395, 0.7813003989474577, 0.7813003989474577]}], \"AUC_micro\": [{\"categories\": [\"0\", \"1\", \"3\", \"5\", \"6\", \"8\", \"11\", \"13\", \"15\", \"17\", \"20\", \"21\", \"22\", \"23\", \"24\", \"25\", \"26\", \"27\", \"28\", \"29\", \"30\", \"31\", \"32\", \"33\", \"34\", \"35\", \"36\", \"37\", \"38\"], \"mode\": \"markers\", \"name\": \"AUC_micro\", \"stepped\": false, \"type\": \"scatter\", \"data\": [0.8305842991151339, 0.8295805914868513, 0.7428853717975784, 0.8145366704632121, 0.8225679097509111, 0.7658168497957889, 0.8418605210138935, 0.7502714216999931, 0.7730006830150631, 0.8345927430912227, 0.8153139287368381, 0.8351319104857954, 0.750005901278389, 0.7671908684970594, 0.819376758427673, 0.4491893727187845, 0.8403573788398306, 0.7519546445489015, 0.8392996983449207, 0.7795306037213496, 0.7131280388062244, 0.8480041488137774, 0.8445716459759509, 0.8407871915578742, 0.852441714905952, 0.7072243820375158, 0.8105140700476159, 0.8573425491840986, 0.8552526550871343]}, {\"categories\": [\"0\", \"1\", \"3\", \"5\", \"6\", \"8\", \"11\", \"13\", \"15\", \"17\", \"20\", \"21\", \"22\", \"23\", \"24\", \"25\", \"26\", \"27\", \"28\", \"29\", \"30\", \"31\", \"32\", \"33\", \"34\", \"35\", \"36\", \"37\", \"38\"], \"mode\": \"lines\", \"name\": \"AUC_micro_max\", \"stepped\": true, \"type\": \"scatter\", \"data\": [0.8305842991151339, 0.8305842991151339, 0.8305842991151339, 0.8305842991151339, 0.8305842991151339, 0.8305842991151339, 0.8418605210138935, 0.8418605210138935, 0.8418605210138935, 0.8418605210138935, 0.8418605210138935, 0.8418605210138935, 0.8418605210138935, 0.8418605210138935, 0.8418605210138935, 0.8418605210138935, 0.8418605210138935, 0.8418605210138935, 0.8418605210138935, 0.8418605210138935, 0.8418605210138935, 0.8480041488137774, 0.8480041488137774, 0.8480041488137774, 0.852441714905952, 0.852441714905952, 0.852441714905952, 0.8573425491840986, 0.8573425491840986]}], \"norm_macro_recall\": [{\"categories\": [\"0\", \"1\", \"3\", \"5\", \"6\", \"8\", \"11\", \"13\", \"15\", \"17\", \"20\", \"21\", \"22\", \"23\", \"24\", \"25\", \"26\", \"27\", \"28\", \"29\", \"30\", \"31\", \"32\", \"33\", \"34\", \"35\", \"36\", \"37\", \"38\"], \"mode\": \"markers\", \"name\": \"norm_macro_recall\", \"stepped\": false, \"type\": \"scatter\", \"data\": [0.42276761173837885, 0.4307133597768102, 0.20827615307203753, 0.24547196483591116, 0.399865611476426, 0.0, 0.44116714683765734, 0.3679453316861386, 0.3905225383448748, 0.3296927888142258, 0.4511731628269137, 0.4272271010651531, 0.2994766822086053, 0.29952418714089585, 0.2949815597103231, 0.0, 0.4436237593804819, 0.029421876247152, 0.40890348372938, 0.0, 0.0, 0.38561198598847274, 0.37833825107826946, 0.40643072184665374, 0.4168028606761994, 0.1439381940795154, 0.2110519905943003, 0.4730575439741944, 0.4537978646033535]}, {\"categories\": [\"0\", \"1\", \"3\", \"5\", \"6\", \"8\", \"11\", \"13\", \"15\", \"17\", \"20\", \"21\", \"22\", \"23\", \"24\", \"25\", \"26\", \"27\", \"28\", \"29\", \"30\", \"31\", \"32\", \"33\", \"34\", \"35\", \"36\", \"37\", \"38\"], \"mode\": \"lines\", \"name\": \"norm_macro_recall_max\", \"stepped\": true, \"type\": \"scatter\", \"data\": [0.42276761173837885, 0.4307133597768102, 0.4307133597768102, 0.4307133597768102, 0.4307133597768102, 0.4307133597768102, 0.44116714683765734, 0.44116714683765734, 0.44116714683765734, 0.44116714683765734, 0.4511731628269137, 0.4511731628269137, 0.4511731628269137, 0.4511731628269137, 0.4511731628269137, 0.4511731628269137, 0.4511731628269137, 0.4511731628269137, 0.4511731628269137, 0.4511731628269137, 0.4511731628269137, 0.4511731628269137, 0.4511731628269137, 0.4511731628269137, 0.4511731628269137, 0.4511731628269137, 0.4511731628269137, 0.4730575439741944, 0.4730575439741944]}], \"AUC_macro\": [{\"categories\": [\"0\", \"1\", \"3\", \"5\", \"6\", \"8\", \"11\", \"13\", \"15\", \"17\", \"20\", \"21\", \"22\", \"23\", \"24\", \"25\", \"26\", \"27\", \"28\", \"29\", \"30\", \"31\", \"32\", \"33\", \"34\", \"35\", \"36\", \"37\", \"38\"], \"mode\": \"markers\", \"name\": \"AUC_macro\", \"stepped\": false, \"type\": \"scatter\", \"data\": [0.8044555568955882, 0.8025650959417614, 0.6952153458301298, 0.8227792051351523, 0.7943780358516352, 0.7528322649128637, 0.821196709026568, 0.7583040235789514, 0.7570030990055752, 0.8250602227236833, 0.7954630403731733, 0.811227785966435, 0.707852806838909, 0.720576993916692, 0.8264252795207634, 0.5, 0.8128990008279429, 0.7224681006151566, 0.8235311461168102, 0.7842029349919076, 0.6383589184852684, 0.8342461042988617, 0.8284086787016571, 0.8179447049411179, 0.8336931279215005, 0.646162137316883, 0.82706282892657, 0.8366161340434213, 0.8360314165566628]}, {\"categories\": [\"0\", \"1\", \"3\", \"5\", \"6\", \"8\", \"11\", \"13\", \"15\", \"17\", \"20\", \"21\", \"22\", \"23\", \"24\", \"25\", \"26\", \"27\", \"28\", \"29\", \"30\", \"31\", \"32\", \"33\", \"34\", \"35\", \"36\", \"37\", \"38\"], \"mode\": \"lines\", \"name\": \"AUC_macro_max\", \"stepped\": true, \"type\": \"scatter\", \"data\": [0.8044555568955882, 0.8044555568955882, 0.8044555568955882, 0.8227792051351523, 0.8227792051351523, 0.8227792051351523, 0.8227792051351523, 0.8227792051351523, 0.8227792051351523, 0.8250602227236833, 0.8250602227236833, 0.8250602227236833, 0.8250602227236833, 0.8250602227236833, 0.8264252795207634, 0.8264252795207634, 0.8264252795207634, 0.8264252795207634, 0.8264252795207634, 0.8264252795207634, 0.8264252795207634, 0.8342461042988617, 0.8342461042988617, 0.8342461042988617, 0.8342461042988617, 0.8342461042988617, 0.8342461042988617, 0.8366161340434213, 0.8366161340434213]}], \"average_precision_score_micro\": [{\"categories\": [\"0\", \"1\", \"3\", \"5\", \"6\", \"8\", \"11\", \"13\", \"15\", \"17\", \"20\", \"21\", \"22\", \"23\", \"24\", \"25\", \"26\", \"27\", \"28\", \"29\", \"30\", \"31\", \"32\", \"33\", \"34\", \"35\", \"36\", \"37\", \"38\"], \"mode\": \"markers\", \"name\": \"average_precision_score_micro\", \"stepped\": false, \"type\": \"scatter\", \"data\": [0.8311608346515413, 0.8260147485074472, 0.7372527180015165, 0.8232717110254473, 0.8232814083344004, 0.7745499402855112, 0.8379459056807876, 0.7425269402074365, 0.7744693213082537, 0.8389908179193416, 0.8106421573355493, 0.8335270173077349, 0.7421898615130612, 0.7541975459726892, 0.825793852638603, 0.500003068621532, 0.8339735700645662, 0.7580272227769481, 0.8389454101379888, 0.7935711864130051, 0.7057665592090298, 0.8491761883309543, 0.8460648494900915, 0.8339222505128749, 0.8538716191966111, 0.6770246907496237, 0.8212606955975122, 0.8588716208675248, 0.8563744318539431]}, {\"categories\": [\"0\", \"1\", \"3\", \"5\", \"6\", \"8\", \"11\", \"13\", \"15\", \"17\", \"20\", \"21\", \"22\", \"23\", \"24\", \"25\", \"26\", \"27\", \"28\", \"29\", \"30\", \"31\", \"32\", \"33\", \"34\", \"35\", \"36\", \"37\", \"38\"], \"mode\": \"lines\", \"name\": \"average_precision_score_micro_max\", \"stepped\": true, \"type\": \"scatter\", \"data\": [0.8311608346515413, 0.8311608346515413, 0.8311608346515413, 0.8311608346515413, 0.8311608346515413, 0.8311608346515413, 0.8379459056807876, 0.8379459056807876, 0.8379459056807876, 0.8389908179193416, 0.8389908179193416, 0.8389908179193416, 0.8389908179193416, 0.8389908179193416, 0.8389908179193416, 0.8389908179193416, 0.8389908179193416, 0.8389908179193416, 0.8389908179193416, 0.8389908179193416, 0.8389908179193416, 0.8491761883309543, 0.8491761883309543, 0.8491761883309543, 0.8538716191966111, 0.8538716191966111, 0.8538716191966111, 0.8588716208675248, 0.8588716208675248]}], \"balanced_accuracy\": [{\"categories\": [\"0\", \"1\", \"3\", \"5\", \"6\", \"8\", \"11\", \"13\", \"15\", \"17\", \"20\", \"21\", \"22\", \"23\", \"24\", \"25\", \"26\", \"27\", \"28\", \"29\", \"30\", \"31\", \"32\", \"33\", \"34\", \"35\", \"36\", \"37\", \"38\"], \"mode\": \"markers\", \"name\": \"balanced_accuracy\", \"stepped\": false, \"type\": \"scatter\", \"data\": [0.7113838058691895, 0.7153566798884052, 0.6041380765360188, 0.6227359824179557, 0.6999328057382129, 0.5, 0.7205835734188286, 0.6839726658430693, 0.6952612691724374, 0.6648463944071129, 0.725586581413457, 0.7136135505325766, 0.6497383411043026, 0.649762093570448, 0.6474907798551615, 0.5, 0.721811879690241, 0.5147109381235759, 0.70445174186469, 0.5, 0.5, 0.6928059929942364, 0.6891691255391347, 0.7032153609233268, 0.7084014303380998, 0.5719690970397577, 0.6055259952971502, 0.7365287719870972, 0.7268989323016768]}, {\"categories\": [\"0\", \"1\", \"3\", \"5\", \"6\", \"8\", \"11\", \"13\", \"15\", \"17\", \"20\", \"21\", \"22\", \"23\", \"24\", \"25\", \"26\", \"27\", \"28\", \"29\", \"30\", \"31\", \"32\", \"33\", \"34\", \"35\", \"36\", \"37\", \"38\"], \"mode\": \"lines\", \"name\": \"balanced_accuracy_max\", \"stepped\": true, \"type\": \"scatter\", \"data\": [0.7113838058691895, 0.7153566798884052, 0.7153566798884052, 0.7153566798884052, 0.7153566798884052, 0.7153566798884052, 0.7205835734188286, 0.7205835734188286, 0.7205835734188286, 0.7205835734188286, 0.725586581413457, 0.725586581413457, 0.725586581413457, 0.725586581413457, 0.725586581413457, 0.725586581413457, 0.725586581413457, 0.725586581413457, 0.725586581413457, 0.725586581413457, 0.725586581413457, 0.725586581413457, 0.725586581413457, 0.725586581413457, 0.725586581413457, 0.725586581413457, 0.725586581413457, 0.7365287719870972, 0.7365287719870972]}]}, \"metricName\": null, \"primaryMetricName\": \"accuracy\", \"showLegend\": false}, \"run_metrics\": [{\"name\": \"experiment_status\", \"run_id\": \"AutoML_6fbd8108-694c-4c0f-b574-162150ee33a4\", \"categories\": [0, 1, 2, 3, 4, 5, 6, 7, 8, 9, 10, 11, 12, 13], \"series\": [{\"data\": [\"DatasetEvaluation\", \"FeaturesGeneration\", \"DatasetFeaturization\", \"DatasetFeaturizationCompleted\", \"DatasetCrossValidationSplit\", \"ModelSelection\", \"BestRunExplainModel\", \"ModelExplanationDataSetSetup\", \"PickSurrogateModel\", \"EngineeredFeatureExplanations\", \"EngineeredFeatureExplanations\", \"RawFeaturesExplanations\", \"RawFeaturesExplanations\", \"BestRunExplainModel\"]}]}, {\"name\": \"experiment_status_description\", \"run_id\": \"AutoML_6fbd8108-694c-4c0f-b574-162150ee33a4\", \"categories\": [0, 1, 2, 3, 4, 5, 6, 7, 8, 9, 10, 11, 12, 13], \"series\": [{\"data\": [\"Gathering dataset statistics.\", \"Generating features for the dataset.\", \"Beginning to fit featurizers and featurize the dataset.\", \"Completed fit featurizers and featurizing the dataset.\", \"Generating individually featurized CV splits.\", \"Beginning model selection.\", \"Best run model explanations started\", \"Model explanations data setup completed\", \"Choosing LightGBM as the surrogate model for explanations\", \"Computation of engineered features started\", \"Computation of engineered features completed\", \"Computation of raw features started\", \"Computation of raw features completed\", \"Best run model explanations completed\"]}]}, {\"name\": \"AUC_weighted\", \"run_id\": \"AutoML_6fbd8108-694c-4c0f-b574-162150ee33a4\", \"categories\": [0], \"series\": [{\"data\": [0.8366161340434213]}]}, {\"name\": \"precision_score_macro\", \"run_id\": \"AutoML_6fbd8108-694c-4c0f-b574-162150ee33a4\", \"categories\": [0], \"series\": [{\"data\": [0.7629121069803007]}]}, {\"name\": \"f1_score_macro\", \"run_id\": \"AutoML_6fbd8108-694c-4c0f-b574-162150ee33a4\", \"categories\": [0], \"series\": [{\"data\": [0.7444944415676371]}]}, {\"name\": \"AUC_macro\", \"run_id\": \"AutoML_6fbd8108-694c-4c0f-b574-162150ee33a4\", \"categories\": [0], \"series\": [{\"data\": [0.8366161340434213]}]}, {\"name\": \"AUC_micro\", \"run_id\": \"AutoML_6fbd8108-694c-4c0f-b574-162150ee33a4\", \"categories\": [0], \"series\": [{\"data\": [0.8573425491840986]}]}, {\"name\": \"norm_macro_recall\", \"run_id\": \"AutoML_6fbd8108-694c-4c0f-b574-162150ee33a4\", \"categories\": [0], \"series\": [{\"data\": [0.4730575439741944]}]}, {\"name\": \"matthews_correlation\", \"run_id\": \"AutoML_6fbd8108-694c-4c0f-b574-162150ee33a4\", \"categories\": [0], \"series\": [{\"data\": [0.4985301830720811]}]}, {\"name\": \"log_loss\", \"run_id\": \"AutoML_6fbd8108-694c-4c0f-b574-162150ee33a4\", \"categories\": [0], \"series\": [{\"data\": [0.47362820974418474]}]}, {\"name\": \"balanced_accuracy\", \"run_id\": \"AutoML_6fbd8108-694c-4c0f-b574-162150ee33a4\", \"categories\": [0], \"series\": [{\"data\": [0.7365287719870972]}]}, {\"name\": \"recall_score_weighted\", \"run_id\": \"AutoML_6fbd8108-694c-4c0f-b574-162150ee33a4\", \"categories\": [0], \"series\": [{\"data\": [0.7813003989474577]}]}, {\"name\": \"recall_score_macro\", \"run_id\": \"AutoML_6fbd8108-694c-4c0f-b574-162150ee33a4\", \"categories\": [0], \"series\": [{\"data\": [0.7365287719870972]}]}, {\"name\": \"average_precision_score_macro\", \"run_id\": \"AutoML_6fbd8108-694c-4c0f-b574-162150ee33a4\", \"categories\": [0], \"series\": [{\"data\": [0.819425856426021]}]}, {\"name\": \"precision_score_micro\", \"run_id\": \"AutoML_6fbd8108-694c-4c0f-b574-162150ee33a4\", \"categories\": [0], \"series\": [{\"data\": [0.7813003989474577]}]}, {\"name\": \"average_precision_score_weighted\", \"run_id\": \"AutoML_6fbd8108-694c-4c0f-b574-162150ee33a4\", \"categories\": [0], \"series\": [{\"data\": [0.8480668946434713]}]}, {\"name\": \"recall_score_micro\", \"run_id\": \"AutoML_6fbd8108-694c-4c0f-b574-162150ee33a4\", \"categories\": [0], \"series\": [{\"data\": [0.7813003989474577]}]}, {\"name\": \"precision_score_weighted\", \"run_id\": \"AutoML_6fbd8108-694c-4c0f-b574-162150ee33a4\", \"categories\": [0], \"series\": [{\"data\": [0.7787345842549934]}]}, {\"name\": \"f1_score_weighted\", \"run_id\": \"AutoML_6fbd8108-694c-4c0f-b574-162150ee33a4\", \"categories\": [0], \"series\": [{\"data\": [0.7755938672310476]}]}, {\"name\": \"weighted_accuracy\", \"run_id\": \"AutoML_6fbd8108-694c-4c0f-b574-162150ee33a4\", \"categories\": [0], \"series\": [{\"data\": [0.8158363846532005]}]}, {\"name\": \"f1_score_micro\", \"run_id\": \"AutoML_6fbd8108-694c-4c0f-b574-162150ee33a4\", \"categories\": [0], \"series\": [{\"data\": [0.7813003989474577]}]}, {\"name\": \"average_precision_score_micro\", \"run_id\": \"AutoML_6fbd8108-694c-4c0f-b574-162150ee33a4\", \"categories\": [0], \"series\": [{\"data\": [0.8588716208675248]}]}, {\"name\": \"accuracy\", \"run_id\": \"AutoML_6fbd8108-694c-4c0f-b574-162150ee33a4\", \"categories\": [0], \"series\": [{\"data\": [0.7813003989474577]}]}], \"run_logs\": \"\\nRun is completed.\", \"graph\": {}, \"widget_settings\": {\"childWidgetDisplay\": \"popup\", \"send_telemetry\": false, \"log_level\": \"INFO\", \"sdk_version\": \"1.49.0\"}, \"loading\": false}"
     },
     "metadata": {},
     "output_type": "display_data"
    }
   ],
   "source": [
    "from azureml.widgets import RunDetails\n",
    "# Monitor the run using RunDetails widget\n",
    "RunDetails(remote_run).show()"
   ]
  },
  {
   "cell_type": "markdown",
   "metadata": {},
   "source": [
    "## Best Model\n",
    "\n",
    "TODO: In the cell below, get the best model from the automl experiments and display all the properties of the model.\n",
    "\n"
   ]
  },
  {
   "cell_type": "code",
   "execution_count": 10,
   "metadata": {
    "gather": {
     "logged": 1684482178034
    },
    "jupyter": {
     "outputs_hidden": false,
     "source_hidden": false
    },
    "nteract": {
     "transient": {
      "deleting": false
     }
    }
   },
   "outputs": [
    {
     "name": "stderr",
     "output_type": "stream",
     "text": [
      "WARNING:root:The version of the SDK does not match the version the model was trained on.\n",
      "WARNING:root:The consistency in the result may not be guaranteed.\n",
      "WARNING:root:Package:azureml-automl-core, training version:1.50.0, current version:1.49.0\n",
      "Package:azureml-automl-runtime, training version:1.50.0, current version:1.49.0\n",
      "Package:azureml-core, training version:1.50.0, current version:1.49.0\n",
      "Package:azureml-dataprep, training version:4.10.6, current version:4.9.1\n",
      "Package:azureml-dataprep-rslex, training version:2.17.5, current version:2.16.1\n",
      "Package:azureml-dataset-runtime, training version:1.50.0, current version:1.49.0\n",
      "Package:azureml-defaults, training version:1.50.0, current version:1.49.0\n",
      "Package:azureml-interpret, training version:1.50.0, current version:1.49.0\n",
      "Package:azureml-mlflow, training version:1.50.0, current version:1.49.0\n",
      "Package:azureml-pipeline-core, training version:1.50.0.post1, current version:1.49.0\n",
      "Package:azureml-responsibleai, training version:1.50.0, current version:1.49.0\n",
      "Package:azureml-telemetry, training version:1.50.0, current version:1.49.0\n",
      "Package:azureml-train-automl-client, training version:1.50.0, current version:1.49.0\n",
      "Package:azureml-train-automl-runtime, training version:1.50.0, current version:1.49.0\n",
      "Package:azureml-train-core, training version:1.50.0, current version:1.49.0\n",
      "Package:azureml-train-restclients-hyperdrive, training version:1.50.0, current version:1.49.0\n",
      "Package:azureml-training-tabular, training version:1.50.0, current version:1.49.0\n",
      "WARNING:root:Please ensure the version of your local conda dependencies match the version on which your model was trained in order to properly retrieve your model.\n"
     ]
    },
    {
     "name": "stdout",
     "output_type": "stream",
     "text": [
      "Run(Experiment: Capstone-AutoML,\n",
      "Id: AutoML_6fbd8108-694c-4c0f-b574-162150ee33a4_37,\n",
      "Type: azureml.scriptrun,\n",
      "Status: Completed)\n",
      "Pipeline(memory=None,\n",
      "         steps=[('datatransformer',\n",
      "                 DataTransformer(enable_dnn=False, enable_feature_sweeping=True, feature_sweeping_config={}, feature_sweeping_timeout=86400, featurization_config=None, force_text_dnn=False, is_cross_validation=True, is_onnx_compatible=False, observer=None, task='classification', working_dir='/mnt/batch/tasks/shared/LS_root/mount...\n",
      "                 PreFittedSoftVotingClassifier(classification_labels=array([0, 1]), estimators=[('26', Pipeline(memory=None, steps=[('standardscalerwrapper', StandardScalerWrapper(copy=True, with_mean=False, with_std=True)), ('logisticregression', LogisticRegression(C=1.7575106248547894, class_weight=None, dual=False, fit_intercept=True, intercept_scaling=1, l1_ratio=None, max_iter=100, multi_class='multinomial', n_jobs=1, penalty='l1', random_state=None, solver='saga', tol=0.0001, verbose=0, warm_start=False))], verbose=False)), ('7', Pipeline(memory=None, steps=[('maxabsscaler', MaxAbsScaler(copy=True)), ('logisticregression', LogisticRegression(C=1.7575106248547894, class_weight=None, dual=False, fit_intercept=True, intercept_scaling=1, l1_ratio=None, max_iter=100, multi_class='multinomial', n_jobs=1, penalty='l2', random_state=None, solver='lbfgs', tol=0.0001, verbose=0, warm_start=False))], verbose=False)), ('12', Pipeline(memory=None, steps=[('maxabsscaler', MaxAbsScaler(copy=True)), ('logisticregression', LogisticRegression(C=719.6856730011514, class_weight=None, dual=False, fit_intercept=True, intercept_scaling=1, l1_ratio=None, max_iter=100, multi_class='multinomial', n_jobs=1, penalty='l2', random_state=None, solver='lbfgs', tol=0.0001, verbose=0, warm_start=False))], verbose=False)), ('14', Pipeline(memory=None, steps=[('standardscalerwrapper', StandardScalerWrapper(copy=True, with_mean=False, with_std=False)), ('xgboostclassifier', XGBoostClassifier(booster='gbtree', colsample_bytree=1, eta=0.3, gamma=0, max_depth=10, max_leaves=511, n_estimators=10, n_jobs=1, objective='reg:logistic', problem_info=ProblemInfo(gpu_training_param_dict={'processing_unit_type': 'cpu'}), random_state=0, reg_alpha=2.1875, reg_lambda=0.4166666666666667, subsample=0.5, tree_method='auto'))], verbose=False)), ('18', Pipeline(memory=None, steps=[('standardscalerwrapper', StandardScalerWrapper(copy=True, with_mean=False, with_std=False)), ('xgboostclassifier', XGBoostClassifier(booster='gbtree', colsample_bytree=0.7, eta=0.1, gamma=0.1, max_depth=9, max_leaves=511, n_estimators=25, n_jobs=1, objective='reg:logistic', problem_info=ProblemInfo(gpu_training_param_dict={'processing_unit_type': 'cpu'}), random_state=0, reg_alpha=0, reg_lambda=1.7708333333333335, subsample=0.9, tree_method='auto'))], verbose=False)), ('16', Pipeline(memory=None, steps=[('standardscalerwrapper', StandardScalerWrapper(copy=True, with_mean=False, with_std=False)), ('logisticregression', LogisticRegression(C=51.79474679231202, class_weight=None, dual=False, fit_intercept=True, intercept_scaling=1, l1_ratio=None, max_iter=100, multi_class='ovr', n_jobs=1, penalty='l2', random_state=None, solver='lbfgs', tol=0.0001, verbose=0, warm_start=False))], verbose=False)), ('6', Pipeline(memory=None, steps=[('standardscalerwrapper', StandardScalerWrapper(copy=True, with_mean=False, with_std=False)), ('xgboostclassifier', XGBoostClassifier(booster='gbtree', colsample_bytree=0.5, eta=0.3, gamma=0, max_depth=10, max_leaves=255, n_estimators=10, n_jobs=1, objective='reg:logistic', problem_info=ProblemInfo(gpu_training_param_dict={'processing_unit_type': 'cpu'}), random_state=0, reg_alpha=0, reg_lambda=0.10416666666666667, subsample=0.7, tree_method='auto'))], verbose=False)), ('1', Pipeline(memory=None, steps=[('maxabsscaler', MaxAbsScaler(copy=True)), ('xgboostclassifier', XGBoostClassifier(n_jobs=1, problem_info=ProblemInfo(gpu_training_param_dict={'processing_unit_type': 'cpu'}), random_state=0, tree_method='auto'))], verbose=False)), ('19', Pipeline(memory=None, steps=[('truncatedsvdwrapper', TruncatedSVDWrapper(n_components=0.8015789473684211, random_state=None)), ('randomforestclassifier', RandomForestClassifier(bootstrap=False, ccp_alpha=0.0, class_weight='balanced', criterion='entropy', max_depth=None, max_features='sqrt', max_leaf_nodes=None, max_samples=None, min_impurity_decrease=0.0, min_impurity_split=None, min_samples_leaf=0.035789473684210524, min_samples_split=0.15052631578947367, min_weight_fraction_leaf=0.0, n_estimators=100, n_jobs=1, oob_score=False, random_state=None, verbose=0, warm_start=False))], verbose=False))], flatten_transform=None, weights=[0.1, 0.1, 0.1, 0.1, 0.2, 0.1, 0.1, 0.1, 0.1]))],\n",
      "         verbose=False)\n"
     ]
    }
   ],
   "source": [
    "best_run, fitted_model = remote_run.get_output()\n",
    "print(best_run)\n",
    "print(fitted_model)"
   ]
  },
  {
   "cell_type": "code",
   "execution_count": 11,
   "metadata": {
    "gather": {
     "logged": 1684482222006
    },
    "jupyter": {
     "outputs_hidden": false,
     "source_hidden": false
    },
    "nteract": {
     "transient": {
      "deleting": false
     }
    }
   },
   "outputs": [
    {
     "data": {
      "text/plain": [
       "['automl_best_model.pkl']"
      ]
     },
     "execution_count": 11,
     "metadata": {},
     "output_type": "execute_result"
    }
   ],
   "source": [
    "#TODO: Save the best model\n",
    "import joblib\n",
    "joblib.dump(fitted_model,'automl_best_model.pkl')\n",
    "\n"
   ]
  },
  {
   "cell_type": "code",
   "execution_count": 41,
   "metadata": {
    "gather": {
     "logged": 1684489683024
    },
    "jupyter": {
     "outputs_hidden": false,
     "source_hidden": false
    },
    "nteract": {
     "transient": {
      "deleting": false
     }
    }
   },
   "outputs": [
    {
     "data": {
      "text/plain": [
       "Model(workspace=Workspace.create(name='quick-starts-ws-233997', subscription_id='9e65f93e-bdd8-437b-b1e8-0647cd6098f7', resource_group='aml-quickstarts-233997'), name=best_run_capstone_automl, id=best_run_capstone_automl:1, version=1, tags={}, properties={})"
      ]
     },
     "execution_count": 41,
     "metadata": {},
     "output_type": "execute_result"
    }
   ],
   "source": [
    "\n",
    "best_run.register_model(model_name='best_run_capstone_automl', model_path='./outputs/')"
   ]
  },
  {
   "cell_type": "code",
   "execution_count": 46,
   "metadata": {
    "gather": {
     "logged": 1684490544176
    },
    "jupyter": {
     "outputs_hidden": false,
     "source_hidden": false
    },
    "nteract": {
     "transient": {
      "deleting": false
     }
    }
   },
   "outputs": [],
   "source": [
    "#download environment file\n",
    "best_run.download_file('outputs/conda_env_v_1_0_0.yml')"
   ]
  },
  {
   "cell_type": "markdown",
   "metadata": {},
   "source": [
    "## Model Deployment\n",
    "\n",
    "Remember you have to deploy only one of the two models you trained but you still need to register both the models. Perform the steps in the rest of this notebook only if you wish to deploy this model.\n",
    "\n",
    "TODO: In the cell below, register the model, create an inference config and deploy the model as a web service."
   ]
  },
  {
   "cell_type": "code",
   "execution_count": 43,
   "metadata": {
    "gather": {
     "logged": 1684490340893
    },
    "jupyter": {
     "outputs_hidden": false,
     "source_hidden": false
    },
    "nteract": {
     "transient": {
      "deleting": false
     }
    }
   },
   "outputs": [
    {
     "name": "stderr",
     "output_type": "stream",
     "text": [
      "WARNING:azureml.core.model:Warning, custom base image or base dockerfile detected without a specified `inferencing_stack_version`. Please set environment.inferencing_stack_version='latest'\n"
     ]
    },
    {
     "name": "stdout",
     "output_type": "stream",
     "text": [
      "Tips: You can try get_logs(): https://aka.ms/debugimage#dockerlog or local deployment: https://aka.ms/debugimage#debug-locally to debug if deployment takes longer than 10 minutes.\n",
      "Running\n",
      "2023-05-19 09:55:43+00:00 Creating Container Registry if not exists.\n",
      "2023-05-19 09:55:43+00:00 Registering the environment.\n",
      "2023-05-19 09:55:44+00:00 Use the existing image.\n",
      "2023-05-19 09:55:44+00:00 Submitting deployment to compute.\n",
      "2023-05-19 09:55:49+00:00 Checking the status of deployment automl-best-model1..\n",
      "2023-05-19 09:58:13+00:00 Checking the status of inference endpoint automl-best-model1.\n",
      "Succeeded\n",
      "ACI service creation operation finished, operation \"Succeeded\"\n"
     ]
    }
   ],
   "source": [
    "from azureml.core.model import Model\n",
    "from azureml.core.webservice import AciWebservice\n",
    "from azureml.core.model import InferenceConfig\n",
    "model = remote_run.register_model(model_name = 'best_model_automl')\n",
    "\n",
    "environment = best_run.get_environment()\n",
    "entry_script='testing/scoring.py'\n",
    "best_run.download_file('outputs/scoring_file_v_1_0_0.py', entry_script)\n",
    "\n",
    "\n",
    "inference_config = InferenceConfig(entry_script = entry_script, environment = environment)\n",
    "\n",
    "deployment_config = AciWebservice.deploy_configuration( auth_enabled= True, \n",
    "                                                    enable_app_insights= True)\n",
    "\n",
    "service = Model.deploy(ws, \"automl-best-model1\", [model], inference_config, deployment_config)\n",
    "service.wait_for_deployment(show_output = True)"
   ]
  },
  {
   "cell_type": "markdown",
   "metadata": {
    "collapsed": true,
    "gather": {
     "logged": 1598431657736
    },
    "jupyter": {
     "outputs_hidden": false,
     "source_hidden": false
    },
    "nteract": {
     "transient": {
      "deleting": false
     }
    }
   },
   "source": [
    "TODO: In the cell below, send a request to the web service you deployed to test it."
   ]
  },
  {
   "cell_type": "code",
   "execution_count": 50,
   "metadata": {
    "gather": {
     "logged": 1684490807939
    },
    "jupyter": {
     "outputs_hidden": false,
     "source_hidden": false
    },
    "nteract": {
     "transient": {
      "deleting": false
     }
    }
   },
   "outputs": [
    {
     "name": "stdout",
     "output_type": "stream",
     "text": [
      "{\"result\": [0]}\n"
     ]
    }
   ],
   "source": [
    "from azureml.core import Webservice\n",
    "import json\n",
    "\n",
    "\n",
    "# Specify the deployed service name\n",
    "service_name = 'automl-best-model1'\n",
    "\n",
    "# Get the deployed web service\n",
    "service = Webservice(ws, name=service_name)\n",
    "\n",
    "\n",
    "input_data = {\n",
    "    'data': [\n",
    "        {'Pregnancies': 6, 'Glucose': 8, 'BloodPressure':72, 'SkinThickness':35, 'Insulin':0,\n",
    "    'BMI':33.6,'DiabetesPedigreeFunction':0.627,'Age':50}  \n",
    "    ]\n",
    "}\n",
    "# Convert input data to JSON format\n",
    "input_data_json = json.dumps(input_data)\n",
    "\n",
    "# Send a request to the web service\n",
    "output = service.run(input_data_json)\n",
    "\n",
    "# Print the predicted output\n",
    "print(output)\n"
   ]
  },
  {
   "cell_type": "markdown",
   "metadata": {
    "collapsed": true,
    "gather": {
     "logged": 1598432765711
    },
    "jupyter": {
     "outputs_hidden": false,
     "source_hidden": false
    },
    "nteract": {
     "transient": {
      "deleting": false
     }
    }
   },
   "source": [
    "TODO: In the cell below, print the logs of the web service and delete the service"
   ]
  },
  {
   "cell_type": "code",
   "execution_count": 51,
   "metadata": {
    "gather": {
     "logged": 1684490820520
    },
    "jupyter": {
     "outputs_hidden": false,
     "source_hidden": false
    },
    "nteract": {
     "transient": {
      "deleting": false
     }
    }
   },
   "outputs": [
    {
     "name": "stdout",
     "output_type": "stream",
     "text": [
      "2023-05-19T09:57:58,044920200+00:00 - rsyslog/run \n",
      "2023-05-19T09:57:58,061765900+00:00 - gunicorn/run \n",
      "2023-05-19T09:57:58,070843600+00:00 | gunicorn/run | \n",
      "2023-05-19T09:57:58,105668600+00:00 - nginx/run \n",
      "2023-05-19T09:57:58,110110400+00:00 | gunicorn/run | ###############################################\n",
      "2023-05-19T09:57:58,125072500+00:00 | gunicorn/run | AzureML Container Runtime Information\n",
      "2023-05-19T09:57:58,126561100+00:00 | gunicorn/run | ###############################################\n",
      "2023-05-19T09:57:58,132219100+00:00 | gunicorn/run | \n",
      "2023-05-19T09:57:58,202883300+00:00 | gunicorn/run | \n",
      "2023-05-19T09:57:58,214434800+00:00 | gunicorn/run | AzureML image information: openmpi4.1.0-ubuntu20.04, Materializaton Build:20230412.v4\n",
      "2023-05-19T09:57:58,215901400+00:00 | gunicorn/run | \n",
      "2023-05-19T09:57:58,217266300+00:00 | gunicorn/run | \n",
      "2023-05-19T09:57:58,222546900+00:00 | gunicorn/run | PATH environment variable: /azureml-envs/azureml-automl/bin:/opt/miniconda/bin:/usr/local/sbin:/usr/local/bin:/usr/sbin:/usr/bin:/sbin:/bin\n",
      "2023-05-19T09:57:58,235672200+00:00 | gunicorn/run | PYTHONPATH environment variable: \n",
      "2023-05-19T09:57:58,238565700+00:00 | gunicorn/run | \n",
      "2023-05-19T09:58:00,325613400+00:00 | gunicorn/run | CONDAPATH environment variable: /opt/miniconda\n",
      "\n",
      "# conda environments:\n",
      "#\n",
      "                         /azureml-envs/azureml-automl\n",
      "base                     /opt/miniconda\n",
      "\n",
      "2023-05-19T09:58:04,027585650+00:00 | gunicorn/run | \n",
      "2023-05-19T09:58:04,029609267+00:00 | gunicorn/run | Pip Dependencies (before dynamic installation)\n",
      "\n",
      "adal==1.2.7\n",
      "applicationinsights==0.11.10\n",
      "arch==5.3.1\n",
      "argcomplete==2.1.2\n",
      "asttokens==2.2.1\n",
      "attrs==22.2.0\n",
      "azure-common==1.1.28\n",
      "azure-core==1.26.4\n",
      "azure-graphrbac==0.61.1\n",
      "azure-identity==1.12.0\n",
      "azure-mgmt-authorization==3.0.0\n",
      "azure-mgmt-containerregistry==10.1.0\n",
      "azure-mgmt-core==1.4.0\n",
      "azure-mgmt-keyvault==10.2.1\n",
      "azure-mgmt-resource==22.0.0\n",
      "azure-mgmt-storage==21.0.0\n",
      "azure-storage-blob==12.13.0\n",
      "azure-storage-queue==12.6.0\n",
      "azureml-automl-core==1.50.0\n",
      "azureml-automl-runtime==1.50.0\n",
      "azureml-core==1.50.0\n",
      "azureml-dataprep==4.10.6\n",
      "azureml-dataprep-native==38.0.0\n",
      "azureml-dataprep-rslex==2.17.5\n",
      "azureml-dataset-runtime==1.50.0\n",
      "azureml-defaults==1.50.0\n",
      "azureml-inference-server-http==0.8.3\n",
      "azureml-interpret==1.50.0\n",
      "azureml-mlflow==1.50.0\n",
      "azureml-pipeline-core==1.50.0.post1\n",
      "azureml-responsibleai==1.50.0\n",
      "azureml-telemetry==1.50.0\n",
      "azureml-train-automl-client==1.50.0\n",
      "azureml-train-automl-runtime==1.50.0\n",
      "azureml-train-core==1.50.0\n",
      "azureml-train-restclients-hyperdrive==1.50.0\n",
      "azureml-training-tabular==1.50.0\n",
      "backcall==0.2.0\n",
      "backports.tempfile==1.0\n",
      "backports.weakref==1.0.post1\n",
      "bcrypt==4.0.1\n",
      "bokeh==2.4.3\n",
      "boto==2.49.0\n",
      "boto3==1.15.18\n",
      "botocore==1.18.18\n",
      "brotlipy @ file:///home/conda/feedstock_root/build_artifacts/brotlipy_1666764652625/work\n",
      "cachetools==5.3.0\n",
      "certifi==2022.12.7\n",
      "cffi @ file:///home/conda/feedstock_root/build_artifacts/cffi_1671179356964/work\n",
      "charset-normalizer @ file:///home/conda/feedstock_root/build_artifacts/charset-normalizer_1678108872112/work\n",
      "click==8.1.3\n",
      "cloudpickle @ file:///home/conda/feedstock_root/build_artifacts/cloudpickle_1598400192773/work\n",
      "cmdstanpy==0.9.5\n",
      "contextlib2==21.6.0\n",
      "contourpy==1.0.7\n",
      "convertdate @ file:///home/conda/feedstock_root/build_artifacts/convertdate_1642883757836/work\n",
      "cryptography @ file:///home/conda/feedstock_root/build_artifacts/cryptography-split_1675828607636/work\n",
      "cycler==0.11.0\n",
      "Cython==0.29.17\n",
      "dask==2023.2.0\n",
      "databricks-cli==0.17.6\n",
      "dataclasses==0.6\n",
      "debugpy==1.6.7\n",
      "decorator==5.1.1\n",
      "dice-ml==0.9\n",
      "dill==0.3.6\n",
      "distributed==2023.2.0\n",
      "distro==1.8.0\n",
      "docker==5.0.3\n",
      "dotnetcore2==3.1.23\n",
      "econml==0.14.0\n",
      "entrypoints==0.4\n",
      "ephem==4.1.4\n",
      "erroranalysis==0.4.2\n",
      "executing==1.2.0\n",
      "fairlearn==0.8.0\n",
      "fbprophet==0.7.1\n",
      "fire==0.5.0\n",
      "Flask==2.2.3\n",
      "Flask-Cors==3.0.10\n",
      "flatbuffers==23.3.3\n",
      "fonttools==4.39.3\n",
      "fsspec==2023.4.0\n",
      "fusepy==3.0.1\n",
      "gensim==3.8.3\n",
      "gitdb==4.0.10\n",
      "GitPython==3.1.31\n",
      "google-api-core==2.11.0\n",
      "google-auth==2.17.3\n",
      "googleapis-common-protos==1.59.0\n",
      "gunicorn==20.1.0\n",
      "h5py==3.8.0\n",
      "HeapDict==1.0.1\n",
      "holidays @ file:///home/conda/feedstock_root/build_artifacts/holidays_1595448845196/work\n",
      "humanfriendly==10.0\n",
      "idna @ file:///home/conda/feedstock_root/build_artifacts/idna_1663625384323/work\n",
      "importlib-metadata==6.3.0\n",
      "importlib-resources==5.12.0\n",
      "inference-schema==1.5.1\n",
      "interpret-community==0.28.0\n",
      "interpret-core==0.2.7\n",
      "ipykernel==6.8.0\n",
      "ipython==8.12.0\n",
      "isodate==0.6.1\n",
      "itsdangerous==2.1.2\n",
      "jedi==0.18.2\n",
      "jeepney==0.8.0\n",
      "Jinja2==3.1.2\n",
      "jmespath==0.10.0\n",
      "joblib @ file:///home/conda/feedstock_root/build_artifacts/joblib_1663332044897/work\n",
      "jsonpickle==3.0.1\n",
      "jsonschema==4.17.3\n",
      "jupyter_client==7.4.9\n",
      "jupyter_core==5.3.0\n",
      "keras2onnx==1.6.0\n",
      "kiwisolver==1.4.4\n",
      "knack==0.10.1\n",
      "korean-lunar-calendar @ file:///home/conda/feedstock_root/build_artifacts/korean_lunar_calendar_1663341251025/work\n",
      "lightgbm==3.2.1\n",
      "llvmlite==0.38.1\n",
      "locket==1.0.0\n",
      "LunarCalendar==0.0.9\n",
      "MarkupSafe==2.1.2\n",
      "matplotlib==3.7.1\n",
      "matplotlib-inline==0.1.6\n",
      "ml-wrappers==0.4.7\n",
      "mlflow-skinny==2.2.2\n",
      "mltable==1.3.0\n",
      "msal==1.21.0\n",
      "msal-extensions==1.0.0\n",
      "msgpack==1.0.5\n",
      "msrest==0.7.1\n",
      "msrestazure==0.6.4\n",
      "ndg-httpsclient==0.5.1\n",
      "nest-asyncio==1.5.6\n",
      "networkx==2.5\n",
      "numba==0.55.2\n",
      "numpy==1.22.3\n",
      "oauthlib==3.2.2\n",
      "onnx==1.13.0\n",
      "onnxconverter-common==1.6.0\n",
      "onnxmltools==1.4.1\n",
      "onnxruntime==1.11.1\n",
      "opencensus==0.11.2\n",
      "opencensus-context==0.1.3\n",
      "opencensus-ext-azure==1.1.9\n",
      "packaging==23.0\n",
      "pandas==1.1.5\n",
      "paramiko==3.1.0\n",
      "parso==0.8.3\n",
      "partd==1.4.0\n",
      "pathspec==0.11.1\n",
      "patsy==0.5.3\n",
      "pexpect==4.8.0\n",
      "pickleshare==0.7.5\n",
      "Pillow==9.5.0\n",
      "pkginfo==1.9.6\n",
      "pkgutil_resolve_name==1.3.10\n",
      "platformdirs @ file:///home/conda/feedstock_root/build_artifacts/platformdirs_1679871349196/work\n",
      "pmdarima==1.7.1\n",
      "pooch @ file:///home/conda/feedstock_root/build_artifacts/pooch_1679580333621/work\n",
      "portalocker==2.7.0\n",
      "prompt-toolkit==3.0.38\n",
      "property-cached==1.6.4\n",
      "protobuf==3.20.3\n",
      "psutil @ file:///home/conda/feedstock_root/build_artifacts/psutil_1667885878918/work\n",
      "ptyprocess==0.7.0\n",
      "pure-eval==0.2.2\n",
      "py-cpuinfo==5.0.0\n",
      "pyarrow==9.0.0\n",
      "pyasn1==0.4.8\n",
      "pyasn1-modules==0.2.8\n",
      "pycparser @ file:///home/conda/feedstock_root/build_artifacts/pycparser_1636257122734/work\n",
      "pydantic==1.10.7\n",
      "Pygments==2.15.0\n",
      "PyJWT==2.6.0\n",
      "PyMeeus @ file:///home/conda/feedstock_root/build_artifacts/pymeeus_1670868433998/work\n",
      "PyNaCl==1.5.0\n",
      "pyOpenSSL @ file:///home/conda/feedstock_root/build_artifacts/pyopenssl_1680037383858/work\n",
      "pyparsing==3.0.9\n",
      "pyrsistent==0.19.3\n",
      "PySocks @ file:///home/conda/feedstock_root/build_artifacts/pysocks_1661604839144/work\n",
      "pystan==2.19.1.1\n",
      "python-dateutil @ file:///home/conda/feedstock_root/build_artifacts/python-dateutil_1626286286081/work\n",
      "pytz==2022.7.1\n",
      "PyYAML==6.0\n",
      "pyzmq==25.0.2\n",
      "raiutils==0.4.0\n",
      "requests @ file:///home/conda/feedstock_root/build_artifacts/requests_1680286922386/work\n",
      "requests-oauthlib==1.3.1\n",
      "responsibleai==0.26.0\n",
      "rsa==4.9\n",
      "s3transfer==0.3.7\n",
      "scikit-learn==0.22.1\n",
      "scipy==1.5.3\n",
      "SecretStorage==3.3.3\n",
      "semver==2.13.0\n",
      "setuptools-git==1.2\n",
      "shap==0.39.0\n",
      "six @ file:///home/conda/feedstock_root/build_artifacts/six_1620240208055/work\n",
      "skl2onnx==1.4.9\n",
      "sklearn-pandas==1.7.0\n",
      "slicer==0.0.7\n",
      "smart-open==1.9.0\n",
      "smmap==5.0.0\n",
      "sortedcontainers==2.4.0\n",
      "sparse==0.14.0\n",
      "sqlparse==0.4.3\n",
      "stack-data==0.6.2\n",
      "statsmodels==0.11.1\n",
      "tabulate==0.9.0\n",
      "tblib==1.7.0\n",
      "termcolor==2.2.0\n",
      "toolz==0.12.0\n",
      "tornado==6.2\n",
      "tqdm==4.65.0\n",
      "traitlets==5.9.0\n",
      "typing_extensions @ file:///home/conda/feedstock_root/build_artifacts/typing_extensions_1678559861143/work\n",
      "urllib3==1.25.11\n",
      "wcwidth==0.2.6\n",
      "websocket-client==1.5.1\n",
      "Werkzeug==2.2.3\n",
      "wrapt==1.12.1\n",
      "xgboost==1.3.3\n",
      "zict==2.2.0\n",
      "zipp==3.15.0\n",
      "\n",
      "2023-05-19T09:58:07,352118990+00:00 | gunicorn/run | \n",
      "2023-05-19T09:58:07,356065224+00:00 | gunicorn/run | ###############################################\n",
      "2023-05-19T09:58:07,361715473+00:00 | gunicorn/run | Checking if the Python package azureml-inference-server-http is installed\n",
      "2023-05-19T09:58:07,405950557+00:00 | gunicorn/run | ###############################################\n",
      "2023-05-19T09:58:07,410926100+00:00 | gunicorn/run | \n",
      "2023-05-19T09:58:13,021438586+00:00 | gunicorn/run | \n",
      "2023-05-19T09:58:13,023404704+00:00 | gunicorn/run | ###############################################\n",
      "2023-05-19T09:58:13,026132129+00:00 | gunicorn/run | AzureML Inference Server\n",
      "2023-05-19T09:58:13,029573360+00:00 | gunicorn/run | ###############################################\n",
      "2023-05-19T09:58:13,031693879+00:00 | gunicorn/run | \n",
      "2023-05-19T09:58:19,029219985+00:00 | gunicorn/run | Starting AzureML Inference Server HTTP.\n",
      "2023-05-19 09:58:19,714 I [67] azmlinfsrv - Loaded logging config from /azureml-envs/azureml-automl/lib/python3.8/site-packages/azureml_inference_server_http/logging.json\n",
      "2023-05-19 09:58:20,219 I [67] gunicorn.error - Starting gunicorn 20.1.0\n",
      "2023-05-19 09:58:20,221 I [67] gunicorn.error - Listening at: http://0.0.0.0:31311 (67)\n",
      "2023-05-19 09:58:20,221 I [67] gunicorn.error - Using worker: sync\n",
      "2023-05-19 09:58:20,225 I [131] gunicorn.error - Booting worker with pid: 131\n",
      "Valid Application Insights instrumentation key provided.\n",
      "\n",
      "/azureml-envs/azureml-automl/lib/python3.8/site-packages/azureml_inference_server_http/server/config.py:51: FutureWarning: aliases are no longer used by BaseSettings to define which environment variables to read. Instead use the \"env\" field setting. See https://pydantic-docs.helpmanual.io/usage/settings/#environment-variable-names\n",
      "  class AMLInferenceServerConfig(pydantic.BaseSettings):\n",
      "Azure ML Inferencing HTTP server v0.8.3\n",
      "\n",
      "\n",
      "Server Settings\n",
      "---------------\n",
      "Entry Script Name: /var/azureml-app/main.py\n",
      "Model Directory: /var/azureml-app/azureml-models/best_model_automl/1\n",
      "Config File: None\n",
      "Worker Count: 1\n",
      "Worker Timeout (seconds): 300\n",
      "Server Port: 31311\n",
      "Application Insights Enabled: true\n",
      "Application Insights Key: AppInsights key provided\n",
      "Inferencing HTTP server version: azmlinfsrv/0.8.3\n",
      "CORS for the specified origins: None\n",
      "\n",
      "\n",
      "Server Routes\n",
      "---------------\n",
      "Liveness Probe: GET   127.0.0.1:31311/\n",
      "Score:          POST  127.0.0.1:31311/score\n",
      "\n",
      "2023-05-19 09:58:21,325 I [131] azmlinfsrv - AML_FLASK_ONE_COMPATIBILITY is set. Patched Flask to ensure compatibility with Flask 1.\n",
      "Initializing logger\n",
      "2023-05-19 09:58:21,327 I [131] azmlinfsrv - Starting up app insights client\n",
      "WARNING:opencensus.ext.azure.common:DeprecationWarning: Explicitly using instrumentation key isdeprecated. Please use a connection string instead.\n",
      "WARNING:opencensus.ext.azure.common:DeprecationWarning: Explicitly using instrumentation key isdeprecated. Please use a connection string instead.\n",
      "WARNING:opencensus.ext.azure.common:DeprecationWarning: Explicitly using instrumentation key isdeprecated. Please use a connection string instead.\n",
      "2023-05-19 09:58:27,773 I [131] azmlinfsrv.user_script - Found driver script at /var/azureml-app/main.py and the score script at /var/azureml-app/scoring.py\n",
      "2023-05-19 09:58:27,774 I [131] azmlinfsrv.user_script - run() is decorated with @input_schema. Server will invoke it with the following arguments: data, method.\n",
      "2023-05-19 09:58:27,774 I [131] azmlinfsrv.user_script - Invoking user's init function\n",
      "ERROR:fbprophet.plot:Importing plotly failed. Interactive plots will not work.\n",
      "2023-05-19 09:58:45,904 I [131] azmlinfsrv.user_script - Users's init has completed successfully\n",
      "2023-05-19 09:58:46,008 I [131] azmlinfsrv.swagger - Swaggers are prepared for the following versions: [2, 3, 3.1].\n",
      "2023-05-19 09:58:46,009 I [131] azmlinfsrv - Scoring timeout is set to 60000\n",
      "2023-05-19 09:58:46,026 I [131] gunicorn.access - 127.0.0.1 - - [19/May/2023:09:58:46 +0000] \"GET / HTTP/1.0\" 200 7 \"-\" \"curl/7.58.0\"\n",
      "2023-05-19 09:58:56,365 W [131] azmlinfsrv - x-ms-request-id header has been deprecated and will be removed from future versions of the server. Please use x-ms-client-request-id.\n",
      "2023-05-19 09:58:56,366 I [131] gunicorn.access - 127.0.0.1 - - [19/May/2023:09:58:56 +0000] \"GET / HTTP/1.0\" 200 7 \"-\" \"Go-http-client/1.1\"\n",
      "2023-05-19 09:58:56,371 W [131] azmlinfsrv - x-ms-request-id header has been deprecated and will be removed from future versions of the server. Please use x-ms-client-request-id.\n",
      "2023-05-19 09:58:56,372 I [131] azmlinfsrv - GET /swagger.json 200 0.559ms 3178\n",
      "2023-05-19 09:58:56,373 I [131] gunicorn.access - 127.0.0.1 - - [19/May/2023:09:58:56 +0000] \"GET /swagger.json HTTP/1.0\" 200 3178 \"-\" \"Go-http-client/1.1\"\n",
      "2023-05-19 09:59:00,315 W [131] azmlinfsrv - x-ms-request-id header has been deprecated and will be removed from future versions of the server. Please use x-ms-client-request-id.\n",
      "2023-05-19 09:59:00,317 I [131] gunicorn.access - 127.0.0.1 - - [19/May/2023:09:59:00 +0000] \"GET / HTTP/1.0\" 200 7 \"-\" \"Go-http-client/1.1\"\n",
      "2023-05-19 09:59:00,324 W [131] azmlinfsrv - x-ms-request-id header has been deprecated and will be removed from future versions of the server. Please use x-ms-client-request-id.\n",
      "2023-05-19 09:59:00,326 I [131] azmlinfsrv - GET /swagger.json 200 1.852ms 3178\n",
      "2023-05-19 09:59:00,329 I [131] gunicorn.access - 127.0.0.1 - - [19/May/2023:09:59:00 +0000] \"GET /swagger.json HTTP/1.0\" 200 3178 \"-\" \"Go-http-client/1.1\"\n",
      "2023-05-19 10:03:31,761 W [131] azmlinfsrv - x-ms-request-id header has been deprecated and will be removed from future versions of the server. Please use x-ms-client-request-id.\n",
      "2023-05-19 10:03:31,764 I [131] gunicorn.access - 127.0.0.1 - - [19/May/2023:10:03:31 +0000] \"GET / HTTP/1.0\" 200 7 \"-\" \"Go-http-client/1.1\"\n",
      "2023-05-19 10:03:31,772 W [131] azmlinfsrv - x-ms-request-id header has been deprecated and will be removed from future versions of the server. Please use x-ms-client-request-id.\n",
      "2023-05-19 10:03:31,773 I [131] azmlinfsrv - GET /swagger.json 200 1.371ms 3178\n",
      "2023-05-19 10:03:31,775 I [131] gunicorn.access - 127.0.0.1 - - [19/May/2023:10:03:31 +0000] \"GET /swagger.json HTTP/1.0\" 200 3178 \"-\" \"Go-http-client/1.1\"\n",
      "2023-05-19 10:03:47,934 W [131] azmlinfsrv - x-ms-request-id header has been deprecated and will be removed from future versions of the server. Please use x-ms-client-request-id.\n",
      "2023-05-19 10:03:47,942 I [131] gunicorn.access - 127.0.0.1 - - [19/May/2023:10:03:47 +0000] \"GET / HTTP/1.0\" 200 7 \"-\" \"Go-http-client/1.1\"\n",
      "2023-05-19 10:03:47,947 W [131] azmlinfsrv - x-ms-request-id header has been deprecated and will be removed from future versions of the server. Please use x-ms-client-request-id.\n",
      "2023-05-19 10:03:47,950 I [131] azmlinfsrv - GET /swagger.json 200 2.794ms 3178\n",
      "2023-05-19 10:03:47,952 I [131] gunicorn.access - 127.0.0.1 - - [19/May/2023:10:03:47 +0000] \"GET /swagger.json HTTP/1.0\" 200 3178 \"-\" \"Go-http-client/1.1\"\n",
      "2023-05-19 10:03:48,681 W [131] azmlinfsrv - x-ms-request-id header has been deprecated and will be removed from future versions of the server. Please use x-ms-client-request-id.\n",
      "2023-05-19 10:03:48,682 I [131] azmlinfsrv - POST /score 400 1.319ms 64\n",
      "2023-05-19 10:03:48,686 I [131] gunicorn.access - 127.0.0.1 - - [19/May/2023:10:03:48 +0000] \"POST /score HTTP/1.0\" 400 64 \"-\" \"python-requests/2.28.2\"\n",
      "2023-05-19 10:04:26,226 W [131] azmlinfsrv - x-ms-request-id header has been deprecated and will be removed from future versions of the server. Please use x-ms-client-request-id.\n",
      "2023-05-19 10:04:26,229 I [131] gunicorn.access - 127.0.0.1 - - [19/May/2023:10:04:26 +0000] \"GET / HTTP/1.0\" 200 7 \"-\" \"Go-http-client/1.1\"\n",
      "2023-05-19 10:04:26,234 W [131] azmlinfsrv - x-ms-request-id header has been deprecated and will be removed from future versions of the server. Please use x-ms-client-request-id.\n",
      "2023-05-19 10:04:26,235 I [131] azmlinfsrv - GET /swagger.json 200 0.987ms 3178\n",
      "2023-05-19 10:04:26,240 I [131] gunicorn.access - 127.0.0.1 - - [19/May/2023:10:04:26 +0000] \"GET /swagger.json HTTP/1.0\" 200 3178 \"-\" \"Go-http-client/1.1\"\n",
      "2023-05-19 10:04:26,722 W [131] azmlinfsrv - x-ms-request-id header has been deprecated and will be removed from future versions of the server. Please use x-ms-client-request-id.\n",
      "2023-05-19 10:04:26,723 I [131] azmlinfsrv - POST /score 400 0.632ms 64\n",
      "2023-05-19 10:04:26,725 I [131] gunicorn.access - 127.0.0.1 - - [19/May/2023:10:04:26 +0000] \"POST /score HTTP/1.0\" 400 64 \"-\" \"python-requests/2.28.2\"\n",
      "2023-05-19 10:05:28,404 W [131] azmlinfsrv - x-ms-request-id header has been deprecated and will be removed from future versions of the server. Please use x-ms-client-request-id.\n",
      "2023-05-19 10:05:28,405 I [131] gunicorn.access - 127.0.0.1 - - [19/May/2023:10:05:28 +0000] \"GET / HTTP/1.0\" 200 7 \"-\" \"Go-http-client/1.1\"\n",
      "2023-05-19 10:05:28,412 W [131] azmlinfsrv - x-ms-request-id header has been deprecated and will be removed from future versions of the server. Please use x-ms-client-request-id.\n",
      "2023-05-19 10:05:28,413 I [131] azmlinfsrv - GET /swagger.json 200 0.555ms 3178\n",
      "2023-05-19 10:05:28,415 I [131] gunicorn.access - 127.0.0.1 - - [19/May/2023:10:05:28 +0000] \"GET /swagger.json HTTP/1.0\" 200 3178 \"-\" \"Go-http-client/1.1\"\n",
      "2023-05-19 10:05:29,096 W [131] azmlinfsrv - x-ms-request-id header has been deprecated and will be removed from future versions of the server. Please use x-ms-client-request-id.\n",
      "2023-05-19 10:05:29,097 I [131] azmlinfsrv - GET /swagger.json 200 0.640ms 3178\n",
      "2023-05-19 10:05:29,100 I [131] gunicorn.access - 127.0.0.1 - - [19/May/2023:10:05:29 +0000] \"GET /swagger.json HTTP/1.0\" 200 3178 \"-\" \"Go-http-client/1.1\"\n",
      "2023-05-19 10:05:34,014 W [131] azmlinfsrv - x-ms-request-id header has been deprecated and will be removed from future versions of the server. Please use x-ms-client-request-id.\n",
      "2023-05-19 10:05:34,016 I [131] azmlinfsrv - GET /swagger.json 200 2.292ms 3178\n",
      "2023-05-19 10:05:34,021 I [131] gunicorn.access - 127.0.0.1 - - [19/May/2023:10:05:34 +0000] \"GET /swagger.json HTTP/1.0\" 200 3178 \"-\" \"Go-http-client/1.1\"\n",
      "2023-05-19 10:06:46,947 W [131] azmlinfsrv - x-ms-request-id header has been deprecated and will be removed from future versions of the server. Please use x-ms-client-request-id.\n",
      "2023-05-19 10:06:46,949 I [131] gunicorn.access - 127.0.0.1 - - [19/May/2023:10:06:46 +0000] \"GET / HTTP/1.0\" 200 7 \"-\" \"Go-http-client/1.1\"\n",
      "2023-05-19 10:06:46,953 W [131] azmlinfsrv - x-ms-request-id header has been deprecated and will be removed from future versions of the server. Please use x-ms-client-request-id.\n",
      "2023-05-19 10:06:46,954 I [131] azmlinfsrv - GET /swagger.json 200 0.940ms 3178\n",
      "2023-05-19 10:06:46,959 I [131] gunicorn.access - 127.0.0.1 - - [19/May/2023:10:06:46 +0000] \"GET /swagger.json HTTP/1.0\" 200 3178 \"-\" \"Go-http-client/1.1\"\n",
      "2023-05-19 10:06:47,466 W [131] azmlinfsrv - x-ms-request-id header has been deprecated and will be removed from future versions of the server. Please use x-ms-client-request-id.\n",
      "2023-05-19 10:06:47,704 I [131] azmlinfsrv - POST /score 200 237.998ms 19\n",
      "2023-05-19 10:06:47,708 I [131] gunicorn.access - 127.0.0.1 - - [19/May/2023:10:06:47 +0000] \"POST /score HTTP/1.0\" 200 19 \"-\" \"python-requests/2.28.2\"\n",
      "2023-05-19 10:06:59,574 W [131] azmlinfsrv - x-ms-request-id header has been deprecated and will be removed from future versions of the server. Please use x-ms-client-request-id.\n",
      "2023-05-19 10:06:59,577 I [131] gunicorn.access - 127.0.0.1 - - [19/May/2023:10:06:59 +0000] \"GET / HTTP/1.0\" 200 7 \"-\" \"Go-http-client/1.1\"\n",
      "2023-05-19 10:06:59,584 W [131] azmlinfsrv - x-ms-request-id header has been deprecated and will be removed from future versions of the server. Please use x-ms-client-request-id.\n",
      "2023-05-19 10:06:59,585 I [131] azmlinfsrv - GET /swagger.json 200 1.055ms 3178\n",
      "2023-05-19 10:06:59,587 I [131] gunicorn.access - 127.0.0.1 - - [19/May/2023:10:06:59 +0000] \"GET /swagger.json HTTP/1.0\" 200 3178 \"-\" \"Go-http-client/1.1\"\n",
      "\n"
     ]
    }
   ],
   "source": [
    "from azureml.core import Webservice\n",
    "# Specify the deployed service name\n",
    "service_name = 'automl-best-model1'\n",
    "\n",
    "# Get the deployed web service\n",
    "service = Webservice(ws, name=service_name)\n",
    "\n",
    "# Get the deployment logs\n",
    "logs = service.get_logs()\n",
    "\n",
    "# Print the deployment logs\n",
    "print(logs)\n"
   ]
  },
  {
   "cell_type": "markdown",
   "metadata": {},
   "source": [
    "**Submission Checklist**\n",
    "- I have registered the model.\n",
    "- I have deployed the model with the best accuracy as a webservice.\n",
    "- I have tested the webservice by sending a request to the model endpoint.\n",
    "- I have deleted the webservice and shutdown all the computes that I have used.\n",
    "- I have taken a screenshot showing the model endpoint as active.\n",
    "- The project includes a file containing the environment details.\n"
   ]
  },
  {
   "cell_type": "markdown",
   "metadata": {},
   "source": []
  }
 ],
 "metadata": {
  "kernel_info": {
   "name": "python38-azureml"
  },
  "kernelspec": {
   "display_name": "Python 3 (ipykernel)",
   "language": "python",
   "name": "python3"
  },
  "language_info": {
   "codemirror_mode": {
    "name": "ipython",
    "version": 3
   },
   "file_extension": ".py",
   "mimetype": "text/x-python",
   "name": "python",
   "nbconvert_exporter": "python",
   "pygments_lexer": "ipython3",
   "version": "3.9.13"
  },
  "microsoft": {
   "host": {
    "AzureML": {
     "notebookHasBeenCompleted": true
    }
   },
   "ms_spell_check": {
    "ms_spell_check_language": "en"
   }
  },
  "nteract": {
   "version": "nteract-front-end@1.0.0"
  }
 },
 "nbformat": 4,
 "nbformat_minor": 2
}
