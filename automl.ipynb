{
  "cells": [
    {
      "cell_type": "markdown",
      "source": [
        "# Automated ML\n",
        "\n",
        "TODO: Import Dependencies. In the cell below, import all the dependencies that you will need to complete the project."
      ],
      "metadata": {}
    },
    {
      "cell_type": "code",
      "source": [
        "from azureml.core import Workspace, Experiment, Dataset\n",
        "from azureml.train.automl import AutoMLConfig"
      ],
      "outputs": [],
      "execution_count": 1,
      "metadata": {
        "gather": {
          "logged": 1684557610936
        },
        "jupyter": {
          "outputs_hidden": false,
          "source_hidden": false
        },
        "nteract": {
          "transient": {
            "deleting": false
          }
        }
      }
    },
    {
      "cell_type": "markdown",
      "source": [
        "## Dataset\n",
        "\n",
        "### Overview\n",
        "TODO: In this markdown cell, give an overview of the dataset you are using. Also mention the task you will be performing.\n",
        "\n",
        "\n",
        "TODO: Get data. In the cell below, write code to access the data you will be using in this project. Remember that the dataset needs to be external."
      ],
      "metadata": {}
    },
    {
      "cell_type": "code",
      "source": [
        "ws = Workspace.from_config()\n",
        "\n",
        "# choose a name for experiment\n",
        "experiment_name = 'Capstone-AutoML'\n",
        "\n",
        "exp=Experiment(ws, experiment_name)\n",
        "run=exp.start_logging()"
      ],
      "outputs": [],
      "execution_count": 2,
      "metadata": {
        "gather": {
          "logged": 1684557620712
        },
        "jupyter": {
          "outputs_hidden": false,
          "source_hidden": false
        },
        "nteract": {
          "transient": {
            "deleting": false
          }
        }
      }
    },
    {
      "cell_type": "code",
      "source": [
        "#create compute cluster\n",
        "from azureml.core.compute import ComputeTarget, AmlCompute\n",
        "from azureml.core.compute_target import ComputeTargetException\n",
        "\n",
        "cluster_name = \"proj3cluster\"\n",
        "\n",
        "try:\n",
        "    cpu_cluster = ComputeTarget(workspace=ws, name=cluster_name)\n",
        "    print('Found existing cluster, use it.')\n",
        "except ComputeTargetException:\n",
        "    compute_config = AmlCompute.provisioning_configuration(vm_size='STANDARD_D2_V2',max_nodes=4)\n",
        "    cpu_cluster = ComputeTarget.create(ws, cluster_name, compute_config)\n",
        "\n",
        "cpu_cluster.wait_for_completion(show_output=True)"
      ],
      "outputs": [
        {
          "output_type": "stream",
          "name": "stdout",
          "text": "InProgress..\nSucceededProvisioning operation finished, operation \"Succeeded\"\nSucceeded\nAmlCompute wait for completion finished\n\nMinimum number of nodes requested have been provisioned\n"
        }
      ],
      "execution_count": 3,
      "metadata": {
        "gather": {
          "logged": 1684557636157
        }
      }
    },
    {
      "cell_type": "code",
      "source": [
        "# pima diabetes dataset\n",
        "train_ds = Dataset.get_by_name(ws, name='pima-diabetes')\n"
      ],
      "outputs": [],
      "execution_count": 4,
      "metadata": {
        "gather": {
          "logged": 1684557743461
        },
        "jupyter": {
          "outputs_hidden": false,
          "source_hidden": false
        },
        "nteract": {
          "transient": {
            "deleting": false
          }
        }
      }
    },
    {
      "cell_type": "markdown",
      "source": [
        "## AutoML Configuration\n",
        "\n",
        "TODO: Explain why you chose the automl settings and cofiguration you used below."
      ],
      "metadata": {}
    },
    {
      "cell_type": "code",
      "source": [
        "# TODO: Put your automl settings here\n",
        "automl_settings = {}\n",
        "\n",
        "# TODO: Put your automl config here\n",
        "automl_config = AutoMLConfig(\n",
        "    experiment_timeout_minutes=30,\n",
        "    task='classification',\n",
        "    primary_metric='accuracy',\n",
        "    training_data=train_ds,\n",
        "    label_column_name='Outcome',\n",
        "    n_cross_validations=5,\n",
        "    compute_target = cpu_cluster)"
      ],
      "outputs": [],
      "execution_count": 5,
      "metadata": {
        "gather": {
          "logged": 1684557748633
        },
        "jupyter": {
          "outputs_hidden": false,
          "source_hidden": false
        },
        "nteract": {
          "transient": {
            "deleting": false
          }
        }
      }
    },
    {
      "cell_type": "code",
      "source": [
        "# TODO: Submit your experiment\n",
        "remote_run = exp.submit(automl_config)"
      ],
      "outputs": [
        {
          "output_type": "stream",
          "name": "stdout",
          "text": "Submitting remote run.\n"
        },
        {
          "output_type": "display_data",
          "data": {
            "text/plain": "<IPython.core.display.HTML object>",
            "text/html": "<table style=\"width:100%\"><tr><th>Experiment</th><th>Id</th><th>Type</th><th>Status</th><th>Details Page</th><th>Docs Page</th></tr><tr><td>Capstone-AutoML</td><td>AutoML_22ba4461-a212-4663-a021-74ab3d89a921</td><td>automl</td><td>NotStarted</td><td><a href=\"https://ml.azure.com/runs/AutoML_22ba4461-a212-4663-a021-74ab3d89a921?wsid=/subscriptions/d4ad7261-832d-46b2-b093-22156001df5b/resourcegroups/aml-quickstarts-234039/workspaces/quick-starts-ws-234039&amp;tid=660b3398-b80e-49d2-bc5b-ac1dc93b5254\" target=\"_blank\" rel=\"noopener\">Link to Azure Machine Learning studio</a></td><td><a href=\"https://docs.microsoft.com/en-us/python/api/overview/azure/ml/intro?view=azure-ml-py\" target=\"_blank\" rel=\"noopener\">Link to Documentation</a></td></tr></table>"
          },
          "metadata": {}
        }
      ],
      "execution_count": 6,
      "metadata": {
        "gather": {
          "logged": 1684557758479
        },
        "jupyter": {
          "outputs_hidden": false,
          "source_hidden": false
        },
        "nteract": {
          "transient": {
            "deleting": false
          }
        }
      }
    },
    {
      "cell_type": "markdown",
      "source": [
        "## Run Details\n",
        "\n",
        "OPTIONAL: Write about the different models trained and their performance. Why do you think some models did better than others?\n",
        "\n",
        "TODO: In the cell below, use the `RunDetails` widget to show the different experiments."
      ],
      "metadata": {}
    },
    {
      "cell_type": "code",
      "source": [
        "from azureml.widgets import RunDetails\n",
        "# Monitor the run using RunDetails widget\n",
        "RunDetails(remote_run).show()"
      ],
      "outputs": [
        {
          "output_type": "display_data",
          "data": {
            "text/plain": "_AutoMLWidget(widget_settings={'childWidgetDisplay': 'popup', 'send_telemetry': False, 'log_level': 'INFO', 's…",
            "application/vnd.jupyter.widget-view+json": {
              "version_major": 2,
              "version_minor": 0,
              "model_id": "3acaa3ccef72475b81ec8d73bd0498c1"
            }
          },
          "metadata": {}
        },
        {
          "output_type": "display_data",
          "data": {
            "application/aml.mini.widget.v1": "{\"status\": \"Completed\", \"workbench_run_details_uri\": \"https://ml.azure.com/runs/AutoML_22ba4461-a212-4663-a021-74ab3d89a921?wsid=/subscriptions/d4ad7261-832d-46b2-b093-22156001df5b/resourcegroups/aml-quickstarts-234039/workspaces/quick-starts-ws-234039&tid=660b3398-b80e-49d2-bc5b-ac1dc93b5254\", \"run_id\": \"AutoML_22ba4461-a212-4663-a021-74ab3d89a921\", \"run_properties\": {\"run_id\": \"AutoML_22ba4461-a212-4663-a021-74ab3d89a921\", \"created_utc\": \"2023-05-20T04:42:37.319291Z\", \"properties\": {\"num_iterations\": \"1000\", \"training_type\": \"TrainFull\", \"acquisition_function\": \"EI\", \"primary_metric\": \"accuracy\", \"train_split\": \"0\", \"acquisition_parameter\": \"0\", \"num_cross_validation\": \"5\", \"target\": \"proj3cluster\", \"AMLSettingsJsonString\": \"{\\\"path\\\":null,\\\"name\\\":\\\"Capstone-AutoML\\\",\\\"subscription_id\\\":\\\"d4ad7261-832d-46b2-b093-22156001df5b\\\",\\\"resource_group\\\":\\\"aml-quickstarts-234039\\\",\\\"workspace_name\\\":\\\"quick-starts-ws-234039\\\",\\\"region\\\":\\\"southcentralus\\\",\\\"compute_target\\\":\\\"proj3cluster\\\",\\\"spark_service\\\":null,\\\"azure_service\\\":\\\"remote\\\",\\\"many_models\\\":false,\\\"pipeline_fetch_max_batch_size\\\":1,\\\"enable_batch_run\\\":true,\\\"enable_parallel_run\\\":false,\\\"num_procs\\\":null,\\\"enable_run_restructure\\\":false,\\\"start_auxiliary_runs_before_parent_complete\\\":false,\\\"enable_code_generation\\\":true,\\\"iterations\\\":1000,\\\"primary_metric\\\":\\\"accuracy\\\",\\\"task_type\\\":\\\"classification\\\",\\\"positive_label\\\":null,\\\"data_script\\\":null,\\\"test_size\\\":0.0,\\\"test_include_predictions_only\\\":false,\\\"validation_size\\\":0.0,\\\"n_cross_validations\\\":5,\\\"y_min\\\":null,\\\"y_max\\\":null,\\\"num_classes\\\":null,\\\"featurization\\\":\\\"auto\\\",\\\"_ignore_package_version_incompatibilities\\\":false,\\\"is_timeseries\\\":false,\\\"max_cores_per_iteration\\\":1,\\\"max_concurrent_iterations\\\":1,\\\"iteration_timeout_minutes\\\":null,\\\"mem_in_mb\\\":null,\\\"enforce_time_on_windows\\\":false,\\\"experiment_timeout_minutes\\\":30,\\\"experiment_exit_score\\\":null,\\\"partition_column_names\\\":null,\\\"whitelist_models\\\":null,\\\"blacklist_algos\\\":[\\\"TensorFlowLinearClassifier\\\",\\\"TensorFlowDNN\\\"],\\\"supported_models\\\":[\\\"SGD\\\",\\\"RandomForest\\\",\\\"TabnetClassifier\\\",\\\"GradientBoosting\\\",\\\"DecisionTree\\\",\\\"BernoulliNaiveBayes\\\",\\\"LinearSVM\\\",\\\"KNN\\\",\\\"MultinomialNaiveBayes\\\",\\\"XGBoostClassifier\\\",\\\"ExtremeRandomTrees\\\",\\\"AveragedPerceptronClassifier\\\",\\\"TensorFlowDNN\\\",\\\"TensorFlowLinearClassifier\\\",\\\"SVM\\\",\\\"LightGBM\\\",\\\"LogisticRegression\\\"],\\\"private_models\\\":[],\\\"auto_blacklist\\\":true,\\\"blacklist_samples_reached\\\":false,\\\"exclude_nan_labels\\\":true,\\\"verbosity\\\":20,\\\"_debug_log\\\":\\\"azureml_automl.log\\\",\\\"show_warnings\\\":false,\\\"model_explainability\\\":true,\\\"service_url\\\":null,\\\"sdk_url\\\":null,\\\"sdk_packages\\\":null,\\\"enable_onnx_compatible_models\\\":false,\\\"enable_split_onnx_featurizer_estimator_models\\\":false,\\\"vm_type\\\":\\\"STANDARD_D2_V2\\\",\\\"telemetry_verbosity\\\":20,\\\"send_telemetry\\\":true,\\\"enable_dnn\\\":false,\\\"scenario\\\":\\\"AutoML\\\",\\\"environment_label\\\":null,\\\"save_mlflow\\\":false,\\\"enable_categorical_indicators\\\":false,\\\"force_text_dnn\\\":false,\\\"enable_feature_sweeping\\\":true,\\\"enable_early_stopping\\\":true,\\\"early_stopping_n_iters\\\":10,\\\"arguments\\\":null,\\\"dataset_id\\\":\\\"499ea96a-48c2-47bc-8e75-1b359bbd92e9\\\",\\\"hyperdrive_config\\\":null,\\\"validation_dataset_id\\\":null,\\\"run_source\\\":null,\\\"metrics\\\":null,\\\"enable_metric_confidence\\\":false,\\\"enable_ensembling\\\":true,\\\"enable_stack_ensembling\\\":true,\\\"ensemble_iterations\\\":15,\\\"enable_tf\\\":false,\\\"enable_subsampling\\\":null,\\\"subsample_seed\\\":null,\\\"enable_nimbusml\\\":false,\\\"enable_streaming\\\":false,\\\"force_streaming\\\":false,\\\"track_child_runs\\\":true,\\\"n_best_runs\\\":1,\\\"allowed_private_models\\\":[],\\\"label_column_name\\\":\\\"Outcome\\\",\\\"weight_column_name\\\":null,\\\"cv_split_column_names\\\":null,\\\"enable_local_managed\\\":false,\\\"_local_managed_run_id\\\":null,\\\"cost_mode\\\":1,\\\"lag_length\\\":0,\\\"metric_operation\\\":\\\"maximize\\\",\\\"preprocess\\\":true}\", \"DataPrepJsonString\": \"{\\\\\\\"training_data\\\\\\\": {\\\\\\\"datasetId\\\\\\\": \\\\\\\"499ea96a-48c2-47bc-8e75-1b359bbd92e9\\\\\\\"}, \\\\\\\"datasets\\\\\\\": 0}\", \"EnableSubsampling\": null, \"runTemplate\": \"AutoML\", \"azureml.runsource\": \"automl\", \"display_task_type\": \"classification\", \"dependencies_versions\": \"{\\\"azureml-widgets\\\": \\\"1.49.0\\\", \\\"azureml-training-tabular\\\": \\\"1.49.0\\\", \\\"azureml-train\\\": \\\"1.49.0\\\", \\\"azureml-train-restclients-hyperdrive\\\": \\\"1.49.0\\\", \\\"azureml-train-core\\\": \\\"1.49.0\\\", \\\"azureml-train-automl\\\": \\\"1.49.0\\\", \\\"azureml-train-automl-runtime\\\": \\\"1.49.0\\\", \\\"azureml-train-automl-client\\\": \\\"1.49.0\\\", \\\"azureml-tensorboard\\\": \\\"1.49.0\\\", \\\"azureml-telemetry\\\": \\\"1.49.0\\\", \\\"azureml-sdk\\\": \\\"1.49.0\\\", \\\"azureml-responsibleai\\\": \\\"1.49.0\\\", \\\"azureml-pipeline\\\": \\\"1.49.0\\\", \\\"azureml-pipeline-steps\\\": \\\"1.49.0\\\", \\\"azureml-pipeline-core\\\": \\\"1.49.0\\\", \\\"azureml-opendatasets\\\": \\\"1.49.0\\\", \\\"azureml-mlflow\\\": \\\"1.49.0\\\", \\\"azureml-interpret\\\": \\\"1.49.0\\\", \\\"azureml-inference-server-http\\\": \\\"0.8.0\\\", \\\"azureml-explain-model\\\": \\\"1.49.0\\\", \\\"azureml-defaults\\\": \\\"1.49.0\\\", \\\"azureml-dataset-runtime\\\": \\\"1.49.0\\\", \\\"azureml-dataprep\\\": \\\"4.9.1\\\", \\\"azureml-dataprep-rslex\\\": \\\"2.16.1\\\", \\\"azureml-dataprep-native\\\": \\\"38.0.0\\\", \\\"azureml-datadrift\\\": \\\"1.49.0\\\", \\\"azureml-core\\\": \\\"1.49.0\\\", \\\"azureml-contrib-services\\\": \\\"1.49.0\\\", \\\"azureml-contrib-server\\\": \\\"1.49.0\\\", \\\"azureml-contrib-reinforcementlearning\\\": \\\"1.49.0\\\", \\\"azureml-contrib-pipeline-steps\\\": \\\"1.49.0\\\", \\\"azureml-contrib-notebook\\\": \\\"1.49.0\\\", \\\"azureml-contrib-fairness\\\": \\\"1.49.0\\\", \\\"azureml-contrib-dataset\\\": \\\"1.49.0\\\", \\\"azureml-contrib-automl-pipeline-steps\\\": \\\"1.49.0\\\", \\\"azureml-cli-common\\\": \\\"1.49.0\\\", \\\"azureml-automl-runtime\\\": \\\"1.49.0\\\", \\\"azureml-automl-dnn-nlp\\\": \\\"1.49.0\\\", \\\"azureml-automl-core\\\": \\\"1.49.0\\\", \\\"azureml-accel-models\\\": \\\"1.49.0\\\"}\", \"_aml_system_scenario_identification\": \"Remote.Parent\", \"ClientType\": \"SDK\", \"PlatformVersion\": \"DPV1\", \"environment_cpu_name\": \"AzureML-AutoML\", \"environment_cpu_label\": \"prod\", \"environment_gpu_name\": \"AzureML-AutoML-GPU\", \"environment_gpu_label\": \"prod\", \"root_attribution\": \"automl\", \"attribution\": \"AutoML\", \"Orchestrator\": \"AutoML\", \"CancelUri\": \"https://southcentralus.api.azureml.ms/jasmine/v1.0/subscriptions/d4ad7261-832d-46b2-b093-22156001df5b/resourceGroups/aml-quickstarts-234039/providers/Microsoft.MachineLearningServices/workspaces/quick-starts-ws-234039/experimentids/7ee19aa4-bc52-42e8-a6a6-254c2016c3a5/cancel/AutoML_22ba4461-a212-4663-a021-74ab3d89a921\", \"ClientSdkVersion\": null, \"snapshotId\": \"00000000-0000-0000-0000-000000000000\", \"SetupRunId\": \"AutoML_22ba4461-a212-4663-a021-74ab3d89a921_setup\", \"SetupRunContainerId\": \"dcid.AutoML_22ba4461-a212-4663-a021-74ab3d89a921_setup\", \"FeaturizationRunJsonPath\": \"featurizer_container.json\", \"FeaturizationRunId\": \"AutoML_22ba4461-a212-4663-a021-74ab3d89a921_featurize\", \"ProblemInfoJsonString\": \"{\\\"dataset_num_categorical\\\": 0, \\\"is_sparse\\\": true, \\\"subsampling\\\": false, \\\"has_extra_col\\\": true, \\\"dataset_classes\\\": 2, \\\"dataset_features\\\": 24, \\\"dataset_samples\\\": 768, \\\"single_frequency_class_detected\\\": false}\", \"ModelExplainRunId\": \"AutoML_22ba4461-a212-4663-a021-74ab3d89a921_ModelExplain\"}, \"tags\": {\"model_explain_run\": \"best_run\", \"_aml_system_automl_run_workspace_id\": \"a7d77012-c336-44b1-b856-b9a9e28803a5\", \"_aml_system_azureml.automlComponent\": \"AutoML\", \"pipeline_id_000\": \"5dfac790c5c209f98a1da2dc1c7fb76f0397324f;c7af0367625be6ac5c2fecbfc72ed444cb7a2111;799d2168db11fc19b9e1c6c1df62f8981ad39fe9;44b5d2d23120dfcf96a7dc6389a293d17a966b1b;3735210984ea10097d5c91905cf6300ac278cd89;5304e705d6f401cb07f85bcf0ca59ac1f84dfcf5;294650ec23bc3d067a4972de7ceb12f6e97260fa;3caa818370e5e0c328d6266c359019bd31681270;79ebb3b8c385e3190e3dd4c1fa28b74730528045;589334a57221e0720a95cf217c065115a7b841d1;5a8eb9d9f67b1dd7e9e4062585daa2417ea78989;35b8e2db3c5f6e714072e1be9f0210fe48426975;da45f657e4591caadf1589a85a1f7b8932585595;797e3e972ad02d947be4c64d2b06b775b6df7a49;3fd2e115482e0c7b92aa3297688aefb6c3aa6fb8;1dfdf370ba770047b14bfa59c40920815defcdab;5235e3d56688f5f38ef82d73fba7c2e698fc1af2;17f87d449bb43aaf3cdae4b7eb6dd6e7fbdaf343;dc68fbd594530b5d52812dd9b3ffa3d6d8ba625e;2032292dd602836ed754a266c771ac100c4c80dc;fedbb4995d6de479c513576119965d71276f03d1;e478544eb8734c07a1943f5bdf4e6605be6943df;a6bd27dd928875b84f691d4dfa1c1a3794c161f1;99e5bf9c7701c354ff6e812cf7fbb78056184303;1c9ef4eb5ab9cb1684f24b29e5a2a7f85ada231a;b3bf60ed73789369ad38365560b6ad840d9179da;7c1fb2881971fcd87d0cb05473305054268e0bf2;25944de2edf6ad3c720777f9f8904c775b200fb9;7a7309a708e466bff6afe06774efcaeda9d103ab;032781f2519ff8d9b4396dc0b10514c192def489;08c75b5211389df93bed0ef6c3e391d2b393dd1c;48ed17b692803ed4311b09c6f343909cb49060ab;6f9bfce9ce43b174b5bd3f319130b4183b495d40;f3d88422298caf291fbd5da59ee587358faff71f;4a493a645d7ba0b2217a647ce220e4593b133969;3244274d341bed5ff66a57c37723fa8ebfb31141;ebbad11096d453a8487f482a7a7343a84e602c22;__AutoML_Ensemble__;__AutoML_Stack_Ensemble__\", \"score_000\": \"0.7461420932009167;0.7500381970970207;0.7174433409727528;0.6784568372803668;0.7604787369493251;0.7227739580680757;0.7513708513708514;0.7708853238265002;0.6511416687887276;0.75007215007215;0.6784568372803667;0.7604532722179781;0.7695951107715814;0.6692980222391988;0.7682709447415329;0.6849503437738733;0.7656735421441303;0.7513878278584161;0.7656820303879128;0.7213649096002037;0.7409727527374586;0.7500127323656736;0.7084712672947967;0.7019438078261608;0.7656905186316951;0.500492318139377;0.7747644512350395;0.7331720567014685;0.7578558696205755;0.7669552669552668;0.6511416687887276;0.750097614803497;0.752678040913335;0.7644087938205585;0.7578728461081401;0.7708938120702825;0.7643833290892115;0.7812919107036753;0.7682624564977505\", \"predicted_cost_000\": \"0;0;0.5;0.5;0.5;0.5;0.5;0.5;0.5;0.5;0.5;0.5;0.5;0.5;0.5;0.5;0.5;0.5;0.5;0.5;0.47872587182636994;0.043553799631551995;0.019227928713482882;0.12403738332130783;0.18535549224298606;0.016179053781442746;0.09678173570024591;0.04366132530099643;0.17468758023318234;0.0419669983632888;0.035218830383086416;0.004428818016955582;0.3695174975052005;0.01141373656877421;0.12937505650903092;0.04213362886048803;0.010678374671297352;0;0\", \"fit_time_000\": \"0.06645540000000001;0.140849;0.2626816;0.030760799999999998;0.020234600000000002;0.0118646;0.022754600000000003;0.032944;0.0442288;0.0180228;0.0175886;0.0194412;0.0668656;0.0053708;0.026696200000000003;0.3197709999999999;0.06433420000000001;0.0961484;0.0545312;0.40394220000000003;0.734225;0.0359528;0.011534200000000001;0.227548;1.2214278;0.0043156;0.0409874;0.10724099999999999;0.561469;0.026736;0.029071399999999997;0.012697999999999997;0.6796099999999999;0.014311399999999998;0.027299800000000003;0.0291972;0.014612799999999999;21;25\", \"training_percent_000\": \"100;100;100;100;100;100;100;100;100;100;100;100;100;100;100;100;100;100;100;100;100;100;100;100;100;100;100;100;100;100;100;100;100;100;100;100;100;100;100\", \"iteration_000\": \"0;1;2;3;4;5;6;7;8;9;10;11;12;13;14;15;16;17;18;19;20;21;22;23;24;25;26;27;28;29;30;31;32;33;34;35;36;37;38\", \"run_preprocessor_000\": \"MaxAbsScaler;MaxAbsScaler;MaxAbsScaler;SparseNormalizer;MaxAbsScaler;MaxAbsScaler;StandardScalerWrapper;MaxAbsScaler;StandardScalerWrapper;StandardScalerWrapper;SparseNormalizer;StandardScalerWrapper;MaxAbsScaler;MaxAbsScaler;StandardScalerWrapper;SparseNormalizer;StandardScalerWrapper;StandardScalerWrapper;StandardScalerWrapper;TruncatedSVDWrapper;TruncatedSVDWrapper;StandardScalerWrapper;StandardScalerWrapper;SparseNormalizer;MaxAbsScaler;MaxAbsScaler;StandardScalerWrapper;MaxAbsScaler;StandardScalerWrapper;StandardScalerWrapper;MaxAbsScaler;StandardScalerWrapper;StandardScalerWrapper;MaxAbsScaler;StandardScalerWrapper;MaxAbsScaler;StandardScalerWrapper;;\", \"run_algorithm_000\": \"LightGBM;XGBoostClassifier;ExtremeRandomTrees;XGBoostClassifier;LightGBM;LightGBM;XGBoostClassifier;LogisticRegression;ExtremeRandomTrees;XGBoostClassifier;LightGBM;XGBoostClassifier;LogisticRegression;SGD;XGBoostClassifier;RandomForest;LogisticRegression;RandomForest;XGBoostClassifier;RandomForest;RandomForest;XGBoostClassifier;LightGBM;XGBoostClassifier;RandomForest;LogisticRegression;LogisticRegression;GradientBoosting;ExtremeRandomTrees;LightGBM;LogisticRegression;LightGBM;RandomForest;LightGBM;LightGBM;LogisticRegression;LightGBM;VotingEnsemble;StackEnsemble\", \"dynamic_allowlisting_iterations\": \"<25>;<30>;<35>;\", \"_aml_system_azureml.automl_early_exit_message\": \"No scores improved over last 10 iterations, so experiment stopped early. This early stopping behavior can be disabled by setting enable_early_stopping = False in AutoMLConfig for notebook/python SDK runs.\", \"automl_best_child_run_id\": \"AutoML_22ba4461-a212-4663-a021-74ab3d89a921_37\", \"model_explain_best_run_child_id\": \"AutoML_22ba4461-a212-4663-a021-74ab3d89a921_37\"}, \"end_time_utc\": \"2023-05-20T05:13:14.454281Z\", \"status\": \"Completed\", \"log_files\": {}, \"log_groups\": [], \"run_duration\": \"0:30:37\", \"run_number\": \"1684557757\", \"run_queued_details\": {\"status\": \"Completed\", \"details\": null}}, \"child_runs\": [{\"run_id\": \"AutoML_22ba4461-a212-4663-a021-74ab3d89a921_setup\", \"run_number\": 1684557769, \"metric\": null, \"status\": \"Completed\", \"run_type\": \"azureml.scriptrun\", \"training_percent\": null, \"start_time\": \"2023-05-20T04:45:49.487287Z\", \"end_time\": \"2023-05-20T04:50:55.264947Z\", \"created_time\": \"2023-05-20T04:42:49.689542Z\", \"created_time_dt\": \"2023-05-20T04:42:49.689542Z\", \"duration\": \"0:08:05\", \"iteration\": null, \"goal\": null, \"run_name\": \"Completed\", \"run_properties\": null}, {\"run_id\": \"AutoML_22ba4461-a212-4663-a021-74ab3d89a921_featurize\", \"run_number\": 1684558255, \"metric\": null, \"status\": \"Completed\", \"run_type\": \"automl.featurization\", \"training_percent\": null, \"start_time\": \"2023-05-20T04:50:56.135636Z\", \"end_time\": \"2023-05-20T04:52:32.355839Z\", \"created_time\": \"2023-05-20T04:50:55.579816Z\", \"created_time_dt\": \"2023-05-20T04:50:55.579816Z\", \"duration\": \"0:01:36\", \"iteration\": null, \"goal\": null, \"run_name\": \"Completed\", \"run_properties\": null}, {\"run_id\": \"AutoML_22ba4461-a212-4663-a021-74ab3d89a921_0\", \"run_number\": 1684558353, \"metric\": null, \"status\": \"Completed\", \"run_type\": null, \"training_percent\": \"100\", \"start_time\": \"2023-05-20T04:53:02.205979Z\", \"end_time\": \"2023-05-20T04:53:17.398184Z\", \"created_time\": \"2023-05-20T04:52:33.78122Z\", \"created_time_dt\": \"2023-05-20T04:52:33.78122Z\", \"duration\": \"0:00:43\", \"iteration\": \"0\", \"goal\": \"accuracy_max\", \"run_name\": \"MaxAbsScaler, LightGBM\", \"run_properties\": \"copy=True\", \"primary_metric\": 0.74614209, \"best_metric\": 0.74614209}, {\"run_id\": \"AutoML_22ba4461-a212-4663-a021-74ab3d89a921_1\", \"run_number\": 1684558354, \"metric\": null, \"status\": \"Completed\", \"run_type\": null, \"training_percent\": \"100\", \"start_time\": \"2023-05-20T04:53:18.084594Z\", \"end_time\": \"2023-05-20T04:53:30.731421Z\", \"created_time\": \"2023-05-20T04:52:34.190034Z\", \"created_time_dt\": \"2023-05-20T04:52:34.190034Z\", \"duration\": \"0:00:56\", \"iteration\": \"1\", \"goal\": \"accuracy_max\", \"run_name\": \"MaxAbsScaler, XGBoostClassifier\", \"run_properties\": \"copy=True\", \"primary_metric\": 0.7500382, \"best_metric\": 0.7500382}, {\"run_id\": \"AutoML_22ba4461-a212-4663-a021-74ab3d89a921_3\", \"run_number\": 1684558355, \"metric\": null, \"status\": \"Completed\", \"run_type\": null, \"training_percent\": \"100\", \"start_time\": \"2023-05-20T04:53:45.527883Z\", \"end_time\": \"2023-05-20T04:53:57.329342Z\", \"created_time\": \"2023-05-20T04:52:35.026332Z\", \"created_time_dt\": \"2023-05-20T04:52:35.026332Z\", \"duration\": \"0:01:22\", \"iteration\": \"3\", \"goal\": \"accuracy_max\", \"run_name\": \"SparseNormalizer, XGBoostClassifier\", \"run_properties\": \"copy=True, norm='l2'\", \"primary_metric\": 0.67845684, \"best_metric\": 0.7500382}, {\"run_id\": \"AutoML_22ba4461-a212-4663-a021-74ab3d89a921_5\", \"run_number\": 1684558356, \"metric\": null, \"status\": \"Completed\", \"run_type\": null, \"training_percent\": \"100\", \"start_time\": \"2023-05-20T04:54:10.270084Z\", \"end_time\": \"2023-05-20T04:54:22.24427Z\", \"created_time\": \"2023-05-20T04:52:35.996564Z\", \"created_time_dt\": \"2023-05-20T04:52:35.996564Z\", \"duration\": \"0:01:46\", \"iteration\": \"5\", \"goal\": \"accuracy_max\", \"run_name\": \"MaxAbsScaler, LightGBM\", \"run_properties\": \"copy=True\", \"primary_metric\": 0.72277396, \"best_metric\": 0.7500382}, {\"run_id\": \"AutoML_22ba4461-a212-4663-a021-74ab3d89a921_8\", \"run_number\": 1684558357, \"metric\": null, \"status\": \"Completed\", \"run_type\": null, \"training_percent\": \"100\", \"start_time\": \"2023-05-20T04:54:47.958455Z\", \"end_time\": \"2023-05-20T04:54:59.912371Z\", \"created_time\": \"2023-05-20T04:52:37.220194Z\", \"created_time_dt\": \"2023-05-20T04:52:37.220194Z\", \"duration\": \"0:02:22\", \"iteration\": \"8\", \"goal\": \"accuracy_max\", \"run_name\": \"StandardScalerWrapper, ExtremeRandomTrees\", \"run_properties\": \"copy=True, with_mean=False, with_std=False\", \"primary_metric\": 0.65114167, \"best_metric\": 0.7500382}, {\"run_id\": \"AutoML_22ba4461-a212-4663-a021-74ab3d89a921_10\", \"run_number\": 1684558358, \"metric\": null, \"status\": \"Completed\", \"run_type\": null, \"training_percent\": \"100\", \"start_time\": \"2023-05-20T04:55:12.974455Z\", \"end_time\": \"2023-05-20T04:55:24.970838Z\", \"created_time\": \"2023-05-20T04:52:38.025525Z\", \"created_time_dt\": \"2023-05-20T04:52:38.025525Z\", \"duration\": \"0:02:46\", \"iteration\": \"10\", \"goal\": \"accuracy_max\", \"run_name\": \"SparseNormalizer, LightGBM\", \"run_properties\": \"copy=True, norm='l1'\", \"primary_metric\": 0.67845684, \"best_metric\": 0.7500382}, {\"run_id\": \"AutoML_22ba4461-a212-4663-a021-74ab3d89a921_13\", \"run_number\": 1684558359, \"metric\": null, \"status\": \"Completed\", \"run_type\": null, \"training_percent\": \"100\", \"start_time\": \"2023-05-20T04:55:51.074777Z\", \"end_time\": \"2023-05-20T04:56:02.830501Z\", \"created_time\": \"2023-05-20T04:52:39.285143Z\", \"created_time_dt\": \"2023-05-20T04:52:39.285143Z\", \"duration\": \"0:03:23\", \"iteration\": \"13\", \"goal\": \"accuracy_max\", \"run_name\": \"MaxAbsScaler, SGD\", \"run_properties\": \"copy=True\", \"primary_metric\": 0.66929802, \"best_metric\": 0.7500382}, {\"run_id\": \"AutoML_22ba4461-a212-4663-a021-74ab3d89a921_15\", \"run_number\": 1684558360, \"metric\": null, \"status\": \"Completed\", \"run_type\": null, \"training_percent\": \"100\", \"start_time\": \"2023-05-20T04:56:15.957919Z\", \"end_time\": \"2023-05-20T04:56:29.812287Z\", \"created_time\": \"2023-05-20T04:52:40.066907Z\", \"created_time_dt\": \"2023-05-20T04:52:40.066907Z\", \"duration\": \"0:03:49\", \"iteration\": \"15\", \"goal\": \"accuracy_max\", \"run_name\": \"SparseNormalizer, RandomForest\", \"run_properties\": \"copy=True, norm='l2'\", \"primary_metric\": 0.68495034, \"best_metric\": 0.7500382}, {\"run_id\": \"AutoML_22ba4461-a212-4663-a021-74ab3d89a921_18\", \"run_number\": 1684558361, \"metric\": null, \"status\": \"Completed\", \"run_type\": null, \"training_percent\": \"100\", \"start_time\": \"2023-05-20T04:56:55.944442Z\", \"end_time\": \"2023-05-20T04:57:08.100985Z\", \"created_time\": \"2023-05-20T04:52:41.324973Z\", \"created_time_dt\": \"2023-05-20T04:52:41.324973Z\", \"duration\": \"0:04:26\", \"iteration\": \"18\", \"goal\": \"accuracy_max\", \"run_name\": \"StandardScalerWrapper, XGBoostClassifier\", \"run_properties\": \"copy=True, with_mean=False, with_std=False\", \"primary_metric\": 0.76568203, \"best_metric\": 0.76568203}, {\"run_id\": \"AutoML_22ba4461-a212-4663-a021-74ab3d89a921_worker_0\", \"run_number\": 1684558362, \"metric\": null, \"status\": \"Completed\", \"run_type\": \"azureml.scriptrun\", \"training_percent\": null, \"start_time\": \"2023-05-20T04:52:49.565998Z\", \"end_time\": \"2023-05-20T04:57:35.462825Z\", \"created_time\": \"2023-05-20T04:52:42.105744Z\", \"created_time_dt\": \"2023-05-20T04:52:42.105744Z\", \"duration\": \"0:04:53\", \"iteration\": null, \"goal\": null, \"run_name\": \"Completed\", \"run_properties\": null}, {\"run_id\": \"AutoML_22ba4461-a212-4663-a021-74ab3d89a921_20\", \"run_number\": 1684558666, \"metric\": null, \"status\": \"Completed\", \"run_type\": \"azureml.scriptrun\", \"training_percent\": \"100\", \"start_time\": \"2023-05-20T04:57:58.150769Z\", \"end_time\": \"2023-05-20T04:58:37.747205Z\", \"created_time\": \"2023-05-20T04:57:45.997995Z\", \"created_time_dt\": \"2023-05-20T04:57:45.997995Z\", \"duration\": \"0:00:51\", \"iteration\": \"20\", \"goal\": \"accuracy_max\", \"run_name\": \"TruncatedSVDWrapper, RandomForest\", \"run_properties\": \"n_components=0.7026315789473684, random_state=None\", \"primary_metric\": 0.74097275, \"best_metric\": 0.76568203}, {\"run_id\": \"AutoML_22ba4461-a212-4663-a021-74ab3d89a921_21\", \"run_number\": 1684558719, \"metric\": null, \"status\": \"Completed\", \"run_type\": \"azureml.scriptrun\", \"training_percent\": \"100\", \"start_time\": \"2023-05-20T04:58:47.728368Z\", \"end_time\": \"2023-05-20T04:59:22.143964Z\", \"created_time\": \"2023-05-20T04:58:39.094939Z\", \"created_time_dt\": \"2023-05-20T04:58:39.094939Z\", \"duration\": \"0:00:43\", \"iteration\": \"21\", \"goal\": \"accuracy_max\", \"run_name\": \"StandardScalerWrapper, XGBoostClassifier\", \"run_properties\": \"copy=True, with_mean=False, with_std=False\", \"primary_metric\": 0.75001273, \"best_metric\": 0.76568203}, {\"run_id\": \"AutoML_22ba4461-a212-4663-a021-74ab3d89a921_22\", \"run_number\": 1684558763, \"metric\": null, \"status\": \"Completed\", \"run_type\": \"azureml.scriptrun\", \"training_percent\": \"100\", \"start_time\": \"2023-05-20T04:59:33.356552Z\", \"end_time\": \"2023-05-20T05:00:07.270701Z\", \"created_time\": \"2023-05-20T04:59:23.546987Z\", \"created_time_dt\": \"2023-05-20T04:59:23.546987Z\", \"duration\": \"0:00:43\", \"iteration\": \"22\", \"goal\": \"accuracy_max\", \"run_name\": \"StandardScalerWrapper, LightGBM\", \"run_properties\": \"copy=True, with_mean=False, with_std=False\", \"primary_metric\": 0.70847127, \"best_metric\": 0.76568203}, {\"run_id\": \"AutoML_22ba4461-a212-4663-a021-74ab3d89a921_23\", \"run_number\": 1684558808, \"metric\": null, \"status\": \"Completed\", \"run_type\": \"azureml.scriptrun\", \"training_percent\": \"100\", \"start_time\": \"2023-05-20T05:00:16.811613Z\", \"end_time\": \"2023-05-20T05:00:52.32244Z\", \"created_time\": \"2023-05-20T05:00:08.778581Z\", \"created_time_dt\": \"2023-05-20T05:00:08.778581Z\", \"duration\": \"0:00:43\", \"iteration\": \"23\", \"goal\": \"accuracy_max\", \"run_name\": \"SparseNormalizer, XGBoostClassifier\", \"run_properties\": \"copy=True, norm='l2'\", \"primary_metric\": 0.70194381, \"best_metric\": 0.76568203}, {\"run_id\": \"AutoML_22ba4461-a212-4663-a021-74ab3d89a921_24\", \"run_number\": 1684558853, \"metric\": null, \"status\": \"Completed\", \"run_type\": \"azureml.scriptrun\", \"training_percent\": \"100\", \"start_time\": \"2023-05-20T05:01:02.63968Z\", \"end_time\": \"2023-05-20T05:01:44.620639Z\", \"created_time\": \"2023-05-20T05:00:53.819771Z\", \"created_time_dt\": \"2023-05-20T05:00:53.819771Z\", \"duration\": \"0:00:50\", \"iteration\": \"24\", \"goal\": \"accuracy_max\", \"run_name\": \"MaxAbsScaler, RandomForest\", \"run_properties\": \"copy=True\", \"primary_metric\": 0.76569052, \"best_metric\": 0.76569052}, {\"run_id\": \"AutoML_22ba4461-a212-4663-a021-74ab3d89a921_25\", \"run_number\": 1684558906, \"metric\": null, \"status\": \"Completed\", \"run_type\": \"azureml.scriptrun\", \"training_percent\": \"100\", \"start_time\": \"2023-05-20T05:01:56.093332Z\", \"end_time\": \"2023-05-20T05:02:30.398429Z\", \"created_time\": \"2023-05-20T05:01:46.951969Z\", \"created_time_dt\": \"2023-05-20T05:01:46.951969Z\", \"duration\": \"0:00:43\", \"iteration\": \"25\", \"goal\": \"accuracy_max\", \"run_name\": \"MaxAbsScaler, LogisticRegression\", \"run_properties\": \"copy=True\", \"primary_metric\": 0.50049232, \"best_metric\": 0.76569052}, {\"run_id\": \"AutoML_22ba4461-a212-4663-a021-74ab3d89a921_26\", \"run_number\": 1684558951, \"metric\": null, \"status\": \"Completed\", \"run_type\": \"azureml.scriptrun\", \"training_percent\": \"100\", \"start_time\": \"2023-05-20T05:02:39.586621Z\", \"end_time\": \"2023-05-20T05:03:13.697565Z\", \"created_time\": \"2023-05-20T05:02:31.741276Z\", \"created_time_dt\": \"2023-05-20T05:02:31.741276Z\", \"duration\": \"0:00:41\", \"iteration\": \"26\", \"goal\": \"accuracy_max\", \"run_name\": \"StandardScalerWrapper, LogisticRegression\", \"run_properties\": \"copy=True, with_mean=False, with_std=True\", \"primary_metric\": 0.77476445, \"best_metric\": 0.77476445}, {\"run_id\": \"AutoML_22ba4461-a212-4663-a021-74ab3d89a921_27\", \"run_number\": 1684558995, \"metric\": null, \"status\": \"Completed\", \"run_type\": \"azureml.scriptrun\", \"training_percent\": \"100\", \"start_time\": \"2023-05-20T05:03:24.188986Z\", \"end_time\": \"2023-05-20T05:03:58.971392Z\", \"created_time\": \"2023-05-20T05:03:15.011285Z\", \"created_time_dt\": \"2023-05-20T05:03:15.011285Z\", \"duration\": \"0:00:43\", \"iteration\": \"27\", \"goal\": \"accuracy_max\", \"run_name\": \"MaxAbsScaler, GradientBoosting\", \"run_properties\": \"copy=True\", \"primary_metric\": 0.73317206, \"best_metric\": 0.77476445}, {\"run_id\": \"AutoML_22ba4461-a212-4663-a021-74ab3d89a921_28\", \"run_number\": 1684559040, \"metric\": null, \"status\": \"Completed\", \"run_type\": \"azureml.scriptrun\", \"training_percent\": \"100\", \"start_time\": \"2023-05-20T05:04:07.751536Z\", \"end_time\": \"2023-05-20T05:04:44.569264Z\", \"created_time\": \"2023-05-20T05:04:00.22941Z\", \"created_time_dt\": \"2023-05-20T05:04:00.22941Z\", \"duration\": \"0:00:44\", \"iteration\": \"28\", \"goal\": \"accuracy_max\", \"run_name\": \"StandardScalerWrapper, ExtremeRandomTrees\", \"run_properties\": \"copy=True, with_mean=False, with_std=True\", \"primary_metric\": 0.75785587, \"best_metric\": 0.77476445}, {\"run_id\": \"AutoML_22ba4461-a212-4663-a021-74ab3d89a921_29\", \"run_number\": 1684559086, \"metric\": null, \"status\": \"Completed\", \"run_type\": \"azureml.scriptrun\", \"training_percent\": \"100\", \"start_time\": \"2023-05-20T05:04:53.139853Z\", \"end_time\": \"2023-05-20T05:05:27.667675Z\", \"created_time\": \"2023-05-20T05:04:46.022068Z\", \"created_time_dt\": \"2023-05-20T05:04:46.022068Z\", \"duration\": \"0:00:41\", \"iteration\": \"29\", \"goal\": \"accuracy_max\", \"run_name\": \"StandardScalerWrapper, LightGBM\", \"run_properties\": \"copy=True, with_mean=False, with_std=True\", \"primary_metric\": 0.76695527, \"best_metric\": 0.77476445}, {\"run_id\": \"AutoML_22ba4461-a212-4663-a021-74ab3d89a921_30\", \"run_number\": 1684559130, \"metric\": null, \"status\": \"Completed\", \"run_type\": \"azureml.scriptrun\", \"training_percent\": \"100\", \"start_time\": \"2023-05-20T05:05:37.782376Z\", \"end_time\": \"2023-05-20T05:06:11.845565Z\", \"created_time\": \"2023-05-20T05:05:30.03461Z\", \"created_time_dt\": \"2023-05-20T05:05:30.03461Z\", \"duration\": \"0:00:41\", \"iteration\": \"30\", \"goal\": \"accuracy_max\", \"run_name\": \"MaxAbsScaler, LogisticRegression\", \"run_properties\": \"copy=True\", \"primary_metric\": 0.65114167, \"best_metric\": 0.77476445}, {\"run_id\": \"AutoML_22ba4461-a212-4663-a021-74ab3d89a921_31\", \"run_number\": 1684559173, \"metric\": null, \"status\": \"Completed\", \"run_type\": \"azureml.scriptrun\", \"training_percent\": \"100\", \"start_time\": \"2023-05-20T05:06:21.578892Z\", \"end_time\": \"2023-05-20T05:06:55.112172Z\", \"created_time\": \"2023-05-20T05:06:13.269857Z\", \"created_time_dt\": \"2023-05-20T05:06:13.269857Z\", \"duration\": \"0:00:41\", \"iteration\": \"31\", \"goal\": \"accuracy_max\", \"run_name\": \"StandardScalerWrapper, LightGBM\", \"run_properties\": \"copy=True, with_mean=False, with_std=True\", \"primary_metric\": 0.75009761, \"best_metric\": 0.77476445}, {\"run_id\": \"AutoML_22ba4461-a212-4663-a021-74ab3d89a921_32\", \"run_number\": 1684559216, \"metric\": null, \"status\": \"Completed\", \"run_type\": \"azureml.scriptrun\", \"training_percent\": \"100\", \"start_time\": \"2023-05-20T05:07:07.869091Z\", \"end_time\": \"2023-05-20T05:07:46.934796Z\", \"created_time\": \"2023-05-20T05:06:56.633197Z\", \"created_time_dt\": \"2023-05-20T05:06:56.633197Z\", \"duration\": \"0:00:50\", \"iteration\": \"32\", \"goal\": \"accuracy_max\", \"run_name\": \"StandardScalerWrapper, RandomForest\", \"run_properties\": \"copy=True, with_mean=False, with_std=False\", \"primary_metric\": 0.75267804, \"best_metric\": 0.77476445}, {\"run_id\": \"AutoML_22ba4461-a212-4663-a021-74ab3d89a921_33\", \"run_number\": 1684559268, \"metric\": null, \"status\": \"Completed\", \"run_type\": \"azureml.scriptrun\", \"training_percent\": \"100\", \"start_time\": \"2023-05-20T05:07:56.362487Z\", \"end_time\": \"2023-05-20T05:08:30.985139Z\", \"created_time\": \"2023-05-20T05:07:48.482401Z\", \"created_time_dt\": \"2023-05-20T05:07:48.482401Z\", \"duration\": \"0:00:42\", \"iteration\": \"33\", \"goal\": \"accuracy_max\", \"run_name\": \"MaxAbsScaler, LightGBM\", \"run_properties\": \"copy=True\", \"primary_metric\": 0.76440879, \"best_metric\": 0.77476445}, {\"run_id\": \"AutoML_22ba4461-a212-4663-a021-74ab3d89a921_34\", \"run_number\": 1684559312, \"metric\": null, \"status\": \"Completed\", \"run_type\": \"azureml.scriptrun\", \"training_percent\": \"100\", \"start_time\": \"2023-05-20T05:08:42.997563Z\", \"end_time\": \"2023-05-20T05:09:17.711898Z\", \"created_time\": \"2023-05-20T05:08:32.542848Z\", \"created_time_dt\": \"2023-05-20T05:08:32.542848Z\", \"duration\": \"0:00:45\", \"iteration\": \"34\", \"goal\": \"accuracy_max\", \"run_name\": \"StandardScalerWrapper, LightGBM\", \"run_properties\": \"copy=True, with_mean=False, with_std=True\", \"primary_metric\": 0.75787285, \"best_metric\": 0.77476445}, {\"run_id\": \"AutoML_22ba4461-a212-4663-a021-74ab3d89a921_35\", \"run_number\": 1684559360, \"metric\": null, \"status\": \"Completed\", \"run_type\": \"azureml.scriptrun\", \"training_percent\": \"100\", \"start_time\": \"2023-05-20T05:09:28.345021Z\", \"end_time\": \"2023-05-20T05:10:02.705603Z\", \"created_time\": \"2023-05-20T05:09:20.081866Z\", \"created_time_dt\": \"2023-05-20T05:09:20.081866Z\", \"duration\": \"0:00:42\", \"iteration\": \"35\", \"goal\": \"accuracy_max\", \"run_name\": \"MaxAbsScaler, LogisticRegression\", \"run_properties\": \"copy=True\", \"primary_metric\": 0.77089381, \"best_metric\": 0.77476445}, {\"run_id\": \"AutoML_22ba4461-a212-4663-a021-74ab3d89a921_36\", \"run_number\": 1684559404, \"metric\": null, \"status\": \"Completed\", \"run_type\": \"azureml.scriptrun\", \"training_percent\": \"100\", \"start_time\": \"2023-05-20T05:10:14.73093Z\", \"end_time\": \"2023-05-20T05:10:48.893176Z\", \"created_time\": \"2023-05-20T05:10:04.179007Z\", \"created_time_dt\": \"2023-05-20T05:10:04.179007Z\", \"duration\": \"0:00:44\", \"iteration\": \"36\", \"goal\": \"accuracy_max\", \"run_name\": \"StandardScalerWrapper, LightGBM\", \"run_properties\": \"copy=True, with_mean=False, with_std=False\", \"primary_metric\": 0.76438333, \"best_metric\": 0.77476445}, {\"run_id\": \"AutoML_22ba4461-a212-4663-a021-74ab3d89a921_37\", \"run_number\": 1684559449, \"metric\": null, \"status\": \"Completed\", \"run_type\": \"azureml.scriptrun\", \"training_percent\": \"100\", \"start_time\": \"2023-05-20T05:10:59.266499Z\", \"end_time\": \"2023-05-20T05:11:59.314946Z\", \"created_time\": \"2023-05-20T05:10:49.75051Z\", \"created_time_dt\": \"2023-05-20T05:10:49.75051Z\", \"duration\": \"0:01:09\", \"iteration\": \"37\", \"goal\": \"accuracy_max\", \"run_name\": \"VotingEnsemble\", \"run_properties\": \"classification_labels=numpy.array([0, 1]\", \"primary_metric\": 0.78129191, \"best_metric\": 0.78129191}, {\"run_id\": \"AutoML_22ba4461-a212-4663-a021-74ab3d89a921_38\", \"run_number\": 1684559520, \"metric\": null, \"status\": \"Completed\", \"run_type\": \"azureml.scriptrun\", \"training_percent\": \"100\", \"start_time\": \"2023-05-20T05:12:08.239369Z\", \"end_time\": \"2023-05-20T05:13:13.311425Z\", \"created_time\": \"2023-05-20T05:12:00.063549Z\", \"created_time_dt\": \"2023-05-20T05:12:00.063549Z\", \"duration\": \"0:01:13\", \"iteration\": \"38\", \"goal\": \"accuracy_max\", \"run_name\": \"StackEnsemble\", \"run_properties\": \"base_learners=[('26', Pipeline(memory=None, steps=[('standardscalerwrapper', StandardScalerWrapper(copy=True, with_mean=False, with_std=True\", \"primary_metric\": 0.76826246, \"best_metric\": 0.78129191}], \"children_metrics\": {\"categories\": [0], \"series\": {\"AUC_macro\": [{\"categories\": [\"0\", \"1\", \"3\", \"5\", \"8\", \"10\", \"13\", \"15\", \"18\", \"20\", \"21\", \"22\", \"23\", \"24\", \"25\", \"26\", \"27\", \"28\", \"29\", \"30\", \"31\", \"32\", \"33\", \"34\", \"35\", \"36\", \"37\", \"38\"], \"mode\": \"markers\", \"name\": \"AUC_macro\", \"stepped\": false, \"type\": \"scatter\", \"data\": [0.8044555568955882, 0.8025650959417614, 0.6952153458301298, 0.8227792051351523, 0.7443815695658353, 0.7229963001365076, 0.7534736040245981, 0.7552863182615213, 0.8225417011212661, 0.793335200529936, 0.811227785966435, 0.8397917858718197, 0.7484980332198637, 0.8296910873237344, 0.5, 0.8127908491537056, 0.8251501235690887, 0.8197682733362578, 0.8397305541886402, 0.7449072971485046, 0.8250611284565835, 0.824985466417955, 0.8235311461168102, 0.8282412480434529, 0.8211682248251423, 0.8318135138790828, 0.8324988470332514, 0.8329838118281703]}, {\"categories\": [\"0\", \"1\", \"3\", \"5\", \"8\", \"10\", \"13\", \"15\", \"18\", \"20\", \"21\", \"22\", \"23\", \"24\", \"25\", \"26\", \"27\", \"28\", \"29\", \"30\", \"31\", \"32\", \"33\", \"34\", \"35\", \"36\", \"37\", \"38\"], \"mode\": \"lines\", \"name\": \"AUC_macro_max\", \"stepped\": true, \"type\": \"scatter\", \"data\": [0.8044555568955882, 0.8044555568955882, 0.8044555568955882, 0.8227792051351523, 0.8227792051351523, 0.8227792051351523, 0.8227792051351523, 0.8227792051351523, 0.8227792051351523, 0.8227792051351523, 0.8227792051351523, 0.8397917858718197, 0.8397917858718197, 0.8397917858718197, 0.8397917858718197, 0.8397917858718197, 0.8397917858718197, 0.8397917858718197, 0.8397917858718197, 0.8397917858718197, 0.8397917858718197, 0.8397917858718197, 0.8397917858718197, 0.8397917858718197, 0.8397917858718197, 0.8397917858718197, 0.8397917858718197, 0.8397917858718197]}], \"recall_score_macro\": [{\"categories\": [\"0\", \"1\", \"3\", \"5\", \"8\", \"10\", \"13\", \"15\", \"18\", \"20\", \"21\", \"22\", \"23\", \"24\", \"25\", \"26\", \"27\", \"28\", \"29\", \"30\", \"31\", \"32\", \"33\", \"34\", \"35\", \"36\", \"37\", \"38\"], \"mode\": \"markers\", \"name\": \"recall_score_macro\", \"stepped\": false, \"type\": \"scatter\", \"data\": [0.7113838058691895, 0.7153566798884052, 0.6041380765360188, 0.6227359824179557, 0.5, 0.5805020137178312, 0.6670764653799282, 0.6768381384072659, 0.7298548001175094, 0.720565625678122, 0.7136135505325766, 0.5969009106574259, 0.6360726772018331, 0.7162078156314986, 0.5, 0.721811879690241, 0.6402842099051422, 0.682787446830982, 0.724898315090393, 0.5, 0.67471280729631, 0.6806343424234468, 0.70445174186469, 0.7216525874483338, 0.721305639058395, 0.7084095847984816, 0.7315825338891659, 0.7097570637367875]}, {\"categories\": [\"0\", \"1\", \"3\", \"5\", \"8\", \"10\", \"13\", \"15\", \"18\", \"20\", \"21\", \"22\", \"23\", \"24\", \"25\", \"26\", \"27\", \"28\", \"29\", \"30\", \"31\", \"32\", \"33\", \"34\", \"35\", \"36\", \"37\", \"38\"], \"mode\": \"lines\", \"name\": \"recall_score_macro_max\", \"stepped\": true, \"type\": \"scatter\", \"data\": [0.7113838058691895, 0.7153566798884052, 0.7153566798884052, 0.7153566798884052, 0.7153566798884052, 0.7153566798884052, 0.7153566798884052, 0.7153566798884052, 0.7298548001175094, 0.7298548001175094, 0.7298548001175094, 0.7298548001175094, 0.7298548001175094, 0.7298548001175094, 0.7298548001175094, 0.7298548001175094, 0.7298548001175094, 0.7298548001175094, 0.7298548001175094, 0.7298548001175094, 0.7298548001175094, 0.7298548001175094, 0.7298548001175094, 0.7298548001175094, 0.7298548001175094, 0.7298548001175094, 0.7315825338891659, 0.7315825338891659]}], \"recall_score_micro\": [{\"categories\": [\"0\", \"1\", \"3\", \"5\", \"8\", \"10\", \"13\", \"15\", \"18\", \"20\", \"21\", \"22\", \"23\", \"24\", \"25\", \"26\", \"27\", \"28\", \"29\", \"30\", \"31\", \"32\", \"33\", \"34\", \"35\", \"36\", \"37\", \"38\"], \"mode\": \"markers\", \"name\": \"recall_score_micro\", \"stepped\": false, \"type\": \"scatter\", \"data\": [0.7461420932009167, 0.7500381970970207, 0.6784568372803668, 0.7227739580680757, 0.6511416687887276, 0.6784568372803667, 0.6692980222391988, 0.6849503437738733, 0.7656820303879128, 0.7409727527374586, 0.7500127323656736, 0.7084712672947967, 0.7019438078261608, 0.7656905186316951, 0.500492318139377, 0.7747644512350395, 0.7331720567014685, 0.7578558696205755, 0.7669552669552668, 0.6511416687887276, 0.750097614803497, 0.752678040913335, 0.7644087938205585, 0.7578728461081401, 0.7708938120702825, 0.7643833290892115, 0.7812919107036753, 0.7682624564977505]}, {\"categories\": [\"0\", \"1\", \"3\", \"5\", \"8\", \"10\", \"13\", \"15\", \"18\", \"20\", \"21\", \"22\", \"23\", \"24\", \"25\", \"26\", \"27\", \"28\", \"29\", \"30\", \"31\", \"32\", \"33\", \"34\", \"35\", \"36\", \"37\", \"38\"], \"mode\": \"lines\", \"name\": \"recall_score_micro_max\", \"stepped\": true, \"type\": \"scatter\", \"data\": [0.7461420932009167, 0.7500381970970207, 0.7500381970970207, 0.7500381970970207, 0.7500381970970207, 0.7500381970970207, 0.7500381970970207, 0.7500381970970207, 0.7656820303879128, 0.7656820303879128, 0.7656820303879128, 0.7656820303879128, 0.7656820303879128, 0.7656905186316951, 0.7656905186316951, 0.7747644512350395, 0.7747644512350395, 0.7747644512350395, 0.7747644512350395, 0.7747644512350395, 0.7747644512350395, 0.7747644512350395, 0.7747644512350395, 0.7747644512350395, 0.7747644512350395, 0.7747644512350395, 0.7812919107036753, 0.7812919107036753]}], \"recall_score_weighted\": [{\"categories\": [\"0\", \"1\", \"3\", \"5\", \"8\", \"10\", \"13\", \"15\", \"18\", \"20\", \"21\", \"22\", \"23\", \"24\", \"25\", \"26\", \"27\", \"28\", \"29\", \"30\", \"31\", \"32\", \"33\", \"34\", \"35\", \"36\", \"37\", \"38\"], \"mode\": \"markers\", \"name\": \"recall_score_weighted\", \"stepped\": false, \"type\": \"scatter\", \"data\": [0.7461420932009167, 0.7500381970970207, 0.6784568372803668, 0.7227739580680757, 0.6511416687887276, 0.6784568372803667, 0.6692980222391988, 0.6849503437738733, 0.7656820303879128, 0.7409727527374586, 0.7500127323656736, 0.7084712672947967, 0.7019438078261608, 0.7656905186316951, 0.500492318139377, 0.7747644512350395, 0.7331720567014685, 0.7578558696205755, 0.7669552669552668, 0.6511416687887276, 0.750097614803497, 0.752678040913335, 0.7644087938205585, 0.7578728461081401, 0.7708938120702825, 0.7643833290892115, 0.7812919107036753, 0.7682624564977505]}, {\"categories\": [\"0\", \"1\", \"3\", \"5\", \"8\", \"10\", \"13\", \"15\", \"18\", \"20\", \"21\", \"22\", \"23\", \"24\", \"25\", \"26\", \"27\", \"28\", \"29\", \"30\", \"31\", \"32\", \"33\", \"34\", \"35\", \"36\", \"37\", \"38\"], \"mode\": \"lines\", \"name\": \"recall_score_weighted_max\", \"stepped\": true, \"type\": \"scatter\", \"data\": [0.7461420932009167, 0.7500381970970207, 0.7500381970970207, 0.7500381970970207, 0.7500381970970207, 0.7500381970970207, 0.7500381970970207, 0.7500381970970207, 0.7656820303879128, 0.7656820303879128, 0.7656820303879128, 0.7656820303879128, 0.7656820303879128, 0.7656905186316951, 0.7656905186316951, 0.7747644512350395, 0.7747644512350395, 0.7747644512350395, 0.7747644512350395, 0.7747644512350395, 0.7747644512350395, 0.7747644512350395, 0.7747644512350395, 0.7747644512350395, 0.7747644512350395, 0.7747644512350395, 0.7812919107036753, 0.7812919107036753]}], \"AUC_weighted\": [{\"categories\": [\"0\", \"1\", \"3\", \"5\", \"8\", \"10\", \"13\", \"15\", \"18\", \"20\", \"21\", \"22\", \"23\", \"24\", \"25\", \"26\", \"27\", \"28\", \"29\", \"30\", \"31\", \"32\", \"33\", \"34\", \"35\", \"36\", \"37\", \"38\"], \"mode\": \"markers\", \"name\": \"AUC_weighted\", \"stepped\": false, \"type\": \"scatter\", \"data\": [0.8044555568955882, 0.8025650959417614, 0.6952153458301297, 0.8227792051351523, 0.7443815695658353, 0.7229963001365076, 0.7534736040245982, 0.7552863182615213, 0.8225417011212661, 0.793335200529936, 0.811227785966435, 0.8397917858718195, 0.7484980332198637, 0.8296910873237346, 0.5, 0.8127908491537056, 0.8251501235690887, 0.8197682733362578, 0.8397305541886402, 0.7449072971485043, 0.8250611284565835, 0.8249854664179551, 0.8235311461168102, 0.8282412480434529, 0.8211682248251423, 0.8318135138790828, 0.8324988470332514, 0.8329838118281703]}, {\"categories\": [\"0\", \"1\", \"3\", \"5\", \"8\", \"10\", \"13\", \"15\", \"18\", \"20\", \"21\", \"22\", \"23\", \"24\", \"25\", \"26\", \"27\", \"28\", \"29\", \"30\", \"31\", \"32\", \"33\", \"34\", \"35\", \"36\", \"37\", \"38\"], \"mode\": \"lines\", \"name\": \"AUC_weighted_max\", \"stepped\": true, \"type\": \"scatter\", \"data\": [0.8044555568955882, 0.8044555568955882, 0.8044555568955882, 0.8227792051351523, 0.8227792051351523, 0.8227792051351523, 0.8227792051351523, 0.8227792051351523, 0.8227792051351523, 0.8227792051351523, 0.8227792051351523, 0.8397917858718195, 0.8397917858718195, 0.8397917858718195, 0.8397917858718195, 0.8397917858718195, 0.8397917858718195, 0.8397917858718195, 0.8397917858718195, 0.8397917858718195, 0.8397917858718195, 0.8397917858718195, 0.8397917858718195, 0.8397917858718195, 0.8397917858718195, 0.8397917858718195, 0.8397917858718195, 0.8397917858718195]}], \"matthews_correlation\": [{\"categories\": [\"0\", \"1\", \"3\", \"5\", \"8\", \"10\", \"13\", \"15\", \"18\", \"20\", \"21\", \"22\", \"23\", \"24\", \"25\", \"26\", \"27\", \"28\", \"29\", \"30\", \"31\", \"32\", \"33\", \"34\", \"35\", \"36\", \"37\", \"38\"], \"mode\": \"markers\", \"name\": \"matthews_correlation\", \"stepped\": false, \"type\": \"scatter\", \"data\": [0.42897685019524284, 0.43686255501978516, 0.24250707781874986, 0.3511954278966355, 0.0, 0.2243076912958831, 0.3207181498630846, 0.34118424113230544, 0.4698315587728546, 0.435824421053594, 0.43562761538090333, 0.3167861958488098, 0.30409089733100136, 0.4602088859826249, 0.0, 0.4825977618076854, 0.3682928496109946, 0.4349388788629249, 0.46893226963110557, 0.0, 0.41680325243192373, 0.42211709857267177, 0.45406566107624957, 0.45394665022160774, 0.47502303298834575, 0.45433406294232254, 0.49751572986425, 0.46199640655615026]}, {\"categories\": [\"0\", \"1\", \"3\", \"5\", \"8\", \"10\", \"13\", \"15\", \"18\", \"20\", \"21\", \"22\", \"23\", \"24\", \"25\", \"26\", \"27\", \"28\", \"29\", \"30\", \"31\", \"32\", \"33\", \"34\", \"35\", \"36\", \"37\", \"38\"], \"mode\": \"lines\", \"name\": \"matthews_correlation_max\", \"stepped\": true, \"type\": \"scatter\", \"data\": [0.42897685019524284, 0.43686255501978516, 0.43686255501978516, 0.43686255501978516, 0.43686255501978516, 0.43686255501978516, 0.43686255501978516, 0.43686255501978516, 0.4698315587728546, 0.4698315587728546, 0.4698315587728546, 0.4698315587728546, 0.4698315587728546, 0.4698315587728546, 0.4698315587728546, 0.4825977618076854, 0.4825977618076854, 0.4825977618076854, 0.4825977618076854, 0.4825977618076854, 0.4825977618076854, 0.4825977618076854, 0.4825977618076854, 0.4825977618076854, 0.4825977618076854, 0.4825977618076854, 0.49751572986425, 0.49751572986425]}], \"average_precision_score_macro\": [{\"categories\": [\"0\", \"1\", \"3\", \"5\", \"8\", \"10\", \"13\", \"15\", \"18\", \"20\", \"21\", \"22\", \"23\", \"24\", \"25\", \"26\", \"27\", \"28\", \"29\", \"30\", \"31\", \"32\", \"33\", \"34\", \"35\", \"36\", \"37\", \"38\"], \"mode\": \"markers\", \"name\": \"average_precision_score_macro\", \"stepped\": false, \"type\": \"scatter\", \"data\": [0.7826874243830495, 0.7808438402884323, 0.6680081219849362, 0.794862952110139, 0.7185434073262422, 0.6998689005666925, 0.7440056248530936, 0.7355211464273355, 0.7969640997619127, 0.7720971025361394, 0.7889666076320931, 0.8152541939386614, 0.7241612936122142, 0.8103441694231517, 0.5, 0.7985774667683897, 0.7948119584447677, 0.8042610258680112, 0.8203900223170508, 0.7320857092649156, 0.8021747807095743, 0.8011050485097331, 0.7983768662330066, 0.806152228933884, 0.8061984856378416, 0.8105144496835119, 0.8175261310520447, 0.8183934027710287]}, {\"categories\": [\"0\", \"1\", \"3\", \"5\", \"8\", \"10\", \"13\", \"15\", \"18\", \"20\", \"21\", \"22\", \"23\", \"24\", \"25\", \"26\", \"27\", \"28\", \"29\", \"30\", \"31\", \"32\", \"33\", \"34\", \"35\", \"36\", \"37\", \"38\"], \"mode\": \"lines\", \"name\": \"average_precision_score_macro_max\", \"stepped\": true, \"type\": \"scatter\", \"data\": [0.7826874243830495, 0.7826874243830495, 0.7826874243830495, 0.794862952110139, 0.794862952110139, 0.794862952110139, 0.794862952110139, 0.794862952110139, 0.7969640997619127, 0.7969640997619127, 0.7969640997619127, 0.8152541939386614, 0.8152541939386614, 0.8152541939386614, 0.8152541939386614, 0.8152541939386614, 0.8152541939386614, 0.8152541939386614, 0.8203900223170508, 0.8203900223170508, 0.8203900223170508, 0.8203900223170508, 0.8203900223170508, 0.8203900223170508, 0.8203900223170508, 0.8203900223170508, 0.8203900223170508, 0.8203900223170508]}], \"norm_macro_recall\": [{\"categories\": [\"0\", \"1\", \"3\", \"5\", \"8\", \"10\", \"13\", \"15\", \"18\", \"20\", \"21\", \"22\", \"23\", \"24\", \"25\", \"26\", \"27\", \"28\", \"29\", \"30\", \"31\", \"32\", \"33\", \"34\", \"35\", \"36\", \"37\", \"38\"], \"mode\": \"markers\", \"name\": \"norm_macro_recall\", \"stepped\": false, \"type\": \"scatter\", \"data\": [0.42276761173837885, 0.4307133597768102, 0.20827615307203753, 0.24547196483591116, 0.0, 0.16100402743566228, 0.3341529307598563, 0.35367627681453195, 0.45970960023501883, 0.4411312513562439, 0.4272271010651531, 0.19380182131485188, 0.2721453544036662, 0.4324156312629972, 0.0, 0.4436237593804819, 0.2805684198102846, 0.36557489366196394, 0.44979663018078603, 0.0, 0.34942561459261995, 0.3612686848468937, 0.40890348372938, 0.4433051748966676, 0.44261127811679, 0.4168191695969634, 0.46316506777833216, 0.419514127473575]}, {\"categories\": [\"0\", \"1\", \"3\", \"5\", \"8\", \"10\", \"13\", \"15\", \"18\", \"20\", \"21\", \"22\", \"23\", \"24\", \"25\", \"26\", \"27\", \"28\", \"29\", \"30\", \"31\", \"32\", \"33\", \"34\", \"35\", \"36\", \"37\", \"38\"], \"mode\": \"lines\", \"name\": \"norm_macro_recall_max\", \"stepped\": true, \"type\": \"scatter\", \"data\": [0.42276761173837885, 0.4307133597768102, 0.4307133597768102, 0.4307133597768102, 0.4307133597768102, 0.4307133597768102, 0.4307133597768102, 0.4307133597768102, 0.45970960023501883, 0.45970960023501883, 0.45970960023501883, 0.45970960023501883, 0.45970960023501883, 0.45970960023501883, 0.45970960023501883, 0.45970960023501883, 0.45970960023501883, 0.45970960023501883, 0.45970960023501883, 0.45970960023501883, 0.45970960023501883, 0.45970960023501883, 0.45970960023501883, 0.45970960023501883, 0.45970960023501883, 0.45970960023501883, 0.46316506777833216, 0.46316506777833216]}], \"precision_score_weighted\": [{\"categories\": [\"0\", \"1\", \"3\", \"5\", \"8\", \"10\", \"13\", \"15\", \"18\", \"20\", \"21\", \"22\", \"23\", \"24\", \"25\", \"26\", \"27\", \"28\", \"29\", \"30\", \"31\", \"32\", \"33\", \"34\", \"35\", \"36\", \"37\", \"38\"], \"mode\": \"markers\", \"name\": \"precision_score_weighted\", \"stepped\": false, \"type\": \"scatter\", \"data\": [0.7443216189800509, 0.7483902396876573, 0.6684610740150287, 0.74319797879374, 0.4265500510508674, 0.6774202763460335, 0.7007472659503045, 0.7069145263980215, 0.7627712027260554, 0.7479053059723735, 0.749254584605586, 0.750596954531864, 0.6919557669398938, 0.7608843923011687, 0.27590070040151676, 0.7760534915658323, 0.7411245976179898, 0.7625458666585264, 0.7655574158974385, 0.4265500510508674, 0.7542403690555194, 0.7525001150331014, 0.7612478473353603, 0.7571503939059168, 0.7708715069321304, 0.7606107986693995, 0.7813442543290235, 0.7675656833641734]}, {\"categories\": [\"0\", \"1\", \"3\", \"5\", \"8\", \"10\", \"13\", \"15\", \"18\", \"20\", \"21\", \"22\", \"23\", \"24\", \"25\", \"26\", \"27\", \"28\", \"29\", \"30\", \"31\", \"32\", \"33\", \"34\", \"35\", \"36\", \"37\", \"38\"], \"mode\": \"lines\", \"name\": \"precision_score_weighted_max\", \"stepped\": true, \"type\": \"scatter\", \"data\": [0.7443216189800509, 0.7483902396876573, 0.7483902396876573, 0.7483902396876573, 0.7483902396876573, 0.7483902396876573, 0.7483902396876573, 0.7483902396876573, 0.7627712027260554, 0.7627712027260554, 0.7627712027260554, 0.7627712027260554, 0.7627712027260554, 0.7627712027260554, 0.7627712027260554, 0.7760534915658323, 0.7760534915658323, 0.7760534915658323, 0.7760534915658323, 0.7760534915658323, 0.7760534915658323, 0.7760534915658323, 0.7760534915658323, 0.7760534915658323, 0.7760534915658323, 0.7760534915658323, 0.7813442543290235, 0.7813442543290235]}], \"log_loss\": [{\"categories\": [\"0\", \"1\", \"3\", \"5\", \"8\", \"10\", \"13\", \"15\", \"18\", \"20\", \"21\", \"22\", \"23\", \"24\", \"25\", \"26\", \"27\", \"28\", \"29\", \"30\", \"31\", \"32\", \"33\", \"34\", \"35\", \"36\", \"37\", \"38\"], \"mode\": \"markers\", \"name\": \"log_loss\", \"stepped\": false, \"type\": \"scatter\", \"data\": [0.6332711438725427, 0.7164333403872011, 0.6763253194284898, 0.5479339530719323, 0.6199607960595791, 0.5838929751495817, 0.6457673071889125, 0.5754407302955563, 0.4882903228443872, 0.5271485093485478, 0.5107551236734987, 0.5563805085942375, 0.5555231497071728, 0.4828330323312876, 0.6872581366175256, 0.496182234661709, 0.536007593294584, 0.5163886447093156, 0.4656340803070728, 0.6492902426009461, 0.518365195781813, 0.5180414147141612, 0.5091334007966117, 0.48542063242113764, 0.4892866383303753, 0.4938225722427979, 0.48131304835625566, 0.4900500667067876]}, {\"categories\": [\"0\", \"1\", \"3\", \"5\", \"8\", \"10\", \"13\", \"15\", \"18\", \"20\", \"21\", \"22\", \"23\", \"24\", \"25\", \"26\", \"27\", \"28\", \"29\", \"30\", \"31\", \"32\", \"33\", \"34\", \"35\", \"36\", \"37\", \"38\"], \"mode\": \"lines\", \"name\": \"log_loss_min\", \"stepped\": true, \"type\": \"scatter\", \"data\": [0.6332711438725427, 0.6332711438725427, 0.6332711438725427, 0.5479339530719323, 0.5479339530719323, 0.5479339530719323, 0.5479339530719323, 0.5479339530719323, 0.4882903228443872, 0.4882903228443872, 0.4882903228443872, 0.4882903228443872, 0.4882903228443872, 0.4828330323312876, 0.4828330323312876, 0.4828330323312876, 0.4828330323312876, 0.4828330323312876, 0.4656340803070728, 0.4656340803070728, 0.4656340803070728, 0.4656340803070728, 0.4656340803070728, 0.4656340803070728, 0.4656340803070728, 0.4656340803070728, 0.4656340803070728, 0.4656340803070728]}], \"average_precision_score_weighted\": [{\"categories\": [\"0\", \"1\", \"3\", \"5\", \"8\", \"10\", \"13\", \"15\", \"18\", \"20\", \"21\", \"22\", \"23\", \"24\", \"25\", \"26\", \"27\", \"28\", \"29\", \"30\", \"31\", \"32\", \"33\", \"34\", \"35\", \"36\", \"37\", \"38\"], \"mode\": \"markers\", \"name\": \"average_precision_score_weighted\", \"stepped\": false, \"type\": \"scatter\", \"data\": [0.8159197901628463, 0.8123900444068173, 0.7134442176128466, 0.8290719889509781, 0.7577993333683041, 0.7392660304928164, 0.7768007120199066, 0.7743046110943388, 0.8280276012533921, 0.804970199172719, 0.8207989352916092, 0.8456014375147097, 0.7656580690009367, 0.8395932658556651, 0.5508167645242796, 0.8261127175019134, 0.8284026932096268, 0.8354292582865985, 0.8502545334541358, 0.7718795628869211, 0.8333426378326545, 0.833467258477301, 0.8296331017203306, 0.8373193336539604, 0.8342370596314777, 0.8401000362095962, 0.8462003107220397, 0.8469320883760652]}, {\"categories\": [\"0\", \"1\", \"3\", \"5\", \"8\", \"10\", \"13\", \"15\", \"18\", \"20\", \"21\", \"22\", \"23\", \"24\", \"25\", \"26\", \"27\", \"28\", \"29\", \"30\", \"31\", \"32\", \"33\", \"34\", \"35\", \"36\", \"37\", \"38\"], \"mode\": \"lines\", \"name\": \"average_precision_score_weighted_max\", \"stepped\": true, \"type\": \"scatter\", \"data\": [0.8159197901628463, 0.8159197901628463, 0.8159197901628463, 0.8290719889509781, 0.8290719889509781, 0.8290719889509781, 0.8290719889509781, 0.8290719889509781, 0.8290719889509781, 0.8290719889509781, 0.8290719889509781, 0.8456014375147097, 0.8456014375147097, 0.8456014375147097, 0.8456014375147097, 0.8456014375147097, 0.8456014375147097, 0.8456014375147097, 0.8502545334541358, 0.8502545334541358, 0.8502545334541358, 0.8502545334541358, 0.8502545334541358, 0.8502545334541358, 0.8502545334541358, 0.8502545334541358, 0.8502545334541358, 0.8502545334541358]}], \"average_precision_score_micro\": [{\"categories\": [\"0\", \"1\", \"3\", \"5\", \"8\", \"10\", \"13\", \"15\", \"18\", \"20\", \"21\", \"22\", \"23\", \"24\", \"25\", \"26\", \"27\", \"28\", \"29\", \"30\", \"31\", \"32\", \"33\", \"34\", \"35\", \"36\", \"37\", \"38\"], \"mode\": \"markers\", \"name\": \"average_precision_score_micro\", \"stepped\": false, \"type\": \"scatter\", \"data\": [0.8311608346515413, 0.8260147485074472, 0.7372527180015165, 0.8232717110254473, 0.7663600912008709, 0.7541024057386148, 0.7345394145108227, 0.7744536062404372, 0.8426834117252936, 0.8087204136327608, 0.8335270173077349, 0.822855439590939, 0.7852623269553499, 0.8501596995561347, 0.5256545413318283, 0.8339818150779186, 0.8301800164422352, 0.8365936577047242, 0.8624429183966544, 0.7713671683259758, 0.8371176312833383, 0.8384672643543638, 0.8389454101379888, 0.8488209001556687, 0.8401031223701162, 0.8496735499136892, 0.8556576932132878, 0.8545233843316609]}, {\"categories\": [\"0\", \"1\", \"3\", \"5\", \"8\", \"10\", \"13\", \"15\", \"18\", \"20\", \"21\", \"22\", \"23\", \"24\", \"25\", \"26\", \"27\", \"28\", \"29\", \"30\", \"31\", \"32\", \"33\", \"34\", \"35\", \"36\", \"37\", \"38\"], \"mode\": \"lines\", \"name\": \"average_precision_score_micro_max\", \"stepped\": true, \"type\": \"scatter\", \"data\": [0.8311608346515413, 0.8311608346515413, 0.8311608346515413, 0.8311608346515413, 0.8311608346515413, 0.8311608346515413, 0.8311608346515413, 0.8311608346515413, 0.8426834117252936, 0.8426834117252936, 0.8426834117252936, 0.8426834117252936, 0.8426834117252936, 0.8501596995561347, 0.8501596995561347, 0.8501596995561347, 0.8501596995561347, 0.8501596995561347, 0.8624429183966544, 0.8624429183966544, 0.8624429183966544, 0.8624429183966544, 0.8624429183966544, 0.8624429183966544, 0.8624429183966544, 0.8624429183966544, 0.8624429183966544, 0.8624429183966544]}], \"accuracy\": [{\"categories\": [\"0\", \"1\", \"3\", \"5\", \"8\", \"10\", \"13\", \"15\", \"18\", \"20\", \"21\", \"22\", \"23\", \"24\", \"25\", \"26\", \"27\", \"28\", \"29\", \"30\", \"31\", \"32\", \"33\", \"34\", \"35\", \"36\", \"37\", \"38\"], \"mode\": \"markers\", \"name\": \"accuracy\", \"stepped\": false, \"type\": \"scatter\", \"data\": [0.7461420932009167, 0.7500381970970207, 0.6784568372803668, 0.7227739580680757, 0.6511416687887276, 0.6784568372803667, 0.6692980222391988, 0.6849503437738733, 0.7656820303879128, 0.7409727527374586, 0.7500127323656736, 0.7084712672947967, 0.7019438078261608, 0.7656905186316951, 0.500492318139377, 0.7747644512350395, 0.7331720567014685, 0.7578558696205755, 0.7669552669552668, 0.6511416687887276, 0.750097614803497, 0.752678040913335, 0.7644087938205585, 0.7578728461081401, 0.7708938120702825, 0.7643833290892115, 0.7812919107036753, 0.7682624564977505]}, {\"categories\": [\"0\", \"1\", \"3\", \"5\", \"8\", \"10\", \"13\", \"15\", \"18\", \"20\", \"21\", \"22\", \"23\", \"24\", \"25\", \"26\", \"27\", \"28\", \"29\", \"30\", \"31\", \"32\", \"33\", \"34\", \"35\", \"36\", \"37\", \"38\"], \"mode\": \"lines\", \"name\": \"accuracy_max\", \"stepped\": true, \"type\": \"scatter\", \"data\": [0.7461420932009167, 0.7500381970970207, 0.7500381970970207, 0.7500381970970207, 0.7500381970970207, 0.7500381970970207, 0.7500381970970207, 0.7500381970970207, 0.7656820303879128, 0.7656820303879128, 0.7656820303879128, 0.7656820303879128, 0.7656820303879128, 0.7656905186316951, 0.7656905186316951, 0.7747644512350395, 0.7747644512350395, 0.7747644512350395, 0.7747644512350395, 0.7747644512350395, 0.7747644512350395, 0.7747644512350395, 0.7747644512350395, 0.7747644512350395, 0.7747644512350395, 0.7747644512350395, 0.7812919107036753, 0.7812919107036753]}], \"precision_score_macro\": [{\"categories\": [\"0\", \"1\", \"3\", \"5\", \"8\", \"10\", \"13\", \"15\", \"18\", \"20\", \"21\", \"22\", \"23\", \"24\", \"25\", \"26\", \"27\", \"28\", \"29\", \"30\", \"31\", \"32\", \"33\", \"34\", \"35\", \"36\", \"37\", \"38\"], \"mode\": \"markers\", \"name\": \"precision_score_macro\", \"stepped\": false, \"type\": \"scatter\", \"data\": [0.7177702021983517, 0.7218176045287529, 0.6421200211769363, 0.7518757403775257, 0.3255708343943638, 0.6617363340367755, 0.6540118018554902, 0.6649464154239435, 0.7401820325133461, 0.7155509653949413, 0.72239482909525, 0.7650024417876418, 0.6700710934238912, 0.7449479230365663, 0.2502461590696885, 0.7631702157176571, 0.7448007264896968, 0.7588440459647389, 0.7448392502474389, 0.3255708343943638, 0.7490716867141947, 0.746815709573694, 0.7521703293308051, 0.7327227955688482, 0.7554232524140823, 0.7478212831639698, 0.7676594149997197, 0.7546922727256618]}, {\"categories\": [\"0\", \"1\", \"3\", \"5\", \"8\", \"10\", \"13\", \"15\", \"18\", \"20\", \"21\", \"22\", \"23\", \"24\", \"25\", \"26\", \"27\", \"28\", \"29\", \"30\", \"31\", \"32\", \"33\", \"34\", \"35\", \"36\", \"37\", \"38\"], \"mode\": \"lines\", \"name\": \"precision_score_macro_max\", \"stepped\": true, \"type\": \"scatter\", \"data\": [0.7177702021983517, 0.7218176045287529, 0.7218176045287529, 0.7518757403775257, 0.7518757403775257, 0.7518757403775257, 0.7518757403775257, 0.7518757403775257, 0.7518757403775257, 0.7518757403775257, 0.7518757403775257, 0.7650024417876418, 0.7650024417876418, 0.7650024417876418, 0.7650024417876418, 0.7650024417876418, 0.7650024417876418, 0.7650024417876418, 0.7650024417876418, 0.7650024417876418, 0.7650024417876418, 0.7650024417876418, 0.7650024417876418, 0.7650024417876418, 0.7650024417876418, 0.7650024417876418, 0.7676594149997197, 0.7676594149997197]}], \"weighted_accuracy\": [{\"categories\": [\"0\", \"1\", \"3\", \"5\", \"8\", \"10\", \"13\", \"15\", \"18\", \"20\", \"21\", \"22\", \"23\", \"24\", \"25\", \"26\", \"27\", \"28\", \"29\", \"30\", \"31\", \"32\", \"33\", \"34\", \"35\", \"36\", \"37\", \"38\"], \"mode\": \"markers\", \"name\": \"weighted_accuracy\", \"stepped\": false, \"type\": \"scatter\", \"data\": [0.7727292546542748, 0.7770277653925426, 0.7364440052668275, 0.8022173871679599, 0.7698004941684061, 0.7579334325128855, 0.6689540850305766, 0.6921455324256318, 0.7933821414358557, 0.7567656907744483, 0.7781621512850622, 0.797858850296215, 0.7535506946117021, 0.8042575647822268, 0.48656402414460587, 0.8163987192756773, 0.8065696487925775, 0.8167136327406638, 0.7995736461538792, 0.7698004941684061, 0.8092760697672201, 0.8094480487725768, 0.8109730702371876, 0.7865302310294408, 0.8095292948689675, 0.8081430497539687, 0.8199282958934356, 0.8139082443340134]}, {\"categories\": [\"0\", \"1\", \"3\", \"5\", \"8\", \"10\", \"13\", \"15\", \"18\", \"20\", \"21\", \"22\", \"23\", \"24\", \"25\", \"26\", \"27\", \"28\", \"29\", \"30\", \"31\", \"32\", \"33\", \"34\", \"35\", \"36\", \"37\", \"38\"], \"mode\": \"lines\", \"name\": \"weighted_accuracy_max\", \"stepped\": true, \"type\": \"scatter\", \"data\": [0.7727292546542748, 0.7770277653925426, 0.7770277653925426, 0.8022173871679599, 0.8022173871679599, 0.8022173871679599, 0.8022173871679599, 0.8022173871679599, 0.8022173871679599, 0.8022173871679599, 0.8022173871679599, 0.8022173871679599, 0.8022173871679599, 0.8042575647822268, 0.8042575647822268, 0.8163987192756773, 0.8163987192756773, 0.8167136327406638, 0.8167136327406638, 0.8167136327406638, 0.8167136327406638, 0.8167136327406638, 0.8167136327406638, 0.8167136327406638, 0.8167136327406638, 0.8167136327406638, 0.8199282958934356, 0.8199282958934356]}], \"f1_score_weighted\": [{\"categories\": [\"0\", \"1\", \"3\", \"5\", \"8\", \"10\", \"13\", \"15\", \"18\", \"20\", \"21\", \"22\", \"23\", \"24\", \"25\", \"26\", \"27\", \"28\", \"29\", \"30\", \"31\", \"32\", \"33\", \"34\", \"35\", \"36\", \"37\", \"38\"], \"mode\": \"markers\", \"name\": \"f1_score_weighted\", \"stepped\": false, \"type\": \"scatter\", \"data\": [0.7439880015804127, 0.7471432349619065, 0.65781244779733, 0.6775790814670898, 0.5146586817401758, 0.6268969016134682, 0.676418171578004, 0.691008447578608, 0.7627065103941973, 0.7424847595766124, 0.7476041816694079, 0.643658319816298, 0.6866140223656583, 0.7580773185418463, 0.34822722676755297, 0.7657612541500249, 0.6940934759713083, 0.7374320448117667, 0.7622034612306905, 0.5146586817401758, 0.7288241683416936, 0.7329713213115098, 0.752629263376162, 0.7550108164003348, 0.7636281956902014, 0.7537910600379689, 0.7739988530838844, 0.7572797984523327]}, {\"categories\": [\"0\", \"1\", \"3\", \"5\", \"8\", \"10\", \"13\", \"15\", \"18\", \"20\", \"21\", \"22\", \"23\", \"24\", \"25\", \"26\", \"27\", \"28\", \"29\", \"30\", \"31\", \"32\", \"33\", \"34\", \"35\", \"36\", \"37\", \"38\"], \"mode\": \"lines\", \"name\": \"f1_score_weighted_max\", \"stepped\": true, \"type\": \"scatter\", \"data\": [0.7439880015804127, 0.7471432349619065, 0.7471432349619065, 0.7471432349619065, 0.7471432349619065, 0.7471432349619065, 0.7471432349619065, 0.7471432349619065, 0.7627065103941973, 0.7627065103941973, 0.7627065103941973, 0.7627065103941973, 0.7627065103941973, 0.7627065103941973, 0.7627065103941973, 0.7657612541500249, 0.7657612541500249, 0.7657612541500249, 0.7657612541500249, 0.7657612541500249, 0.7657612541500249, 0.7657612541500249, 0.7657612541500249, 0.7657612541500249, 0.7657612541500249, 0.7657612541500249, 0.7739988530838844, 0.7739988530838844]}], \"balanced_accuracy\": [{\"categories\": [\"0\", \"1\", \"3\", \"5\", \"8\", \"10\", \"13\", \"15\", \"18\", \"20\", \"21\", \"22\", \"23\", \"24\", \"25\", \"26\", \"27\", \"28\", \"29\", \"30\", \"31\", \"32\", \"33\", \"34\", \"35\", \"36\", \"37\", \"38\"], \"mode\": \"markers\", \"name\": \"balanced_accuracy\", \"stepped\": false, \"type\": \"scatter\", \"data\": [0.7113838058691895, 0.7153566798884052, 0.6041380765360188, 0.6227359824179557, 0.5, 0.5805020137178312, 0.6670764653799282, 0.6768381384072659, 0.7298548001175094, 0.720565625678122, 0.7136135505325766, 0.5969009106574259, 0.6360726772018331, 0.7162078156314986, 0.5, 0.721811879690241, 0.6402842099051422, 0.682787446830982, 0.724898315090393, 0.5, 0.67471280729631, 0.6806343424234468, 0.70445174186469, 0.7216525874483338, 0.721305639058395, 0.7084095847984816, 0.7315825338891659, 0.7097570637367875]}, {\"categories\": [\"0\", \"1\", \"3\", \"5\", \"8\", \"10\", \"13\", \"15\", \"18\", \"20\", \"21\", \"22\", \"23\", \"24\", \"25\", \"26\", \"27\", \"28\", \"29\", \"30\", \"31\", \"32\", \"33\", \"34\", \"35\", \"36\", \"37\", \"38\"], \"mode\": \"lines\", \"name\": \"balanced_accuracy_max\", \"stepped\": true, \"type\": \"scatter\", \"data\": [0.7113838058691895, 0.7153566798884052, 0.7153566798884052, 0.7153566798884052, 0.7153566798884052, 0.7153566798884052, 0.7153566798884052, 0.7153566798884052, 0.7298548001175094, 0.7298548001175094, 0.7298548001175094, 0.7298548001175094, 0.7298548001175094, 0.7298548001175094, 0.7298548001175094, 0.7298548001175094, 0.7298548001175094, 0.7298548001175094, 0.7298548001175094, 0.7298548001175094, 0.7298548001175094, 0.7298548001175094, 0.7298548001175094, 0.7298548001175094, 0.7298548001175094, 0.7298548001175094, 0.7315825338891659, 0.7315825338891659]}], \"f1_score_micro\": [{\"categories\": [\"0\", \"1\", \"3\", \"5\", \"8\", \"10\", \"13\", \"15\", \"18\", \"20\", \"21\", \"22\", \"23\", \"24\", \"25\", \"26\", \"27\", \"28\", \"29\", \"30\", \"31\", \"32\", \"33\", \"34\", \"35\", \"36\", \"37\", \"38\"], \"mode\": \"markers\", \"name\": \"f1_score_micro\", \"stepped\": false, \"type\": \"scatter\", \"data\": [0.7461420932009167, 0.7500381970970207, 0.6784568372803668, 0.7227739580680757, 0.6511416687887276, 0.6784568372803667, 0.6692980222391988, 0.6849503437738733, 0.7656820303879127, 0.7409727527374586, 0.7500127323656736, 0.7084712672947967, 0.7019438078261608, 0.7656905186316951, 0.5004923181393769, 0.7747644512350395, 0.7331720567014685, 0.7578558696205755, 0.7669552669552668, 0.6511416687887276, 0.750097614803497, 0.7526780409133351, 0.7644087938205585, 0.7578728461081401, 0.7708938120702825, 0.7643833290892115, 0.7812919107036753, 0.7682624564977505]}, {\"categories\": [\"0\", \"1\", \"3\", \"5\", \"8\", \"10\", \"13\", \"15\", \"18\", \"20\", \"21\", \"22\", \"23\", \"24\", \"25\", \"26\", \"27\", \"28\", \"29\", \"30\", \"31\", \"32\", \"33\", \"34\", \"35\", \"36\", \"37\", \"38\"], \"mode\": \"lines\", \"name\": \"f1_score_micro_max\", \"stepped\": true, \"type\": \"scatter\", \"data\": [0.7461420932009167, 0.7500381970970207, 0.7500381970970207, 0.7500381970970207, 0.7500381970970207, 0.7500381970970207, 0.7500381970970207, 0.7500381970970207, 0.7656820303879127, 0.7656820303879127, 0.7656820303879127, 0.7656820303879127, 0.7656820303879127, 0.7656905186316951, 0.7656905186316951, 0.7747644512350395, 0.7747644512350395, 0.7747644512350395, 0.7747644512350395, 0.7747644512350395, 0.7747644512350395, 0.7747644512350395, 0.7747644512350395, 0.7747644512350395, 0.7747644512350395, 0.7747644512350395, 0.7812919107036753, 0.7812919107036753]}], \"precision_score_micro\": [{\"categories\": [\"0\", \"1\", \"3\", \"5\", \"8\", \"10\", \"13\", \"15\", \"18\", \"20\", \"21\", \"22\", \"23\", \"24\", \"25\", \"26\", \"27\", \"28\", \"29\", \"30\", \"31\", \"32\", \"33\", \"34\", \"35\", \"36\", \"37\", \"38\"], \"mode\": \"markers\", \"name\": \"precision_score_micro\", \"stepped\": false, \"type\": \"scatter\", \"data\": [0.7461420932009167, 0.7500381970970207, 0.6784568372803668, 0.7227739580680757, 0.6511416687887276, 0.6784568372803667, 0.6692980222391988, 0.6849503437738733, 0.7656820303879128, 0.7409727527374586, 0.7500127323656736, 0.7084712672947967, 0.7019438078261608, 0.7656905186316951, 0.500492318139377, 0.7747644512350395, 0.7331720567014685, 0.7578558696205755, 0.7669552669552668, 0.6511416687887276, 0.750097614803497, 0.752678040913335, 0.7644087938205585, 0.7578728461081401, 0.7708938120702825, 0.7643833290892115, 0.7812919107036753, 0.7682624564977505]}, {\"categories\": [\"0\", \"1\", \"3\", \"5\", \"8\", \"10\", \"13\", \"15\", \"18\", \"20\", \"21\", \"22\", \"23\", \"24\", \"25\", \"26\", \"27\", \"28\", \"29\", \"30\", \"31\", \"32\", \"33\", \"34\", \"35\", \"36\", \"37\", \"38\"], \"mode\": \"lines\", \"name\": \"precision_score_micro_max\", \"stepped\": true, \"type\": \"scatter\", \"data\": [0.7461420932009167, 0.7500381970970207, 0.7500381970970207, 0.7500381970970207, 0.7500381970970207, 0.7500381970970207, 0.7500381970970207, 0.7500381970970207, 0.7656820303879128, 0.7656820303879128, 0.7656820303879128, 0.7656820303879128, 0.7656820303879128, 0.7656905186316951, 0.7656905186316951, 0.7747644512350395, 0.7747644512350395, 0.7747644512350395, 0.7747644512350395, 0.7747644512350395, 0.7747644512350395, 0.7747644512350395, 0.7747644512350395, 0.7747644512350395, 0.7747644512350395, 0.7747644512350395, 0.7812919107036753, 0.7812919107036753]}], \"AUC_micro\": [{\"categories\": [\"0\", \"1\", \"3\", \"5\", \"8\", \"10\", \"13\", \"15\", \"18\", \"20\", \"21\", \"22\", \"23\", \"24\", \"25\", \"26\", \"27\", \"28\", \"29\", \"30\", \"31\", \"32\", \"33\", \"34\", \"35\", \"36\", \"37\", \"38\"], \"mode\": \"markers\", \"name\": \"AUC_micro\", \"stepped\": false, \"type\": \"scatter\", \"data\": [0.8305842991151339, 0.8295805914868513, 0.7428853717975784, 0.8145366704632121, 0.7599190525163053, 0.7584806388750428, 0.7414780500147267, 0.7712225933604324, 0.8442435556480105, 0.8146978959393765, 0.8351319104857954, 0.8132281533942732, 0.7818189938248656, 0.8494573284399376, 0.500492318139377, 0.8403908901467283, 0.8235204922999827, 0.8316086336585444, 0.8598488463607772, 0.7617825253582229, 0.8359873602477595, 0.833353211646026, 0.8392996983449207, 0.8470615466698392, 0.8461012215974094, 0.8486215638959089, 0.8546270277138024, 0.8525772530153961]}, {\"categories\": [\"0\", \"1\", \"3\", \"5\", \"8\", \"10\", \"13\", \"15\", \"18\", \"20\", \"21\", \"22\", \"23\", \"24\", \"25\", \"26\", \"27\", \"28\", \"29\", \"30\", \"31\", \"32\", \"33\", \"34\", \"35\", \"36\", \"37\", \"38\"], \"mode\": \"lines\", \"name\": \"AUC_micro_max\", \"stepped\": true, \"type\": \"scatter\", \"data\": [0.8305842991151339, 0.8305842991151339, 0.8305842991151339, 0.8305842991151339, 0.8305842991151339, 0.8305842991151339, 0.8305842991151339, 0.8305842991151339, 0.8442435556480105, 0.8442435556480105, 0.8442435556480105, 0.8442435556480105, 0.8442435556480105, 0.8494573284399376, 0.8494573284399376, 0.8494573284399376, 0.8494573284399376, 0.8494573284399376, 0.8598488463607772, 0.8598488463607772, 0.8598488463607772, 0.8598488463607772, 0.8598488463607772, 0.8598488463607772, 0.8598488463607772, 0.8598488463607772, 0.8598488463607772, 0.8598488463607772]}], \"f1_score_macro\": [{\"categories\": [\"0\", \"1\", \"3\", \"5\", \"8\", \"10\", \"13\", \"15\", \"18\", \"20\", \"21\", \"22\", \"23\", \"24\", \"25\", \"26\", \"27\", \"28\", \"29\", \"30\", \"31\", \"32\", \"33\", \"34\", \"35\", \"36\", \"37\", \"38\"], \"mode\": \"markers\", \"name\": \"f1_score_macro\", \"stepped\": false, \"type\": \"scatter\", \"data\": [0.7131441235902838, 0.7161763078193065, 0.6044715949252317, 0.6173613576950249, 0.39381232791863974, 0.5590732702538845, 0.6510951824056983, 0.6647399538330602, 0.7332839306720114, 0.7156794700754575, 0.715595685770897, 0.5727536353101594, 0.6408172160805728, 0.724458664945522, 0.3263787047556005, 0.7310540883044452, 0.6380549380980846, 0.6930013325642677, 0.7301254890524282, 0.39381232791863974, 0.6834386973516168, 0.6898136383478105, 0.7158420002425191, 0.7242453338875696, 0.7297768568557624, 0.717734378952305, 0.7409486878493995, 0.7196139296390033]}, {\"categories\": [\"0\", \"1\", \"3\", \"5\", \"8\", \"10\", \"13\", \"15\", \"18\", \"20\", \"21\", \"22\", \"23\", \"24\", \"25\", \"26\", \"27\", \"28\", \"29\", \"30\", \"31\", \"32\", \"33\", \"34\", \"35\", \"36\", \"37\", \"38\"], \"mode\": \"lines\", \"name\": \"f1_score_macro_max\", \"stepped\": true, \"type\": \"scatter\", \"data\": [0.7131441235902838, 0.7161763078193065, 0.7161763078193065, 0.7161763078193065, 0.7161763078193065, 0.7161763078193065, 0.7161763078193065, 0.7161763078193065, 0.7332839306720114, 0.7332839306720114, 0.7332839306720114, 0.7332839306720114, 0.7332839306720114, 0.7332839306720114, 0.7332839306720114, 0.7332839306720114, 0.7332839306720114, 0.7332839306720114, 0.7332839306720114, 0.7332839306720114, 0.7332839306720114, 0.7332839306720114, 0.7332839306720114, 0.7332839306720114, 0.7332839306720114, 0.7332839306720114, 0.7409486878493995, 0.7409486878493995]}]}, \"metricName\": null, \"primaryMetricName\": \"accuracy\", \"showLegend\": false}, \"run_metrics\": [{\"name\": \"experiment_status\", \"run_id\": \"AutoML_22ba4461-a212-4663-a021-74ab3d89a921\", \"categories\": [0, 1, 2, 3, 4, 5, 6, 7, 8, 9, 10, 11, 12, 13], \"series\": [{\"data\": [\"DatasetEvaluation\", \"FeaturesGeneration\", \"DatasetFeaturization\", \"DatasetFeaturizationCompleted\", \"DatasetCrossValidationSplit\", \"ModelSelection\", \"BestRunExplainModel\", \"ModelExplanationDataSetSetup\", \"PickSurrogateModel\", \"EngineeredFeatureExplanations\", \"EngineeredFeatureExplanations\", \"RawFeaturesExplanations\", \"RawFeaturesExplanations\", \"BestRunExplainModel\"]}]}, {\"name\": \"experiment_status_description\", \"run_id\": \"AutoML_22ba4461-a212-4663-a021-74ab3d89a921\", \"categories\": [0, 1, 2, 3, 4, 5, 6, 7, 8, 9, 10, 11, 12, 13], \"series\": [{\"data\": [\"Gathering dataset statistics.\", \"Generating features for the dataset.\", \"Beginning to fit featurizers and featurize the dataset.\", \"Completed fit featurizers and featurizing the dataset.\", \"Generating individually featurized CV splits.\", \"Beginning model selection.\", \"Best run model explanations started\", \"Model explanations data setup completed\", \"Choosing LightGBM as the surrogate model for explanations\", \"Computation of engineered features started\", \"Computation of engineered features completed\", \"Computation of raw features started\", \"Computation of raw features completed\", \"Best run model explanations completed\"]}]}, {\"name\": \"average_precision_score_weighted\", \"run_id\": \"AutoML_22ba4461-a212-4663-a021-74ab3d89a921\", \"categories\": [0], \"series\": [{\"data\": [0.8462003107220397]}]}, {\"name\": \"average_precision_score_macro\", \"run_id\": \"AutoML_22ba4461-a212-4663-a021-74ab3d89a921\", \"categories\": [0], \"series\": [{\"data\": [0.8175261310520447]}]}, {\"name\": \"average_precision_score_micro\", \"run_id\": \"AutoML_22ba4461-a212-4663-a021-74ab3d89a921\", \"categories\": [0], \"series\": [{\"data\": [0.8556576932132878]}]}, {\"name\": \"f1_score_micro\", \"run_id\": \"AutoML_22ba4461-a212-4663-a021-74ab3d89a921\", \"categories\": [0], \"series\": [{\"data\": [0.7812919107036753]}]}, {\"name\": \"weighted_accuracy\", \"run_id\": \"AutoML_22ba4461-a212-4663-a021-74ab3d89a921\", \"categories\": [0], \"series\": [{\"data\": [0.8199282958934356]}]}, {\"name\": \"recall_score_weighted\", \"run_id\": \"AutoML_22ba4461-a212-4663-a021-74ab3d89a921\", \"categories\": [0], \"series\": [{\"data\": [0.7812919107036753]}]}, {\"name\": \"log_loss\", \"run_id\": \"AutoML_22ba4461-a212-4663-a021-74ab3d89a921\", \"categories\": [0], \"series\": [{\"data\": [0.48131304835625566]}]}, {\"name\": \"precision_score_macro\", \"run_id\": \"AutoML_22ba4461-a212-4663-a021-74ab3d89a921\", \"categories\": [0], \"series\": [{\"data\": [0.7676594149997197]}]}, {\"name\": \"precision_score_micro\", \"run_id\": \"AutoML_22ba4461-a212-4663-a021-74ab3d89a921\", \"categories\": [0], \"series\": [{\"data\": [0.7812919107036753]}]}, {\"name\": \"recall_score_micro\", \"run_id\": \"AutoML_22ba4461-a212-4663-a021-74ab3d89a921\", \"categories\": [0], \"series\": [{\"data\": [0.7812919107036753]}]}, {\"name\": \"norm_macro_recall\", \"run_id\": \"AutoML_22ba4461-a212-4663-a021-74ab3d89a921\", \"categories\": [0], \"series\": [{\"data\": [0.46316506777833216]}]}, {\"name\": \"balanced_accuracy\", \"run_id\": \"AutoML_22ba4461-a212-4663-a021-74ab3d89a921\", \"categories\": [0], \"series\": [{\"data\": [0.7315825338891659]}]}, {\"name\": \"AUC_macro\", \"run_id\": \"AutoML_22ba4461-a212-4663-a021-74ab3d89a921\", \"categories\": [0], \"series\": [{\"data\": [0.8324988470332514]}]}, {\"name\": \"AUC_micro\", \"run_id\": \"AutoML_22ba4461-a212-4663-a021-74ab3d89a921\", \"categories\": [0], \"series\": [{\"data\": [0.8546270277138024]}]}, {\"name\": \"accuracy\", \"run_id\": \"AutoML_22ba4461-a212-4663-a021-74ab3d89a921\", \"categories\": [0], \"series\": [{\"data\": [0.7812919107036753]}]}, {\"name\": \"f1_score_weighted\", \"run_id\": \"AutoML_22ba4461-a212-4663-a021-74ab3d89a921\", \"categories\": [0], \"series\": [{\"data\": [0.7739988530838844]}]}, {\"name\": \"matthews_correlation\", \"run_id\": \"AutoML_22ba4461-a212-4663-a021-74ab3d89a921\", \"categories\": [0], \"series\": [{\"data\": [0.49751572986425]}]}, {\"name\": \"AUC_weighted\", \"run_id\": \"AutoML_22ba4461-a212-4663-a021-74ab3d89a921\", \"categories\": [0], \"series\": [{\"data\": [0.8324988470332514]}]}, {\"name\": \"f1_score_macro\", \"run_id\": \"AutoML_22ba4461-a212-4663-a021-74ab3d89a921\", \"categories\": [0], \"series\": [{\"data\": [0.7409486878493995]}]}, {\"name\": \"precision_score_weighted\", \"run_id\": \"AutoML_22ba4461-a212-4663-a021-74ab3d89a921\", \"categories\": [0], \"series\": [{\"data\": [0.7813442543290235]}]}, {\"name\": \"recall_score_macro\", \"run_id\": \"AutoML_22ba4461-a212-4663-a021-74ab3d89a921\", \"categories\": [0], \"series\": [{\"data\": [0.7315825338891659]}]}], \"run_logs\": \"\\nRun is completed.\", \"graph\": {}, \"widget_settings\": {\"childWidgetDisplay\": \"popup\", \"send_telemetry\": false, \"log_level\": \"INFO\", \"sdk_version\": \"1.49.0\"}, \"loading\": false}"
          },
          "metadata": {}
        }
      ],
      "execution_count": 7,
      "metadata": {
        "gather": {
          "logged": 1684557808328
        },
        "jupyter": {
          "outputs_hidden": false,
          "source_hidden": false
        },
        "nteract": {
          "transient": {
            "deleting": false
          }
        }
      }
    },
    {
      "cell_type": "markdown",
      "source": [
        "## Best Model\n",
        "\n",
        "TODO: In the cell below, get the best model from the automl experiments and display all the properties of the model.\n",
        "\n"
      ],
      "metadata": {}
    },
    {
      "cell_type": "code",
      "source": [
        "best_run, fitted_model = remote_run.get_output()\n",
        "print(best_run)\n",
        "print(fitted_model)\n",
        "print(best_run.get_metrics())\n"
      ],
      "outputs": [
        {
          "output_type": "stream",
          "name": "stderr",
          "text": "WARNING:root:The version of the SDK does not match the version the model was trained on.\nWARNING:root:The consistency in the result may not be guaranteed.\nWARNING:root:Package:azureml-automl-core, training version:1.50.0, current version:1.49.0\nPackage:azureml-automl-runtime, training version:1.50.0, current version:1.49.0\nPackage:azureml-core, training version:1.50.0, current version:1.49.0\nPackage:azureml-dataprep, training version:4.10.6, current version:4.9.1\nPackage:azureml-dataprep-rslex, training version:2.17.5, current version:2.16.1\nPackage:azureml-dataset-runtime, training version:1.50.0, current version:1.49.0\nPackage:azureml-defaults, training version:1.50.0, current version:1.49.0\nPackage:azureml-interpret, training version:1.50.0, current version:1.49.0\nPackage:azureml-mlflow, training version:1.50.0, current version:1.49.0\nPackage:azureml-pipeline-core, training version:1.50.0.post1, current version:1.49.0\nPackage:azureml-responsibleai, training version:1.50.0, current version:1.49.0\nPackage:azureml-telemetry, training version:1.50.0, current version:1.49.0\nPackage:azureml-train-automl-client, training version:1.50.0, current version:1.49.0\nPackage:azureml-train-automl-runtime, training version:1.50.0, current version:1.49.0\nPackage:azureml-train-core, training version:1.50.0, current version:1.49.0\nPackage:azureml-train-restclients-hyperdrive, training version:1.50.0, current version:1.49.0\nPackage:azureml-training-tabular, training version:1.50.0, current version:1.49.0\nWARNING:root:Please ensure the version of your local conda dependencies match the version on which your model was trained in order to properly retrieve your model.\n"
        },
        {
          "output_type": "stream",
          "name": "stdout",
          "text": "Run(Experiment: Capstone-AutoML,\nId: AutoML_22ba4461-a212-4663-a021-74ab3d89a921_37,\nType: azureml.scriptrun,\nStatus: Completed)\nPipeline(memory=None,\n         steps=[('datatransformer',\n                 DataTransformer(enable_dnn=False, enable_feature_sweeping=True, feature_sweeping_config={}, feature_sweeping_timeout=86400, featurization_config=None, force_text_dnn=False, is_cross_validation=True, is_onnx_compatible=False, observer=None, task='classification', working_dir='/mnt/batch/tasks/shared/LS_root/mount...\n                 PreFittedSoftVotingClassifier(classification_labels=array([0, 1]), estimators=[('26', Pipeline(memory=None, steps=[('standardscalerwrapper', StandardScalerWrapper(copy=True, with_mean=False, with_std=True)), ('logisticregression', LogisticRegression(C=1.7575106248547894, class_weight=None, dual=False, fit_intercept=True, intercept_scaling=1, l1_ratio=None, max_iter=100, multi_class='multinomial', n_jobs=1, penalty='l1', random_state=None, solver='saga', tol=0.0001, verbose=0, warm_start=False))], verbose=False)), ('35', Pipeline(memory=None, steps=[('maxabsscaler', MaxAbsScaler(copy=True)), ('logisticregression', LogisticRegression(C=109.85411419875572, class_weight=None, dual=False, fit_intercept=True, intercept_scaling=1, l1_ratio=None, max_iter=100, multi_class='ovr', n_jobs=1, penalty='l1', random_state=None, solver='saga', tol=0.0001, verbose=0, warm_start=False))], verbose=False)), ('7', Pipeline(memory=None, steps=[('maxabsscaler', MaxAbsScaler(copy=True)), ('logisticregression', LogisticRegression(C=1.7575106248547894, class_weight=None, dual=False, fit_intercept=True, intercept_scaling=1, l1_ratio=None, max_iter=100, multi_class='multinomial', n_jobs=1, penalty='l2', random_state=None, solver='lbfgs', tol=0.0001, verbose=0, warm_start=False))], verbose=False)), ('12', Pipeline(memory=None, steps=[('maxabsscaler', MaxAbsScaler(copy=True)), ('logisticregression', LogisticRegression(C=719.6856730011514, class_weight=None, dual=False, fit_intercept=True, intercept_scaling=1, l1_ratio=None, max_iter=100, multi_class='multinomial', n_jobs=1, penalty='l2', random_state=None, solver='lbfgs', tol=0.0001, verbose=0, warm_start=False))], verbose=False)), ('14', Pipeline(memory=None, steps=[('standardscalerwrapper', StandardScalerWrapper(copy=True, with_mean=False, with_std=False)), ('xgboostclassifier', XGBoostClassifier(booster='gbtree', colsample_bytree=1, eta=0.3, gamma=0, max_depth=10, max_leaves=511, n_estimators=10, n_jobs=1, objective='reg:logistic', problem_info=ProblemInfo(gpu_training_param_dict={'processing_unit_type': 'cpu'}), random_state=0, reg_alpha=2.1875, reg_lambda=0.4166666666666667, subsample=0.5, tree_method='auto'))], verbose=False)), ('13', Pipeline(memory=None, steps=[('maxabsscaler', MaxAbsScaler(copy=True)), ('sgdclassifierwrapper', SGDClassifierWrapper(alpha=7.5510448979591835, class_weight='balanced', eta0=0.001, fit_intercept=True, l1_ratio=0.42857142857142855, learning_rate='constant', loss='modified_huber', max_iter=1000, n_jobs=1, penalty='none', power_t=0.7777777777777777, random_state=None, tol=0.0001))], verbose=False)), ('33', Pipeline(memory=None, steps=[('maxabsscaler', MaxAbsScaler(copy=True)), ('lightgbmclassifier', LightGBMClassifier(boosting_type='gbdt', colsample_bytree=0.99, learning_rate=0.03158578947368421, max_bin=330, max_depth=2, min_child_weight=3, min_data_in_leaf=0.04828103448275863, min_split_gain=0.42105263157894735, n_estimators=50, n_jobs=1, num_leaves=182, problem_info=ProblemInfo(gpu_training_param_dict={'processing_unit_type': 'cpu'}), random_state=None, reg_alpha=0.7368421052631579, reg_lambda=0, subsample=0.3963157894736842))], verbose=False))], flatten_transform=None, weights=[0.16666666666666666, 0.25, 0.08333333333333333, 0.08333333333333333, 0.16666666666666666, 0.08333333333333333, 0.16666666666666666]))],\n         verbose=False)\n{'precision_score_weighted': 0.7813442543290235, 'AUC_weighted': 0.8324988470332514, 'AUC_micro': 0.8546270277138024, 'f1_score_macro': 0.7409486878493995, 'f1_score_weighted': 0.7739988530838844, 'matthews_correlation': 0.49751572986425, 'accuracy': 0.7812919107036753, 'average_precision_score_micro': 0.8556576932132878, 'precision_score_micro': 0.7812919107036753, 'weighted_accuracy': 0.8199282958934356, 'average_precision_score_macro': 0.8175261310520447, 'recall_score_micro': 0.7812919107036753, 'precision_score_macro': 0.7676594149997197, 'AUC_macro': 0.8324988470332514, 'recall_score_macro': 0.7315825338891659, 'norm_macro_recall': 0.46316506777833216, 'log_loss': 0.48131304835625566, 'balanced_accuracy': 0.7315825338891659, 'f1_score_micro': 0.7812919107036753, 'average_precision_score_weighted': 0.8462003107220397, 'recall_score_weighted': 0.7812919107036753, 'accuracy_table': 'aml://artifactId/ExperimentRun/dcid.AutoML_22ba4461-a212-4663-a021-74ab3d89a921_37/accuracy_table', 'confusion_matrix': 'aml://artifactId/ExperimentRun/dcid.AutoML_22ba4461-a212-4663-a021-74ab3d89a921_37/confusion_matrix'}\n"
        }
      ],
      "execution_count": 11,
      "metadata": {
        "gather": {
          "logged": 1684559771221
        },
        "jupyter": {
          "outputs_hidden": false,
          "source_hidden": false
        },
        "nteract": {
          "transient": {
            "deleting": false
          }
        }
      }
    },
    {
      "cell_type": "code",
      "source": [
        "#TODO: Save the best model\n",
        "import joblib\n",
        "joblib.dump(fitted_model,'automl_best_model.pkl')\n",
        "\n"
      ],
      "outputs": [
        {
          "output_type": "execute_result",
          "execution_count": 12,
          "data": {
            "text/plain": "['automl_best_model.pkl']"
          },
          "metadata": {}
        }
      ],
      "execution_count": 12,
      "metadata": {
        "gather": {
          "logged": 1684559799312
        },
        "jupyter": {
          "outputs_hidden": false,
          "source_hidden": false
        },
        "nteract": {
          "transient": {
            "deleting": false
          }
        }
      }
    },
    {
      "cell_type": "code",
      "source": [
        "\n",
        "best_run.register_model(model_name='best_run_capstone_automl', model_path='./outputs/')"
      ],
      "outputs": [
        {
          "output_type": "execute_result",
          "execution_count": 13,
          "data": {
            "text/plain": "Model(workspace=Workspace.create(name='quick-starts-ws-234039', subscription_id='d4ad7261-832d-46b2-b093-22156001df5b', resource_group='aml-quickstarts-234039'), name=best_run_capstone_automl, id=best_run_capstone_automl:1, version=1, tags={}, properties={})"
          },
          "metadata": {}
        }
      ],
      "execution_count": 13,
      "metadata": {
        "gather": {
          "logged": 1684559806890
        },
        "jupyter": {
          "outputs_hidden": false,
          "source_hidden": false
        },
        "nteract": {
          "transient": {
            "deleting": false
          }
        }
      }
    },
    {
      "cell_type": "code",
      "source": [
        "#download environment file\n",
        "best_run.download_file('outputs/conda_env_v_1_0_0.yml')"
      ],
      "outputs": [],
      "execution_count": 14,
      "metadata": {
        "gather": {
          "logged": 1684559811375
        },
        "jupyter": {
          "outputs_hidden": false,
          "source_hidden": false
        },
        "nteract": {
          "transient": {
            "deleting": false
          }
        }
      }
    },
    {
      "cell_type": "markdown",
      "source": [
        "## Model Deployment\n",
        "\n",
        "Remember you have to deploy only one of the two models you trained but you still need to register both the models. Perform the steps in the rest of this notebook only if you wish to deploy this model.\n",
        "\n",
        "TODO: In the cell below, register the model, create an inference config and deploy the model as a web service."
      ],
      "metadata": {}
    },
    {
      "cell_type": "code",
      "source": [
        "from azureml.core.model import Model\n",
        "from azureml.core.webservice import AciWebservice\n",
        "from azureml.core.model import InferenceConfig\n",
        "model = remote_run.register_model(model_name = 'best_model_automl')\n",
        "\n",
        "environment = best_run.get_environment()\n",
        "entry_script='testing/scoring.py'\n",
        "best_run.download_file('outputs/scoring_file_v_1_0_0.py', entry_script)\n",
        "\n",
        "\n",
        "inference_config = InferenceConfig(entry_script = entry_script, environment = environment)\n",
        "\n",
        "deployment_config = AciWebservice.deploy_configuration( auth_enabled= True, \n",
        "                                                    enable_app_insights= True)\n",
        "\n",
        "service = Model.deploy(ws, \"automl-best-model1\", [model], inference_config, deployment_config)\n",
        "service.wait_for_deployment(show_output = True)"
      ],
      "outputs": [
        {
          "output_type": "stream",
          "name": "stderr",
          "text": "WARNING:azureml.core.model:Warning, custom base image or base dockerfile detected without a specified `inferencing_stack_version`. Please set environment.inferencing_stack_version='latest'\n"
        },
        {
          "output_type": "stream",
          "name": "stdout",
          "text": "Tips: You can try get_logs(): https://aka.ms/debugimage#dockerlog or local deployment: https://aka.ms/debugimage#debug-locally to debug if deployment takes longer than 10 minutes.\nRunning\n2023-05-20 05:17:16+00:00 Creating Container Registry if not exists..\n2023-05-20 05:27:17+00:00 Registering the environment.\n2023-05-20 05:27:18+00:00 Use the existing image.\n2023-05-20 05:27:19+00:00 Submitting deployment to compute..\n2023-05-20 05:27:22+00:00 Checking the status of deployment automl-best-model1..\n2023-05-20 05:29:36+00:00 Checking the status of inference endpoint automl-best-model1.\nSucceeded\nACI service creation operation finished, operation \"Succeeded\"\n"
        }
      ],
      "execution_count": 15,
      "metadata": {
        "gather": {
          "logged": 1684560651007
        },
        "jupyter": {
          "outputs_hidden": false,
          "source_hidden": false
        },
        "nteract": {
          "transient": {
            "deleting": false
          }
        }
      }
    },
    {
      "cell_type": "markdown",
      "source": [
        "TODO: In the cell below, send a request to the web service you deployed to test it."
      ],
      "metadata": {
        "collapsed": true,
        "gather": {
          "logged": 1598431657736
        },
        "jupyter": {
          "outputs_hidden": false,
          "source_hidden": false
        },
        "nteract": {
          "transient": {
            "deleting": false
          }
        }
      }
    },
    {
      "cell_type": "code",
      "source": [
        "from azureml.core import Webservice\n",
        "import json\n",
        "\n",
        "\n",
        "# Specify the deployed service name\n",
        "service_name = 'automl-best-model1'\n",
        "\n",
        "# Get the deployed web service\n",
        "service = Webservice(ws, name=service_name)\n",
        "\n",
        "\n",
        "input_data = {\n",
        "    'data': [\n",
        "        {'Pregnancies': 6, 'Glucose': 8, 'BloodPressure':72, 'SkinThickness':35, 'Insulin':0,\n",
        "    'BMI':33.6,'DiabetesPedigreeFunction':0.627,'Age':50}  \n",
        "    ]\n",
        "}\n",
        "# Convert input data to JSON format\n",
        "input_data_json = json.dumps(input_data)\n",
        "\n",
        "# Send a request to the web service\n",
        "output = service.run(input_data_json)\n",
        "\n",
        "# Print the predicted output\n",
        "print(output)\n"
      ],
      "outputs": [
        {
          "output_type": "stream",
          "name": "stdout",
          "text": "{\"result\": [0]}\n"
        }
      ],
      "execution_count": 50,
      "metadata": {
        "gather": {
          "logged": 1684490807939
        },
        "jupyter": {
          "outputs_hidden": false,
          "source_hidden": false
        },
        "nteract": {
          "transient": {
            "deleting": false
          }
        }
      }
    },
    {
      "cell_type": "markdown",
      "source": [
        "TODO: In the cell below, print the logs of the web service and delete the service"
      ],
      "metadata": {
        "collapsed": true,
        "gather": {
          "logged": 1598432765711
        },
        "jupyter": {
          "outputs_hidden": false,
          "source_hidden": false
        },
        "nteract": {
          "transient": {
            "deleting": false
          }
        }
      }
    },
    {
      "cell_type": "code",
      "source": [
        "from azureml.core import Webservice\n",
        "# Specify the deployed service name\n",
        "service_name = 'automl-best-model1'\n",
        "\n",
        "# Get the deployed web service\n",
        "service = Webservice(ws, name=service_name)\n",
        "\n",
        "# Get the deployment logs\n",
        "logs = service.get_logs()\n",
        "\n",
        "# Print the deployment logs\n",
        "print(logs)\n"
      ],
      "outputs": [
        {
          "output_type": "stream",
          "name": "stdout",
          "text": "2023-05-19T09:57:58,044920200+00:00 - rsyslog/run \n2023-05-19T09:57:58,061765900+00:00 - gunicorn/run \n2023-05-19T09:57:58,070843600+00:00 | gunicorn/run | \n2023-05-19T09:57:58,105668600+00:00 - nginx/run \n2023-05-19T09:57:58,110110400+00:00 | gunicorn/run | ###############################################\n2023-05-19T09:57:58,125072500+00:00 | gunicorn/run | AzureML Container Runtime Information\n2023-05-19T09:57:58,126561100+00:00 | gunicorn/run | ###############################################\n2023-05-19T09:57:58,132219100+00:00 | gunicorn/run | \n2023-05-19T09:57:58,202883300+00:00 | gunicorn/run | \n2023-05-19T09:57:58,214434800+00:00 | gunicorn/run | AzureML image information: openmpi4.1.0-ubuntu20.04, Materializaton Build:20230412.v4\n2023-05-19T09:57:58,215901400+00:00 | gunicorn/run | \n2023-05-19T09:57:58,217266300+00:00 | gunicorn/run | \n2023-05-19T09:57:58,222546900+00:00 | gunicorn/run | PATH environment variable: /azureml-envs/azureml-automl/bin:/opt/miniconda/bin:/usr/local/sbin:/usr/local/bin:/usr/sbin:/usr/bin:/sbin:/bin\n2023-05-19T09:57:58,235672200+00:00 | gunicorn/run | PYTHONPATH environment variable: \n2023-05-19T09:57:58,238565700+00:00 | gunicorn/run | \n2023-05-19T09:58:00,325613400+00:00 | gunicorn/run | CONDAPATH environment variable: /opt/miniconda\n\n# conda environments:\n#\n                         /azureml-envs/azureml-automl\nbase                     /opt/miniconda\n\n2023-05-19T09:58:04,027585650+00:00 | gunicorn/run | \n2023-05-19T09:58:04,029609267+00:00 | gunicorn/run | Pip Dependencies (before dynamic installation)\n\nadal==1.2.7\napplicationinsights==0.11.10\narch==5.3.1\nargcomplete==2.1.2\nasttokens==2.2.1\nattrs==22.2.0\nazure-common==1.1.28\nazure-core==1.26.4\nazure-graphrbac==0.61.1\nazure-identity==1.12.0\nazure-mgmt-authorization==3.0.0\nazure-mgmt-containerregistry==10.1.0\nazure-mgmt-core==1.4.0\nazure-mgmt-keyvault==10.2.1\nazure-mgmt-resource==22.0.0\nazure-mgmt-storage==21.0.0\nazure-storage-blob==12.13.0\nazure-storage-queue==12.6.0\nazureml-automl-core==1.50.0\nazureml-automl-runtime==1.50.0\nazureml-core==1.50.0\nazureml-dataprep==4.10.6\nazureml-dataprep-native==38.0.0\nazureml-dataprep-rslex==2.17.5\nazureml-dataset-runtime==1.50.0\nazureml-defaults==1.50.0\nazureml-inference-server-http==0.8.3\nazureml-interpret==1.50.0\nazureml-mlflow==1.50.0\nazureml-pipeline-core==1.50.0.post1\nazureml-responsibleai==1.50.0\nazureml-telemetry==1.50.0\nazureml-train-automl-client==1.50.0\nazureml-train-automl-runtime==1.50.0\nazureml-train-core==1.50.0\nazureml-train-restclients-hyperdrive==1.50.0\nazureml-training-tabular==1.50.0\nbackcall==0.2.0\nbackports.tempfile==1.0\nbackports.weakref==1.0.post1\nbcrypt==4.0.1\nbokeh==2.4.3\nboto==2.49.0\nboto3==1.15.18\nbotocore==1.18.18\nbrotlipy @ file:///home/conda/feedstock_root/build_artifacts/brotlipy_1666764652625/work\ncachetools==5.3.0\ncertifi==2022.12.7\ncffi @ file:///home/conda/feedstock_root/build_artifacts/cffi_1671179356964/work\ncharset-normalizer @ file:///home/conda/feedstock_root/build_artifacts/charset-normalizer_1678108872112/work\nclick==8.1.3\ncloudpickle @ file:///home/conda/feedstock_root/build_artifacts/cloudpickle_1598400192773/work\ncmdstanpy==0.9.5\ncontextlib2==21.6.0\ncontourpy==1.0.7\nconvertdate @ file:///home/conda/feedstock_root/build_artifacts/convertdate_1642883757836/work\ncryptography @ file:///home/conda/feedstock_root/build_artifacts/cryptography-split_1675828607636/work\ncycler==0.11.0\nCython==0.29.17\ndask==2023.2.0\ndatabricks-cli==0.17.6\ndataclasses==0.6\ndebugpy==1.6.7\ndecorator==5.1.1\ndice-ml==0.9\ndill==0.3.6\ndistributed==2023.2.0\ndistro==1.8.0\ndocker==5.0.3\ndotnetcore2==3.1.23\neconml==0.14.0\nentrypoints==0.4\nephem==4.1.4\nerroranalysis==0.4.2\nexecuting==1.2.0\nfairlearn==0.8.0\nfbprophet==0.7.1\nfire==0.5.0\nFlask==2.2.3\nFlask-Cors==3.0.10\nflatbuffers==23.3.3\nfonttools==4.39.3\nfsspec==2023.4.0\nfusepy==3.0.1\ngensim==3.8.3\ngitdb==4.0.10\nGitPython==3.1.31\ngoogle-api-core==2.11.0\ngoogle-auth==2.17.3\ngoogleapis-common-protos==1.59.0\ngunicorn==20.1.0\nh5py==3.8.0\nHeapDict==1.0.1\nholidays @ file:///home/conda/feedstock_root/build_artifacts/holidays_1595448845196/work\nhumanfriendly==10.0\nidna @ file:///home/conda/feedstock_root/build_artifacts/idna_1663625384323/work\nimportlib-metadata==6.3.0\nimportlib-resources==5.12.0\ninference-schema==1.5.1\ninterpret-community==0.28.0\ninterpret-core==0.2.7\nipykernel==6.8.0\nipython==8.12.0\nisodate==0.6.1\nitsdangerous==2.1.2\njedi==0.18.2\njeepney==0.8.0\nJinja2==3.1.2\njmespath==0.10.0\njoblib @ file:///home/conda/feedstock_root/build_artifacts/joblib_1663332044897/work\njsonpickle==3.0.1\njsonschema==4.17.3\njupyter_client==7.4.9\njupyter_core==5.3.0\nkeras2onnx==1.6.0\nkiwisolver==1.4.4\nknack==0.10.1\nkorean-lunar-calendar @ file:///home/conda/feedstock_root/build_artifacts/korean_lunar_calendar_1663341251025/work\nlightgbm==3.2.1\nllvmlite==0.38.1\nlocket==1.0.0\nLunarCalendar==0.0.9\nMarkupSafe==2.1.2\nmatplotlib==3.7.1\nmatplotlib-inline==0.1.6\nml-wrappers==0.4.7\nmlflow-skinny==2.2.2\nmltable==1.3.0\nmsal==1.21.0\nmsal-extensions==1.0.0\nmsgpack==1.0.5\nmsrest==0.7.1\nmsrestazure==0.6.4\nndg-httpsclient==0.5.1\nnest-asyncio==1.5.6\nnetworkx==2.5\nnumba==0.55.2\nnumpy==1.22.3\noauthlib==3.2.2\nonnx==1.13.0\nonnxconverter-common==1.6.0\nonnxmltools==1.4.1\nonnxruntime==1.11.1\nopencensus==0.11.2\nopencensus-context==0.1.3\nopencensus-ext-azure==1.1.9\npackaging==23.0\npandas==1.1.5\nparamiko==3.1.0\nparso==0.8.3\npartd==1.4.0\npathspec==0.11.1\npatsy==0.5.3\npexpect==4.8.0\npickleshare==0.7.5\nPillow==9.5.0\npkginfo==1.9.6\npkgutil_resolve_name==1.3.10\nplatformdirs @ file:///home/conda/feedstock_root/build_artifacts/platformdirs_1679871349196/work\npmdarima==1.7.1\npooch @ file:///home/conda/feedstock_root/build_artifacts/pooch_1679580333621/work\nportalocker==2.7.0\nprompt-toolkit==3.0.38\nproperty-cached==1.6.4\nprotobuf==3.20.3\npsutil @ file:///home/conda/feedstock_root/build_artifacts/psutil_1667885878918/work\nptyprocess==0.7.0\npure-eval==0.2.2\npy-cpuinfo==5.0.0\npyarrow==9.0.0\npyasn1==0.4.8\npyasn1-modules==0.2.8\npycparser @ file:///home/conda/feedstock_root/build_artifacts/pycparser_1636257122734/work\npydantic==1.10.7\nPygments==2.15.0\nPyJWT==2.6.0\nPyMeeus @ file:///home/conda/feedstock_root/build_artifacts/pymeeus_1670868433998/work\nPyNaCl==1.5.0\npyOpenSSL @ file:///home/conda/feedstock_root/build_artifacts/pyopenssl_1680037383858/work\npyparsing==3.0.9\npyrsistent==0.19.3\nPySocks @ file:///home/conda/feedstock_root/build_artifacts/pysocks_1661604839144/work\npystan==2.19.1.1\npython-dateutil @ file:///home/conda/feedstock_root/build_artifacts/python-dateutil_1626286286081/work\npytz==2022.7.1\nPyYAML==6.0\npyzmq==25.0.2\nraiutils==0.4.0\nrequests @ file:///home/conda/feedstock_root/build_artifacts/requests_1680286922386/work\nrequests-oauthlib==1.3.1\nresponsibleai==0.26.0\nrsa==4.9\ns3transfer==0.3.7\nscikit-learn==0.22.1\nscipy==1.5.3\nSecretStorage==3.3.3\nsemver==2.13.0\nsetuptools-git==1.2\nshap==0.39.0\nsix @ file:///home/conda/feedstock_root/build_artifacts/six_1620240208055/work\nskl2onnx==1.4.9\nsklearn-pandas==1.7.0\nslicer==0.0.7\nsmart-open==1.9.0\nsmmap==5.0.0\nsortedcontainers==2.4.0\nsparse==0.14.0\nsqlparse==0.4.3\nstack-data==0.6.2\nstatsmodels==0.11.1\ntabulate==0.9.0\ntblib==1.7.0\ntermcolor==2.2.0\ntoolz==0.12.0\ntornado==6.2\ntqdm==4.65.0\ntraitlets==5.9.0\ntyping_extensions @ file:///home/conda/feedstock_root/build_artifacts/typing_extensions_1678559861143/work\nurllib3==1.25.11\nwcwidth==0.2.6\nwebsocket-client==1.5.1\nWerkzeug==2.2.3\nwrapt==1.12.1\nxgboost==1.3.3\nzict==2.2.0\nzipp==3.15.0\n\n2023-05-19T09:58:07,352118990+00:00 | gunicorn/run | \n2023-05-19T09:58:07,356065224+00:00 | gunicorn/run | ###############################################\n2023-05-19T09:58:07,361715473+00:00 | gunicorn/run | Checking if the Python package azureml-inference-server-http is installed\n2023-05-19T09:58:07,405950557+00:00 | gunicorn/run | ###############################################\n2023-05-19T09:58:07,410926100+00:00 | gunicorn/run | \n2023-05-19T09:58:13,021438586+00:00 | gunicorn/run | \n2023-05-19T09:58:13,023404704+00:00 | gunicorn/run | ###############################################\n2023-05-19T09:58:13,026132129+00:00 | gunicorn/run | AzureML Inference Server\n2023-05-19T09:58:13,029573360+00:00 | gunicorn/run | ###############################################\n2023-05-19T09:58:13,031693879+00:00 | gunicorn/run | \n2023-05-19T09:58:19,029219985+00:00 | gunicorn/run | Starting AzureML Inference Server HTTP.\n2023-05-19 09:58:19,714 I [67] azmlinfsrv - Loaded logging config from /azureml-envs/azureml-automl/lib/python3.8/site-packages/azureml_inference_server_http/logging.json\n2023-05-19 09:58:20,219 I [67] gunicorn.error - Starting gunicorn 20.1.0\n2023-05-19 09:58:20,221 I [67] gunicorn.error - Listening at: http://0.0.0.0:31311 (67)\n2023-05-19 09:58:20,221 I [67] gunicorn.error - Using worker: sync\n2023-05-19 09:58:20,225 I [131] gunicorn.error - Booting worker with pid: 131\nValid Application Insights instrumentation key provided.\n\n/azureml-envs/azureml-automl/lib/python3.8/site-packages/azureml_inference_server_http/server/config.py:51: FutureWarning: aliases are no longer used by BaseSettings to define which environment variables to read. Instead use the \"env\" field setting. See https://pydantic-docs.helpmanual.io/usage/settings/#environment-variable-names\n  class AMLInferenceServerConfig(pydantic.BaseSettings):\nAzure ML Inferencing HTTP server v0.8.3\n\n\nServer Settings\n---------------\nEntry Script Name: /var/azureml-app/main.py\nModel Directory: /var/azureml-app/azureml-models/best_model_automl/1\nConfig File: None\nWorker Count: 1\nWorker Timeout (seconds): 300\nServer Port: 31311\nApplication Insights Enabled: true\nApplication Insights Key: AppInsights key provided\nInferencing HTTP server version: azmlinfsrv/0.8.3\nCORS for the specified origins: None\n\n\nServer Routes\n---------------\nLiveness Probe: GET   127.0.0.1:31311/\nScore:          POST  127.0.0.1:31311/score\n\n2023-05-19 09:58:21,325 I [131] azmlinfsrv - AML_FLASK_ONE_COMPATIBILITY is set. Patched Flask to ensure compatibility with Flask 1.\nInitializing logger\n2023-05-19 09:58:21,327 I [131] azmlinfsrv - Starting up app insights client\nWARNING:opencensus.ext.azure.common:DeprecationWarning: Explicitly using instrumentation key isdeprecated. Please use a connection string instead.\nWARNING:opencensus.ext.azure.common:DeprecationWarning: Explicitly using instrumentation key isdeprecated. Please use a connection string instead.\nWARNING:opencensus.ext.azure.common:DeprecationWarning: Explicitly using instrumentation key isdeprecated. Please use a connection string instead.\n2023-05-19 09:58:27,773 I [131] azmlinfsrv.user_script - Found driver script at /var/azureml-app/main.py and the score script at /var/azureml-app/scoring.py\n2023-05-19 09:58:27,774 I [131] azmlinfsrv.user_script - run() is decorated with @input_schema. Server will invoke it with the following arguments: data, method.\n2023-05-19 09:58:27,774 I [131] azmlinfsrv.user_script - Invoking user's init function\nERROR:fbprophet.plot:Importing plotly failed. Interactive plots will not work.\n2023-05-19 09:58:45,904 I [131] azmlinfsrv.user_script - Users's init has completed successfully\n2023-05-19 09:58:46,008 I [131] azmlinfsrv.swagger - Swaggers are prepared for the following versions: [2, 3, 3.1].\n2023-05-19 09:58:46,009 I [131] azmlinfsrv - Scoring timeout is set to 60000\n2023-05-19 09:58:46,026 I [131] gunicorn.access - 127.0.0.1 - - [19/May/2023:09:58:46 +0000] \"GET / HTTP/1.0\" 200 7 \"-\" \"curl/7.58.0\"\n2023-05-19 09:58:56,365 W [131] azmlinfsrv - x-ms-request-id header has been deprecated and will be removed from future versions of the server. Please use x-ms-client-request-id.\n2023-05-19 09:58:56,366 I [131] gunicorn.access - 127.0.0.1 - - [19/May/2023:09:58:56 +0000] \"GET / HTTP/1.0\" 200 7 \"-\" \"Go-http-client/1.1\"\n2023-05-19 09:58:56,371 W [131] azmlinfsrv - x-ms-request-id header has been deprecated and will be removed from future versions of the server. Please use x-ms-client-request-id.\n2023-05-19 09:58:56,372 I [131] azmlinfsrv - GET /swagger.json 200 0.559ms 3178\n2023-05-19 09:58:56,373 I [131] gunicorn.access - 127.0.0.1 - - [19/May/2023:09:58:56 +0000] \"GET /swagger.json HTTP/1.0\" 200 3178 \"-\" \"Go-http-client/1.1\"\n2023-05-19 09:59:00,315 W [131] azmlinfsrv - x-ms-request-id header has been deprecated and will be removed from future versions of the server. Please use x-ms-client-request-id.\n2023-05-19 09:59:00,317 I [131] gunicorn.access - 127.0.0.1 - - [19/May/2023:09:59:00 +0000] \"GET / HTTP/1.0\" 200 7 \"-\" \"Go-http-client/1.1\"\n2023-05-19 09:59:00,324 W [131] azmlinfsrv - x-ms-request-id header has been deprecated and will be removed from future versions of the server. Please use x-ms-client-request-id.\n2023-05-19 09:59:00,326 I [131] azmlinfsrv - GET /swagger.json 200 1.852ms 3178\n2023-05-19 09:59:00,329 I [131] gunicorn.access - 127.0.0.1 - - [19/May/2023:09:59:00 +0000] \"GET /swagger.json HTTP/1.0\" 200 3178 \"-\" \"Go-http-client/1.1\"\n2023-05-19 10:03:31,761 W [131] azmlinfsrv - x-ms-request-id header has been deprecated and will be removed from future versions of the server. Please use x-ms-client-request-id.\n2023-05-19 10:03:31,764 I [131] gunicorn.access - 127.0.0.1 - - [19/May/2023:10:03:31 +0000] \"GET / HTTP/1.0\" 200 7 \"-\" \"Go-http-client/1.1\"\n2023-05-19 10:03:31,772 W [131] azmlinfsrv - x-ms-request-id header has been deprecated and will be removed from future versions of the server. Please use x-ms-client-request-id.\n2023-05-19 10:03:31,773 I [131] azmlinfsrv - GET /swagger.json 200 1.371ms 3178\n2023-05-19 10:03:31,775 I [131] gunicorn.access - 127.0.0.1 - - [19/May/2023:10:03:31 +0000] \"GET /swagger.json HTTP/1.0\" 200 3178 \"-\" \"Go-http-client/1.1\"\n2023-05-19 10:03:47,934 W [131] azmlinfsrv - x-ms-request-id header has been deprecated and will be removed from future versions of the server. Please use x-ms-client-request-id.\n2023-05-19 10:03:47,942 I [131] gunicorn.access - 127.0.0.1 - - [19/May/2023:10:03:47 +0000] \"GET / HTTP/1.0\" 200 7 \"-\" \"Go-http-client/1.1\"\n2023-05-19 10:03:47,947 W [131] azmlinfsrv - x-ms-request-id header has been deprecated and will be removed from future versions of the server. Please use x-ms-client-request-id.\n2023-05-19 10:03:47,950 I [131] azmlinfsrv - GET /swagger.json 200 2.794ms 3178\n2023-05-19 10:03:47,952 I [131] gunicorn.access - 127.0.0.1 - - [19/May/2023:10:03:47 +0000] \"GET /swagger.json HTTP/1.0\" 200 3178 \"-\" \"Go-http-client/1.1\"\n2023-05-19 10:03:48,681 W [131] azmlinfsrv - x-ms-request-id header has been deprecated and will be removed from future versions of the server. Please use x-ms-client-request-id.\n2023-05-19 10:03:48,682 I [131] azmlinfsrv - POST /score 400 1.319ms 64\n2023-05-19 10:03:48,686 I [131] gunicorn.access - 127.0.0.1 - - [19/May/2023:10:03:48 +0000] \"POST /score HTTP/1.0\" 400 64 \"-\" \"python-requests/2.28.2\"\n2023-05-19 10:04:26,226 W [131] azmlinfsrv - x-ms-request-id header has been deprecated and will be removed from future versions of the server. Please use x-ms-client-request-id.\n2023-05-19 10:04:26,229 I [131] gunicorn.access - 127.0.0.1 - - [19/May/2023:10:04:26 +0000] \"GET / HTTP/1.0\" 200 7 \"-\" \"Go-http-client/1.1\"\n2023-05-19 10:04:26,234 W [131] azmlinfsrv - x-ms-request-id header has been deprecated and will be removed from future versions of the server. Please use x-ms-client-request-id.\n2023-05-19 10:04:26,235 I [131] azmlinfsrv - GET /swagger.json 200 0.987ms 3178\n2023-05-19 10:04:26,240 I [131] gunicorn.access - 127.0.0.1 - - [19/May/2023:10:04:26 +0000] \"GET /swagger.json HTTP/1.0\" 200 3178 \"-\" \"Go-http-client/1.1\"\n2023-05-19 10:04:26,722 W [131] azmlinfsrv - x-ms-request-id header has been deprecated and will be removed from future versions of the server. Please use x-ms-client-request-id.\n2023-05-19 10:04:26,723 I [131] azmlinfsrv - POST /score 400 0.632ms 64\n2023-05-19 10:04:26,725 I [131] gunicorn.access - 127.0.0.1 - - [19/May/2023:10:04:26 +0000] \"POST /score HTTP/1.0\" 400 64 \"-\" \"python-requests/2.28.2\"\n2023-05-19 10:05:28,404 W [131] azmlinfsrv - x-ms-request-id header has been deprecated and will be removed from future versions of the server. Please use x-ms-client-request-id.\n2023-05-19 10:05:28,405 I [131] gunicorn.access - 127.0.0.1 - - [19/May/2023:10:05:28 +0000] \"GET / HTTP/1.0\" 200 7 \"-\" \"Go-http-client/1.1\"\n2023-05-19 10:05:28,412 W [131] azmlinfsrv - x-ms-request-id header has been deprecated and will be removed from future versions of the server. Please use x-ms-client-request-id.\n2023-05-19 10:05:28,413 I [131] azmlinfsrv - GET /swagger.json 200 0.555ms 3178\n2023-05-19 10:05:28,415 I [131] gunicorn.access - 127.0.0.1 - - [19/May/2023:10:05:28 +0000] \"GET /swagger.json HTTP/1.0\" 200 3178 \"-\" \"Go-http-client/1.1\"\n2023-05-19 10:05:29,096 W [131] azmlinfsrv - x-ms-request-id header has been deprecated and will be removed from future versions of the server. Please use x-ms-client-request-id.\n2023-05-19 10:05:29,097 I [131] azmlinfsrv - GET /swagger.json 200 0.640ms 3178\n2023-05-19 10:05:29,100 I [131] gunicorn.access - 127.0.0.1 - - [19/May/2023:10:05:29 +0000] \"GET /swagger.json HTTP/1.0\" 200 3178 \"-\" \"Go-http-client/1.1\"\n2023-05-19 10:05:34,014 W [131] azmlinfsrv - x-ms-request-id header has been deprecated and will be removed from future versions of the server. Please use x-ms-client-request-id.\n2023-05-19 10:05:34,016 I [131] azmlinfsrv - GET /swagger.json 200 2.292ms 3178\n2023-05-19 10:05:34,021 I [131] gunicorn.access - 127.0.0.1 - - [19/May/2023:10:05:34 +0000] \"GET /swagger.json HTTP/1.0\" 200 3178 \"-\" \"Go-http-client/1.1\"\n2023-05-19 10:06:46,947 W [131] azmlinfsrv - x-ms-request-id header has been deprecated and will be removed from future versions of the server. Please use x-ms-client-request-id.\n2023-05-19 10:06:46,949 I [131] gunicorn.access - 127.0.0.1 - - [19/May/2023:10:06:46 +0000] \"GET / HTTP/1.0\" 200 7 \"-\" \"Go-http-client/1.1\"\n2023-05-19 10:06:46,953 W [131] azmlinfsrv - x-ms-request-id header has been deprecated and will be removed from future versions of the server. Please use x-ms-client-request-id.\n2023-05-19 10:06:46,954 I [131] azmlinfsrv - GET /swagger.json 200 0.940ms 3178\n2023-05-19 10:06:46,959 I [131] gunicorn.access - 127.0.0.1 - - [19/May/2023:10:06:46 +0000] \"GET /swagger.json HTTP/1.0\" 200 3178 \"-\" \"Go-http-client/1.1\"\n2023-05-19 10:06:47,466 W [131] azmlinfsrv - x-ms-request-id header has been deprecated and will be removed from future versions of the server. Please use x-ms-client-request-id.\n2023-05-19 10:06:47,704 I [131] azmlinfsrv - POST /score 200 237.998ms 19\n2023-05-19 10:06:47,708 I [131] gunicorn.access - 127.0.0.1 - - [19/May/2023:10:06:47 +0000] \"POST /score HTTP/1.0\" 200 19 \"-\" \"python-requests/2.28.2\"\n2023-05-19 10:06:59,574 W [131] azmlinfsrv - x-ms-request-id header has been deprecated and will be removed from future versions of the server. Please use x-ms-client-request-id.\n2023-05-19 10:06:59,577 I [131] gunicorn.access - 127.0.0.1 - - [19/May/2023:10:06:59 +0000] \"GET / HTTP/1.0\" 200 7 \"-\" \"Go-http-client/1.1\"\n2023-05-19 10:06:59,584 W [131] azmlinfsrv - x-ms-request-id header has been deprecated and will be removed from future versions of the server. Please use x-ms-client-request-id.\n2023-05-19 10:06:59,585 I [131] azmlinfsrv - GET /swagger.json 200 1.055ms 3178\n2023-05-19 10:06:59,587 I [131] gunicorn.access - 127.0.0.1 - - [19/May/2023:10:06:59 +0000] \"GET /swagger.json HTTP/1.0\" 200 3178 \"-\" \"Go-http-client/1.1\"\n\n"
        }
      ],
      "execution_count": 51,
      "metadata": {
        "gather": {
          "logged": 1684490820520
        },
        "jupyter": {
          "outputs_hidden": false,
          "source_hidden": false
        },
        "nteract": {
          "transient": {
            "deleting": false
          }
        }
      }
    },
    {
      "cell_type": "code",
      "source": [
        "#end webservice\r\n",
        "service.delete()"
      ],
      "outputs": [],
      "execution_count": null,
      "metadata": {
        "jupyter": {
          "source_hidden": false,
          "outputs_hidden": false
        },
        "nteract": {
          "transient": {
            "deleting": false
          }
        }
      }
    },
    {
      "cell_type": "markdown",
      "source": [
        "**Submission Checklist**\n",
        "- I have registered the model.\n",
        "- I have deployed the model with the best accuracy as a webservice.\n",
        "- I have tested the webservice by sending a request to the model endpoint.\n",
        "- I have deleted the webservice and shutdown all the computes that I have used.\n",
        "- I have taken a screenshot showing the model endpoint as active.\n",
        "- The project includes a file containing the environment details.\n"
      ],
      "metadata": {}
    },
    {
      "cell_type": "markdown",
      "source": [],
      "metadata": {}
    }
  ],
  "metadata": {
    "kernel_info": {
      "name": "python38-azureml"
    },
    "kernelspec": {
      "name": "python38-azureml",
      "language": "python",
      "display_name": "Python 3.8 - AzureML"
    },
    "language_info": {
      "name": "python",
      "version": "3.8.5",
      "mimetype": "text/x-python",
      "codemirror_mode": {
        "name": "ipython",
        "version": 3
      },
      "pygments_lexer": "ipython3",
      "nbconvert_exporter": "python",
      "file_extension": ".py"
    },
    "microsoft": {
      "host": {
        "AzureML": {
          "notebookHasBeenCompleted": true
        }
      },
      "ms_spell_check": {
        "ms_spell_check_language": "en"
      }
    },
    "nteract": {
      "version": "nteract-front-end@1.0.0"
    }
  },
  "nbformat": 4,
  "nbformat_minor": 2
}